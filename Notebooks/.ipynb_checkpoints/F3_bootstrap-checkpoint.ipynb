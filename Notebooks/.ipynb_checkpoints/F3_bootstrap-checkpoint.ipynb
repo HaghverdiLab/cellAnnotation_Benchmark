{
 "cells": [
  {
   "cell_type": "code",
   "execution_count": 1,
   "id": "471c0c3a-69f3-461c-9f89-d00a248377a0",
   "metadata": {},
   "outputs": [
    {
     "name": "stderr",
     "output_type": "stream",
     "text": [
      "\n",
      "Attaching package: ‘dplyr’\n",
      "\n",
      "\n",
      "The following objects are masked from ‘package:stats’:\n",
      "\n",
      "    filter, lag\n",
      "\n",
      "\n",
      "The following objects are masked from ‘package:base’:\n",
      "\n",
      "    intersect, setdiff, setequal, union\n",
      "\n",
      "\n"
     ]
    }
   ],
   "source": [
    "source(\"../Scripts/functions.R\")\n",
    "source(\"../Scripts/visulizations.r\")\n",
    "library(\"RColorBrewer\")\n",
    "library(ggplot2)\n",
    "library(dplyr)\n",
    "library(purrr)"
   ]
  },
  {
   "cell_type": "code",
   "execution_count": 2,
   "id": "8bd2e262-bbfd-48d8-bce6-15a3d01476af",
   "metadata": {},
   "outputs": [],
   "source": [
    "celltypes = c(\"Cytotoxic T cell\", \"CD4+ T cell\", \"CD14+ monocyte\", \"B cell\", \"Megakaryocyte\",\n",
    "              \"Natural killer cell\", \"CD16+ monocyte\", \"Dendritic cell\", \"Plasmacytoid dendritic cell\")\n",
    "coi <- c(\"Cytotoxic T cell\", \"Dendritic cell\", \"Plasmacytoid dendritic cell\" ) # cell types of interest\n",
    "methods <- c(\"Seurat\",  \"SingleR\",\"CellID\", \"SingleCellNet\", \"ItClust\")\n",
    "\n",
    "colors <-brewer.pal(length(celltypes), \"Paired\")\n",
    "names(colors) <- celltypes"
   ]
  },
  {
   "cell_type": "code",
   "execution_count": 3,
   "id": "e196d78d-0950-4129-96a8-87827fc237e9",
   "metadata": {},
   "outputs": [],
   "source": [
    "umapdata <- read.csv(\"../Results_old/Files/umap_data.csv\")\n",
    "expressiondata_file=\"../Data/Fulldata/PBMC_Query/data.csv\"\n",
    "bootstrap_weighted <- read.csv(\"../Results_old/Files/summary_mono.csv\")\n",
    "\n",
    "rownames(umapdata) <- umapdata$id"
   ]
  },
  {
   "cell_type": "code",
   "execution_count": null,
   "id": "49c31442-543a-4446-abf6-f429593c36c4",
   "metadata": {},
   "outputs": [
    {
     "name": "stderr",
     "output_type": "stream",
     "text": [
      "Warning message in data.table::fread(data, sep = \",\", verbose = F):\n",
      "“Detected 10910 column names but the data has 10911 columns (i.e. invalid file). Added 1 extra default column name for the first column which is guessed to be row names or an index. Use setnames() afterwards if this guess is not correct, or fix the file write command that created the file to create a valid file.”\n"
     ]
    },
    {
     "name": "stdout",
     "output_type": "stream",
     "text": [
      "[1] 500\n",
      "[1] \"....\"\n",
      "[1] \"Scaling...\"\n"
     ]
    },
    {
     "name": "stderr",
     "output_type": "stream",
     "text": [
      "Warning message:\n",
      "“Argument 'center' should be of the same length as number of rows of 'x'. Use of a scalar value is deprecated: 1 != 500”\n"
     ]
    },
    {
     "name": "stdout",
     "output_type": "stream",
     "text": [
      "[1] \"create seurat object....\"\n",
      "[1] \"Set assay....\"\n",
      "[1] \"PCA....\"\n",
      "[1] \"Get UMAP...\"\n"
     ]
    },
    {
     "name": "stderr",
     "output_type": "stream",
     "text": [
      "Warning message:\n",
      "“The default method for RunUMAP has changed from calling Python UMAP via reticulate to the R-native UWOT using the cosine metric\n",
      "To use Python UMAP via reticulate, set umap.method to 'umap-learn' and metric to 'correlation'\n",
      "This message will be shown once per session”\n"
     ]
    }
   ],
   "source": [
    "umap <- prepare_umap(file = expressiondata_file, meta_data = umapdata, split = \"tech\")\n"
   ]
  },
  {
   "cell_type": "code",
   "execution_count": null,
   "id": "fea2131e-4b2c-45d9-9df7-4410a2c9ecc0",
   "metadata": {},
   "outputs": [],
   "source": [
    "options(repr.plot.width=15, repr.plot.height=6) \n",
    "plots <- plot_features(umap, c(paste(sep=\"_\", \"mono\",methods)), NULL,\n",
    "                     1,1, legend_ncol = 3) \n",
    "names(plots) <- methods\n",
    "plots <- lapply(seq(1,length(methods),1) , function(n) plots[[n]]+ \n",
    "                labs(title= methods[n]))\n",
    "f3a <- ggpubr::ggarrange(plotlist = plots, font.label = list(size = 10),\n",
    "                         common.legend = T, legend = \"top\", ncol=5, nrow=1)\n",
    "f3a\n"
   ]
  },
  {
   "cell_type": "code",
   "execution_count": null,
   "id": "e9d4271b-ff6e-4db4-bd51-93beebd83a89",
   "metadata": {},
   "outputs": [],
   "source": [
    "bootstrap_weighted$precision[is.na(bootstrap_weighted$precision)] <- 0\n",
    "bootstrap_weighted$full_precision[is.na(bootstrap_weighted$full_precision)] <- 0\n",
    "\n",
    "plot_accuracy <- get_violin_plot(bootstrap_weighted, colors, celltypes, methods,\n",
    "                                 \"Cell types\", \"Accuracy\", colors)\n",
    "plot_precision <- get_violin_plot(bootstrap_weighted, colors, celltypes, methods,\n",
    "                                  \"Cell types\", \"Precision\", colors)\n"
   ]
  },
  {
   "cell_type": "code",
   "execution_count": null,
   "id": "6989e5b4-1bcf-4418-8cb1-516efc79f1a9",
   "metadata": {},
   "outputs": [],
   "source": [
    "f3bc <- ggpubr::ggarrange(plot_accuracy,plot_precision, nrow=2, ncol=1, labels= c(\"B\", \"C\"),\n",
    "                        common.legend=T, legend=\"bottom\")\n",
    "\n",
    "f3 <- ggpubr::ggarrange(f3a, f3bc, nrow=2, ncol=1, labels= c(\"A\"),\n",
    "                        common.legend=F, heights=c(1.2, 2))\n",
    "f3"
   ]
  },
  {
   "cell_type": "code",
   "execution_count": null,
   "id": "d1993c4c-c401-4d37-b9e9-3441d9e08faa",
   "metadata": {},
   "outputs": [],
   "source": [
    "ggsave(\n",
    "  \"../Results/Figures/F3_PBMC_bootstrap.eps\",\n",
    "  plot = f3,\n",
    "  device = \"eps\",\n",
    "  path = NULL,\n",
    "  scale = 1,\n",
    "  width = 180,\n",
    "  height = 125,\n",
    "  units = \"mm\",\n",
    "  dpi = 300,\n",
    "  limitsize = TRUE,\n",
    "  bg = NULL\n",
    ")\n",
    "\n",
    "ggsave(\n",
    "  \"../Results/Figures/F3_PBMC_bootstrap.pdf\",\n",
    "  plot = f3,\n",
    "  device = \"pdf\",\n",
    "  path = NULL,\n",
    "  scale = 1,\n",
    "  width = 180,\n",
    "  height = 125,\n",
    "  units = \"mm\",\n",
    "  dpi = 300,\n",
    "  limitsize = TRUE,\n",
    "  bg = NULL\n",
    ")"
   ]
  }
 ],
 "metadata": {
  "kernelspec": {
   "display_name": "R",
   "language": "R",
   "name": "ir"
  },
  "language_info": {
   "codemirror_mode": "r",
   "file_extension": ".r",
   "mimetype": "text/x-r-source",
   "name": "R",
   "pygments_lexer": "r",
   "version": "4.2.2"
  }
 },
 "nbformat": 4,
 "nbformat_minor": 5
}
