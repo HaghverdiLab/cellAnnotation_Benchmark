{
 "cells": [
  {
   "cell_type": "code",
   "execution_count": 1,
   "id": "8bf3de56-f467-4697-a894-2eb42a4faf8b",
   "metadata": {},
   "outputs": [
    {
     "name": "stderr",
     "output_type": "stream",
     "text": [
      "\n",
      "Attaching package: ‘dplyr’\n",
      "\n",
      "\n",
      "The following objects are masked from ‘package:stats’:\n",
      "\n",
      "    filter, lag\n",
      "\n",
      "\n",
      "The following objects are masked from ‘package:base’:\n",
      "\n",
      "    intersect, setdiff, setequal, union\n",
      "\n",
      "\n"
     ]
    }
   ],
   "source": [
    "library(dplyr)\n",
    "\n",
    "getSeurat <- function(file, path, method){\n",
    "    data <- read.csv(paste(path,file, sep=\"/\"), sep=\"\\t\")\n",
    "    data$tag <- stringr::str_replace(file, \".txt\", \"\")\n",
    "    data$method <- method\n",
    "    data <- data[, c(\"id\", \"predicted\", \"tag\", \"method\")]\n",
    "    return(data)\n",
    "}\n",
    "\n",
    "get_measures <- function(data, type, ref, method, set){\n",
    "    data <- data[data$ref == ref & data$method == method & data$set == set,] \n",
    "    tp <- length(data$predicted[data$predicted == type & data$class_ == type])\n",
    "    fp <- length(data$predicted[data$predicted == type & data$class_ != type])\n",
    "    fn <- length(data$predicted[data$predicted != type & data$class_ == type])\n",
    "    tn <- length(data$predicted[data$predicted != type & data$class_ != type])\n",
    "    precision <- tp / (tp + fp)\n",
    "    recall <- tp / (tp + fn)\n",
    "    f1 <- 2*(precision * recall) / (precision + recall)\n",
    "    accuracy <- (tp) / length(data$predicted[data$class_ == type])\n",
    "    return(data.frame(\"class\"=type,\"reference\"=ref,\"method\"=method,\"set\"=set,\n",
    "                      \"precision\"=precision,\"recall\"=recall,\"f1\"=f1, \"accuracy\"=accuracy))\n",
    "}\n"
   ]
  },
  {
   "cell_type": "code",
   "execution_count": null,
   "id": "d395169f-cf43-4127-b4e9-11cf0371953f",
   "metadata": {},
   "outputs": [],
   "source": [
    "ref <- read.csv(\"../Data/Fulldata/PBMC10x_Reference/meta.csv\")\n",
    "full <- read.csv(\"../Results/Files/values_full.csv\")\n",
    "\n"
   ]
  },
  {
   "cell_type": "code",
   "execution_count": 2,
   "id": "ab3951a3-1bb3-4d21-8c11-179f167bcfb9",
   "metadata": {},
   "outputs": [
    {
     "data": {
      "text/html": [
       "<table class=\"dataframe\">\n",
       "<caption>A data.frame: 6 × 8</caption>\n",
       "<thead>\n",
       "\t<tr><th></th><th scope=col>id</th><th scope=col>nGene</th><th scope=col>nUMI</th><th scope=col>percent.mito</th><th scope=col>Cluster</th><th scope=col>class_</th><th scope=col>Experiment</th><th scope=col>Method</th></tr>\n",
       "\t<tr><th></th><th scope=col>&lt;chr&gt;</th><th scope=col>&lt;int&gt;</th><th scope=col>&lt;int&gt;</th><th scope=col>&lt;dbl&gt;</th><th scope=col>&lt;int&gt;</th><th scope=col>&lt;chr&gt;</th><th scope=col>&lt;chr&gt;</th><th scope=col>&lt;chr&gt;</th></tr>\n",
       "</thead>\n",
       "<tbody>\n",
       "\t<tr><th scope=row>1</th><td>pbmc1_10x_v2_A_AAAGATGCAAAGTCAA</td><td> 851</td><td>2177</td><td>0.03812586</td><td>5</td><td>CD14+ monocyte</td><td>pbmc1</td><td>10x</td></tr>\n",
       "\t<tr><th scope=row>2</th><td>pbmc1_10x_v2_A_AAAGCAAGTAGGAGTC</td><td>1078</td><td>3065</td><td>0.04176183</td><td>5</td><td>CD14+ monocyte</td><td>pbmc1</td><td>10x</td></tr>\n",
       "\t<tr><th scope=row>3</th><td>pbmc1_10x_v2_A_AAAGCAATCGGTTCGG</td><td> 538</td><td> 977</td><td>0.09928352</td><td>4</td><td>CD14+ monocyte</td><td>pbmc1</td><td>10x</td></tr>\n",
       "\t<tr><th scope=row>4</th><td>pbmc1_10x_v2_A_AAAGTAGTCATTTGGG</td><td>1544</td><td>4933</td><td>0.04277316</td><td>5</td><td>CD14+ monocyte</td><td>pbmc1</td><td>10x</td></tr>\n",
       "\t<tr><th scope=row>5</th><td>pbmc1_10x_v2_A_AAAGTAGTCCGAGCCA</td><td> 632</td><td>1487</td><td>0.04774714</td><td>4</td><td>CD14+ monocyte</td><td>pbmc1</td><td>10x</td></tr>\n",
       "\t<tr><th scope=row>6</th><td>pbmc1_10x_v2_A_AAATGCCGTGGCAAAC</td><td> 666</td><td>1575</td><td>0.04888889</td><td>4</td><td>CD14+ monocyte</td><td>pbmc1</td><td>10x</td></tr>\n",
       "</tbody>\n",
       "</table>\n"
      ],
      "text/latex": [
       "A data.frame: 6 × 8\n",
       "\\begin{tabular}{r|llllllll}\n",
       "  & id & nGene & nUMI & percent.mito & Cluster & class\\_ & Experiment & Method\\\\\n",
       "  & <chr> & <int> & <int> & <dbl> & <int> & <chr> & <chr> & <chr>\\\\\n",
       "\\hline\n",
       "\t1 & pbmc1\\_10x\\_v2\\_A\\_AAAGATGCAAAGTCAA &  851 & 2177 & 0.03812586 & 5 & CD14+ monocyte & pbmc1 & 10x\\\\\n",
       "\t2 & pbmc1\\_10x\\_v2\\_A\\_AAAGCAAGTAGGAGTC & 1078 & 3065 & 0.04176183 & 5 & CD14+ monocyte & pbmc1 & 10x\\\\\n",
       "\t3 & pbmc1\\_10x\\_v2\\_A\\_AAAGCAATCGGTTCGG &  538 &  977 & 0.09928352 & 4 & CD14+ monocyte & pbmc1 & 10x\\\\\n",
       "\t4 & pbmc1\\_10x\\_v2\\_A\\_AAAGTAGTCATTTGGG & 1544 & 4933 & 0.04277316 & 5 & CD14+ monocyte & pbmc1 & 10x\\\\\n",
       "\t5 & pbmc1\\_10x\\_v2\\_A\\_AAAGTAGTCCGAGCCA &  632 & 1487 & 0.04774714 & 4 & CD14+ monocyte & pbmc1 & 10x\\\\\n",
       "\t6 & pbmc1\\_10x\\_v2\\_A\\_AAATGCCGTGGCAAAC &  666 & 1575 & 0.04888889 & 4 & CD14+ monocyte & pbmc1 & 10x\\\\\n",
       "\\end{tabular}\n"
      ],
      "text/markdown": [
       "\n",
       "A data.frame: 6 × 8\n",
       "\n",
       "| <!--/--> | id &lt;chr&gt; | nGene &lt;int&gt; | nUMI &lt;int&gt; | percent.mito &lt;dbl&gt; | Cluster &lt;int&gt; | class_ &lt;chr&gt; | Experiment &lt;chr&gt; | Method &lt;chr&gt; |\n",
       "|---|---|---|---|---|---|---|---|---|\n",
       "| 1 | pbmc1_10x_v2_A_AAAGATGCAAAGTCAA |  851 | 2177 | 0.03812586 | 5 | CD14+ monocyte | pbmc1 | 10x |\n",
       "| 2 | pbmc1_10x_v2_A_AAAGCAAGTAGGAGTC | 1078 | 3065 | 0.04176183 | 5 | CD14+ monocyte | pbmc1 | 10x |\n",
       "| 3 | pbmc1_10x_v2_A_AAAGCAATCGGTTCGG |  538 |  977 | 0.09928352 | 4 | CD14+ monocyte | pbmc1 | 10x |\n",
       "| 4 | pbmc1_10x_v2_A_AAAGTAGTCATTTGGG | 1544 | 4933 | 0.04277316 | 5 | CD14+ monocyte | pbmc1 | 10x |\n",
       "| 5 | pbmc1_10x_v2_A_AAAGTAGTCCGAGCCA |  632 | 1487 | 0.04774714 | 4 | CD14+ monocyte | pbmc1 | 10x |\n",
       "| 6 | pbmc1_10x_v2_A_AAATGCCGTGGCAAAC |  666 | 1575 | 0.04888889 | 4 | CD14+ monocyte | pbmc1 | 10x |\n",
       "\n"
      ],
      "text/plain": [
       "  id                              nGene nUMI percent.mito Cluster\n",
       "1 pbmc1_10x_v2_A_AAAGATGCAAAGTCAA  851  2177 0.03812586   5      \n",
       "2 pbmc1_10x_v2_A_AAAGCAAGTAGGAGTC 1078  3065 0.04176183   5      \n",
       "3 pbmc1_10x_v2_A_AAAGCAATCGGTTCGG  538   977 0.09928352   4      \n",
       "4 pbmc1_10x_v2_A_AAAGTAGTCATTTGGG 1544  4933 0.04277316   5      \n",
       "5 pbmc1_10x_v2_A_AAAGTAGTCCGAGCCA  632  1487 0.04774714   4      \n",
       "6 pbmc1_10x_v2_A_AAATGCCGTGGCAAAC  666  1575 0.04888889   4      \n",
       "  class_         Experiment Method\n",
       "1 CD14+ monocyte pbmc1      10x   \n",
       "2 CD14+ monocyte pbmc1      10x   \n",
       "3 CD14+ monocyte pbmc1      10x   \n",
       "4 CD14+ monocyte pbmc1      10x   \n",
       "5 CD14+ monocyte pbmc1      10x   \n",
       "6 CD14+ monocyte pbmc1      10x   "
      ]
     },
     "metadata": {},
     "output_type": "display_data"
    }
   ],
   "source": [
    "celltypes = c(\"Cytotoxic T cell\", \"CD4+ T cell\", \"CD14+ monocyte\", \"B cell\", \"Megakaryocyte\",\n",
    "              \"Natural killer cell\",\n",
    "              \"CD16+ monocyte\", \"Dendritic cell\", \"Plasmacytoid dendritic cell\")\n",
    "methods <- c(\"Seurat\",  \"SingleR\",\"CellID\", \"SingleCellNet\", \"ItClust\")   "
   ]
  },
  {
   "cell_type": "code",
   "execution_count": 3,
   "id": "45f55dae-7d9e-49e0-b803-59e3369c441d",
   "metadata": {},
   "outputs": [
    {
     "data": {
      "text/html": [
       "<table class=\"dataframe\">\n",
       "<caption>A data.frame: 6 × 4</caption>\n",
       "<thead>\n",
       "\t<tr><th></th><th scope=col>id</th><th scope=col>predicted</th><th scope=col>tag</th><th scope=col>method</th></tr>\n",
       "\t<tr><th></th><th scope=col>&lt;chr&gt;</th><th scope=col>&lt;chr&gt;</th><th scope=col>&lt;chr&gt;</th><th scope=col>&lt;chr&gt;</th></tr>\n",
       "</thead>\n",
       "<tbody>\n",
       "\t<tr><th scope=row>pbmc2_Celseq2_1_ACGTAC</th><td>pbmc2_Celseq2_1_ACGTAC</td><td>Natural killer cell</td><td>PBMC10x_3090_0_1000</td><td>Seurat</td></tr>\n",
       "\t<tr><th scope=row>pbmc2_Celseq2_1_ACTCTG</th><td>pbmc2_Celseq2_1_ACTCTG</td><td>CD4+ T cell        </td><td>PBMC10x_3090_0_1000</td><td>Seurat</td></tr>\n",
       "\t<tr><th scope=row>pbmc2_Celseq2_1_AGACCA</th><td>pbmc2_Celseq2_1_AGACCA</td><td>CD4+ T cell        </td><td>PBMC10x_3090_0_1000</td><td>Seurat</td></tr>\n",
       "\t<tr><th scope=row>pbmc2_Celseq2_1_AGGACA</th><td>pbmc2_Celseq2_1_AGGACA</td><td>Natural killer cell</td><td>PBMC10x_3090_0_1000</td><td>Seurat</td></tr>\n",
       "\t<tr><th scope=row>pbmc2_Celseq2_1_AGTGTC</th><td>pbmc2_Celseq2_1_AGTGTC</td><td>Natural killer cell</td><td>PBMC10x_3090_0_1000</td><td>Seurat</td></tr>\n",
       "\t<tr><th scope=row>pbmc2_Celseq2_1_CAACTC</th><td>pbmc2_Celseq2_1_CAACTC</td><td>Natural killer cell</td><td>PBMC10x_3090_0_1000</td><td>Seurat</td></tr>\n",
       "</tbody>\n",
       "</table>\n"
      ],
      "text/latex": [
       "A data.frame: 6 × 4\n",
       "\\begin{tabular}{r|llll}\n",
       "  & id & predicted & tag & method\\\\\n",
       "  & <chr> & <chr> & <chr> & <chr>\\\\\n",
       "\\hline\n",
       "\tpbmc2\\_Celseq2\\_1\\_ACGTAC & pbmc2\\_Celseq2\\_1\\_ACGTAC & Natural killer cell & PBMC10x\\_3090\\_0\\_1000 & Seurat\\\\\n",
       "\tpbmc2\\_Celseq2\\_1\\_ACTCTG & pbmc2\\_Celseq2\\_1\\_ACTCTG & CD4+ T cell         & PBMC10x\\_3090\\_0\\_1000 & Seurat\\\\\n",
       "\tpbmc2\\_Celseq2\\_1\\_AGACCA & pbmc2\\_Celseq2\\_1\\_AGACCA & CD4+ T cell         & PBMC10x\\_3090\\_0\\_1000 & Seurat\\\\\n",
       "\tpbmc2\\_Celseq2\\_1\\_AGGACA & pbmc2\\_Celseq2\\_1\\_AGGACA & Natural killer cell & PBMC10x\\_3090\\_0\\_1000 & Seurat\\\\\n",
       "\tpbmc2\\_Celseq2\\_1\\_AGTGTC & pbmc2\\_Celseq2\\_1\\_AGTGTC & Natural killer cell & PBMC10x\\_3090\\_0\\_1000 & Seurat\\\\\n",
       "\tpbmc2\\_Celseq2\\_1\\_CAACTC & pbmc2\\_Celseq2\\_1\\_CAACTC & Natural killer cell & PBMC10x\\_3090\\_0\\_1000 & Seurat\\\\\n",
       "\\end{tabular}\n"
      ],
      "text/markdown": [
       "\n",
       "A data.frame: 6 × 4\n",
       "\n",
       "| <!--/--> | id &lt;chr&gt; | predicted &lt;chr&gt; | tag &lt;chr&gt; | method &lt;chr&gt; |\n",
       "|---|---|---|---|---|\n",
       "| pbmc2_Celseq2_1_ACGTAC | pbmc2_Celseq2_1_ACGTAC | Natural killer cell | PBMC10x_3090_0_1000 | Seurat |\n",
       "| pbmc2_Celseq2_1_ACTCTG | pbmc2_Celseq2_1_ACTCTG | CD4+ T cell         | PBMC10x_3090_0_1000 | Seurat |\n",
       "| pbmc2_Celseq2_1_AGACCA | pbmc2_Celseq2_1_AGACCA | CD4+ T cell         | PBMC10x_3090_0_1000 | Seurat |\n",
       "| pbmc2_Celseq2_1_AGGACA | pbmc2_Celseq2_1_AGGACA | Natural killer cell | PBMC10x_3090_0_1000 | Seurat |\n",
       "| pbmc2_Celseq2_1_AGTGTC | pbmc2_Celseq2_1_AGTGTC | Natural killer cell | PBMC10x_3090_0_1000 | Seurat |\n",
       "| pbmc2_Celseq2_1_CAACTC | pbmc2_Celseq2_1_CAACTC | Natural killer cell | PBMC10x_3090_0_1000 | Seurat |\n",
       "\n"
      ],
      "text/plain": [
       "                       id                     predicted          \n",
       "pbmc2_Celseq2_1_ACGTAC pbmc2_Celseq2_1_ACGTAC Natural killer cell\n",
       "pbmc2_Celseq2_1_ACTCTG pbmc2_Celseq2_1_ACTCTG CD4+ T cell        \n",
       "pbmc2_Celseq2_1_AGACCA pbmc2_Celseq2_1_AGACCA CD4+ T cell        \n",
       "pbmc2_Celseq2_1_AGGACA pbmc2_Celseq2_1_AGGACA Natural killer cell\n",
       "pbmc2_Celseq2_1_AGTGTC pbmc2_Celseq2_1_AGTGTC Natural killer cell\n",
       "pbmc2_Celseq2_1_CAACTC pbmc2_Celseq2_1_CAACTC Natural killer cell\n",
       "                       tag                 method\n",
       "pbmc2_Celseq2_1_ACGTAC PBMC10x_3090_0_1000 Seurat\n",
       "pbmc2_Celseq2_1_ACTCTG PBMC10x_3090_0_1000 Seurat\n",
       "pbmc2_Celseq2_1_AGACCA PBMC10x_3090_0_1000 Seurat\n",
       "pbmc2_Celseq2_1_AGGACA PBMC10x_3090_0_1000 Seurat\n",
       "pbmc2_Celseq2_1_AGTGTC PBMC10x_3090_0_1000 Seurat\n",
       "pbmc2_Celseq2_1_CAACTC PBMC10x_3090_0_1000 Seurat"
      ]
     },
     "metadata": {},
     "output_type": "display_data"
    }
   ],
   "source": [
    "path <- \"../Data/Predictions_curated/Seurat/\"\n",
    "seurat_files <- list.files(path, full.names = F)\n",
    "seurat_files <- seurat_files[stringr::str_detect(seurat_files, \"1000_pred\", negate = T)]\n",
    "\n",
    "seurat <- do.call(rbind, lapply(seurat_files, function(file) getSeurat(file, path, \"Seurat\")))\n",
    "head(seurat)"
   ]
  },
  {
   "cell_type": "code",
   "execution_count": 4,
   "id": "2fb61db6-8b2e-4e4d-ae9b-96d2042a6094",
   "metadata": {},
   "outputs": [
    {
     "data": {
      "text/html": [
       "<table class=\"dataframe\">\n",
       "<caption>A data.frame: 6 × 4</caption>\n",
       "<thead>\n",
       "\t<tr><th></th><th scope=col>id</th><th scope=col>predicted</th><th scope=col>tag</th><th scope=col>method</th></tr>\n",
       "\t<tr><th></th><th scope=col>&lt;chr&gt;</th><th scope=col>&lt;chr&gt;</th><th scope=col>&lt;chr&gt;</th><th scope=col>&lt;chr&gt;</th></tr>\n",
       "</thead>\n",
       "<tbody>\n",
       "\t<tr><th scope=row>1</th><td>pbmc2_10X_V2_AAACCTGAGATGGGTC</td><td>B cell        </td><td>PBMC10x_3090_0_1000</td><td>SingleR</td></tr>\n",
       "\t<tr><th scope=row>2</th><td>pbmc2_10X_V2_AAACCTGAGCGTAATA</td><td>B cell        </td><td>PBMC10x_3090_0_1000</td><td>SingleR</td></tr>\n",
       "\t<tr><th scope=row>3</th><td>pbmc2_10X_V2_AAACCTGAGCTAGGCA</td><td>CD4+ T cell   </td><td>PBMC10x_3090_0_1000</td><td>SingleR</td></tr>\n",
       "\t<tr><th scope=row>4</th><td>pbmc2_10X_V2_AAACCTGAGGGTCTCC</td><td>Dendritic cell</td><td>PBMC10x_3090_0_1000</td><td>SingleR</td></tr>\n",
       "\t<tr><th scope=row>5</th><td>pbmc2_10X_V2_AAACCTGGTCCGAACC</td><td>CD4+ T cell   </td><td>PBMC10x_3090_0_1000</td><td>SingleR</td></tr>\n",
       "\t<tr><th scope=row>6</th><td>pbmc2_10X_V2_AAACCTGTCGTCCGTT</td><td>CD4+ T cell   </td><td>PBMC10x_3090_0_1000</td><td>SingleR</td></tr>\n",
       "</tbody>\n",
       "</table>\n"
      ],
      "text/latex": [
       "A data.frame: 6 × 4\n",
       "\\begin{tabular}{r|llll}\n",
       "  & id & predicted & tag & method\\\\\n",
       "  & <chr> & <chr> & <chr> & <chr>\\\\\n",
       "\\hline\n",
       "\t1 & pbmc2\\_10X\\_V2\\_AAACCTGAGATGGGTC & B cell         & PBMC10x\\_3090\\_0\\_1000 & SingleR\\\\\n",
       "\t2 & pbmc2\\_10X\\_V2\\_AAACCTGAGCGTAATA & B cell         & PBMC10x\\_3090\\_0\\_1000 & SingleR\\\\\n",
       "\t3 & pbmc2\\_10X\\_V2\\_AAACCTGAGCTAGGCA & CD4+ T cell    & PBMC10x\\_3090\\_0\\_1000 & SingleR\\\\\n",
       "\t4 & pbmc2\\_10X\\_V2\\_AAACCTGAGGGTCTCC & Dendritic cell & PBMC10x\\_3090\\_0\\_1000 & SingleR\\\\\n",
       "\t5 & pbmc2\\_10X\\_V2\\_AAACCTGGTCCGAACC & CD4+ T cell    & PBMC10x\\_3090\\_0\\_1000 & SingleR\\\\\n",
       "\t6 & pbmc2\\_10X\\_V2\\_AAACCTGTCGTCCGTT & CD4+ T cell    & PBMC10x\\_3090\\_0\\_1000 & SingleR\\\\\n",
       "\\end{tabular}\n"
      ],
      "text/markdown": [
       "\n",
       "A data.frame: 6 × 4\n",
       "\n",
       "| <!--/--> | id &lt;chr&gt; | predicted &lt;chr&gt; | tag &lt;chr&gt; | method &lt;chr&gt; |\n",
       "|---|---|---|---|---|\n",
       "| 1 | pbmc2_10X_V2_AAACCTGAGATGGGTC | B cell         | PBMC10x_3090_0_1000 | SingleR |\n",
       "| 2 | pbmc2_10X_V2_AAACCTGAGCGTAATA | B cell         | PBMC10x_3090_0_1000 | SingleR |\n",
       "| 3 | pbmc2_10X_V2_AAACCTGAGCTAGGCA | CD4+ T cell    | PBMC10x_3090_0_1000 | SingleR |\n",
       "| 4 | pbmc2_10X_V2_AAACCTGAGGGTCTCC | Dendritic cell | PBMC10x_3090_0_1000 | SingleR |\n",
       "| 5 | pbmc2_10X_V2_AAACCTGGTCCGAACC | CD4+ T cell    | PBMC10x_3090_0_1000 | SingleR |\n",
       "| 6 | pbmc2_10X_V2_AAACCTGTCGTCCGTT | CD4+ T cell    | PBMC10x_3090_0_1000 | SingleR |\n",
       "\n"
      ],
      "text/plain": [
       "  id                            predicted      tag                 method \n",
       "1 pbmc2_10X_V2_AAACCTGAGATGGGTC B cell         PBMC10x_3090_0_1000 SingleR\n",
       "2 pbmc2_10X_V2_AAACCTGAGCGTAATA B cell         PBMC10x_3090_0_1000 SingleR\n",
       "3 pbmc2_10X_V2_AAACCTGAGCTAGGCA CD4+ T cell    PBMC10x_3090_0_1000 SingleR\n",
       "4 pbmc2_10X_V2_AAACCTGAGGGTCTCC Dendritic cell PBMC10x_3090_0_1000 SingleR\n",
       "5 pbmc2_10X_V2_AAACCTGGTCCGAACC CD4+ T cell    PBMC10x_3090_0_1000 SingleR\n",
       "6 pbmc2_10X_V2_AAACCTGTCGTCCGTT CD4+ T cell    PBMC10x_3090_0_1000 SingleR"
      ]
     },
     "metadata": {},
     "output_type": "display_data"
    }
   ],
   "source": [
    "path <- \"../Data/Predictions_curated/SingleR/\"\n",
    "singler_files <- list.files(path, full.names = F)\n",
    "singler<- do.call(rbind, lapply(singler_files, function(file) getSeurat(file, path, \"SingleR\")))\n",
    "head(singler)"
   ]
  },
  {
   "cell_type": "code",
   "execution_count": 5,
   "id": "753b7413-882c-4118-9f35-df3aa088d98a",
   "metadata": {},
   "outputs": [
    {
     "data": {
      "text/html": [
       "<table class=\"dataframe\">\n",
       "<caption>A data.frame: 6 × 4</caption>\n",
       "<thead>\n",
       "\t<tr><th></th><th scope=col>id</th><th scope=col>predicted</th><th scope=col>tag</th><th scope=col>method</th></tr>\n",
       "\t<tr><th></th><th scope=col>&lt;chr&gt;</th><th scope=col>&lt;chr&gt;</th><th scope=col>&lt;chr&gt;</th><th scope=col>&lt;chr&gt;</th></tr>\n",
       "</thead>\n",
       "<tbody>\n",
       "\t<tr><th scope=row>1</th><td>pbmc2_10X_V2_AAACCTGAGATGGGTC</td><td>B cell          </td><td>PBMC10x_3090_0_1000</td><td>SingleCellNet</td></tr>\n",
       "\t<tr><th scope=row>2</th><td>pbmc2_10X_V2_AAACCTGAGCGTAATA</td><td>B cell          </td><td>PBMC10x_3090_0_1000</td><td>SingleCellNet</td></tr>\n",
       "\t<tr><th scope=row>3</th><td>pbmc2_10X_V2_AAACCTGAGCTAGGCA</td><td>Cytotoxic T cell</td><td>PBMC10x_3090_0_1000</td><td>SingleCellNet</td></tr>\n",
       "\t<tr><th scope=row>4</th><td>pbmc2_10X_V2_AAACCTGAGGGTCTCC</td><td>Dendritic cell  </td><td>PBMC10x_3090_0_1000</td><td>SingleCellNet</td></tr>\n",
       "\t<tr><th scope=row>5</th><td>pbmc2_10X_V2_AAACCTGGTCCGAACC</td><td>CD4+ T cell     </td><td>PBMC10x_3090_0_1000</td><td>SingleCellNet</td></tr>\n",
       "\t<tr><th scope=row>6</th><td>pbmc2_10X_V2_AAACCTGTCGTCCGTT</td><td>CD4+ T cell     </td><td>PBMC10x_3090_0_1000</td><td>SingleCellNet</td></tr>\n",
       "</tbody>\n",
       "</table>\n"
      ],
      "text/latex": [
       "A data.frame: 6 × 4\n",
       "\\begin{tabular}{r|llll}\n",
       "  & id & predicted & tag & method\\\\\n",
       "  & <chr> & <chr> & <chr> & <chr>\\\\\n",
       "\\hline\n",
       "\t1 & pbmc2\\_10X\\_V2\\_AAACCTGAGATGGGTC & B cell           & PBMC10x\\_3090\\_0\\_1000 & SingleCellNet\\\\\n",
       "\t2 & pbmc2\\_10X\\_V2\\_AAACCTGAGCGTAATA & B cell           & PBMC10x\\_3090\\_0\\_1000 & SingleCellNet\\\\\n",
       "\t3 & pbmc2\\_10X\\_V2\\_AAACCTGAGCTAGGCA & Cytotoxic T cell & PBMC10x\\_3090\\_0\\_1000 & SingleCellNet\\\\\n",
       "\t4 & pbmc2\\_10X\\_V2\\_AAACCTGAGGGTCTCC & Dendritic cell   & PBMC10x\\_3090\\_0\\_1000 & SingleCellNet\\\\\n",
       "\t5 & pbmc2\\_10X\\_V2\\_AAACCTGGTCCGAACC & CD4+ T cell      & PBMC10x\\_3090\\_0\\_1000 & SingleCellNet\\\\\n",
       "\t6 & pbmc2\\_10X\\_V2\\_AAACCTGTCGTCCGTT & CD4+ T cell      & PBMC10x\\_3090\\_0\\_1000 & SingleCellNet\\\\\n",
       "\\end{tabular}\n"
      ],
      "text/markdown": [
       "\n",
       "A data.frame: 6 × 4\n",
       "\n",
       "| <!--/--> | id &lt;chr&gt; | predicted &lt;chr&gt; | tag &lt;chr&gt; | method &lt;chr&gt; |\n",
       "|---|---|---|---|---|\n",
       "| 1 | pbmc2_10X_V2_AAACCTGAGATGGGTC | B cell           | PBMC10x_3090_0_1000 | SingleCellNet |\n",
       "| 2 | pbmc2_10X_V2_AAACCTGAGCGTAATA | B cell           | PBMC10x_3090_0_1000 | SingleCellNet |\n",
       "| 3 | pbmc2_10X_V2_AAACCTGAGCTAGGCA | Cytotoxic T cell | PBMC10x_3090_0_1000 | SingleCellNet |\n",
       "| 4 | pbmc2_10X_V2_AAACCTGAGGGTCTCC | Dendritic cell   | PBMC10x_3090_0_1000 | SingleCellNet |\n",
       "| 5 | pbmc2_10X_V2_AAACCTGGTCCGAACC | CD4+ T cell      | PBMC10x_3090_0_1000 | SingleCellNet |\n",
       "| 6 | pbmc2_10X_V2_AAACCTGTCGTCCGTT | CD4+ T cell      | PBMC10x_3090_0_1000 | SingleCellNet |\n",
       "\n"
      ],
      "text/plain": [
       "  id                            predicted        tag                \n",
       "1 pbmc2_10X_V2_AAACCTGAGATGGGTC B cell           PBMC10x_3090_0_1000\n",
       "2 pbmc2_10X_V2_AAACCTGAGCGTAATA B cell           PBMC10x_3090_0_1000\n",
       "3 pbmc2_10X_V2_AAACCTGAGCTAGGCA Cytotoxic T cell PBMC10x_3090_0_1000\n",
       "4 pbmc2_10X_V2_AAACCTGAGGGTCTCC Dendritic cell   PBMC10x_3090_0_1000\n",
       "5 pbmc2_10X_V2_AAACCTGGTCCGAACC CD4+ T cell      PBMC10x_3090_0_1000\n",
       "6 pbmc2_10X_V2_AAACCTGTCGTCCGTT CD4+ T cell      PBMC10x_3090_0_1000\n",
       "  method       \n",
       "1 SingleCellNet\n",
       "2 SingleCellNet\n",
       "3 SingleCellNet\n",
       "4 SingleCellNet\n",
       "5 SingleCellNet\n",
       "6 SingleCellNet"
      ]
     },
     "metadata": {},
     "output_type": "display_data"
    }
   ],
   "source": [
    "path <- \"../Data/Predictions_curated/SingleCellNet/\"\n",
    "scn_files <- list.files(path, full.names = F)\n",
    "scn <- do.call(rbind, lapply(scn_files, function(file) getSeurat(file, path, \"SingleCellNet\")))\n",
    "head(scn)"
   ]
  },
  {
   "cell_type": "code",
   "execution_count": 6,
   "id": "436cde16-384e-4c4f-bca2-4b2cc66143f5",
   "metadata": {},
   "outputs": [
    {
     "data": {
      "text/html": [
       "<table class=\"dataframe\">\n",
       "<caption>A data.frame: 6 × 4</caption>\n",
       "<thead>\n",
       "\t<tr><th></th><th scope=col>id</th><th scope=col>predicted</th><th scope=col>tag</th><th scope=col>method</th></tr>\n",
       "\t<tr><th></th><th scope=col>&lt;chr&gt;</th><th scope=col>&lt;chr&gt;</th><th scope=col>&lt;chr&gt;</th><th scope=col>&lt;chr&gt;</th></tr>\n",
       "</thead>\n",
       "<tbody>\n",
       "\t<tr><th scope=row>pbmc2_Celseq2_1_ACGTAC</th><td>pbmc2_Celseq2_1_ACGTAC</td><td>Dendritic cell</td><td>PBMC10x_3090_0_1000</td><td>CellID</td></tr>\n",
       "\t<tr><th scope=row>pbmc2_Celseq2_1_ACTCTG</th><td>pbmc2_Celseq2_1_ACTCTG</td><td>Dendritic cell</td><td>PBMC10x_3090_0_1000</td><td>CellID</td></tr>\n",
       "\t<tr><th scope=row>pbmc2_Celseq2_1_AGACCA</th><td>pbmc2_Celseq2_1_AGACCA</td><td>Dendritic cell</td><td>PBMC10x_3090_0_1000</td><td>CellID</td></tr>\n",
       "\t<tr><th scope=row>pbmc2_Celseq2_1_AGGACA</th><td>pbmc2_Celseq2_1_AGGACA</td><td>Dendritic cell</td><td>PBMC10x_3090_0_1000</td><td>CellID</td></tr>\n",
       "\t<tr><th scope=row>pbmc2_Celseq2_1_AGTGTC</th><td>pbmc2_Celseq2_1_AGTGTC</td><td>Dendritic cell</td><td>PBMC10x_3090_0_1000</td><td>CellID</td></tr>\n",
       "\t<tr><th scope=row>pbmc2_Celseq2_1_CAACTC</th><td>pbmc2_Celseq2_1_CAACTC</td><td>Dendritic cell</td><td>PBMC10x_3090_0_1000</td><td>CellID</td></tr>\n",
       "</tbody>\n",
       "</table>\n"
      ],
      "text/latex": [
       "A data.frame: 6 × 4\n",
       "\\begin{tabular}{r|llll}\n",
       "  & id & predicted & tag & method\\\\\n",
       "  & <chr> & <chr> & <chr> & <chr>\\\\\n",
       "\\hline\n",
       "\tpbmc2\\_Celseq2\\_1\\_ACGTAC & pbmc2\\_Celseq2\\_1\\_ACGTAC & Dendritic cell & PBMC10x\\_3090\\_0\\_1000 & CellID\\\\\n",
       "\tpbmc2\\_Celseq2\\_1\\_ACTCTG & pbmc2\\_Celseq2\\_1\\_ACTCTG & Dendritic cell & PBMC10x\\_3090\\_0\\_1000 & CellID\\\\\n",
       "\tpbmc2\\_Celseq2\\_1\\_AGACCA & pbmc2\\_Celseq2\\_1\\_AGACCA & Dendritic cell & PBMC10x\\_3090\\_0\\_1000 & CellID\\\\\n",
       "\tpbmc2\\_Celseq2\\_1\\_AGGACA & pbmc2\\_Celseq2\\_1\\_AGGACA & Dendritic cell & PBMC10x\\_3090\\_0\\_1000 & CellID\\\\\n",
       "\tpbmc2\\_Celseq2\\_1\\_AGTGTC & pbmc2\\_Celseq2\\_1\\_AGTGTC & Dendritic cell & PBMC10x\\_3090\\_0\\_1000 & CellID\\\\\n",
       "\tpbmc2\\_Celseq2\\_1\\_CAACTC & pbmc2\\_Celseq2\\_1\\_CAACTC & Dendritic cell & PBMC10x\\_3090\\_0\\_1000 & CellID\\\\\n",
       "\\end{tabular}\n"
      ],
      "text/markdown": [
       "\n",
       "A data.frame: 6 × 4\n",
       "\n",
       "| <!--/--> | id &lt;chr&gt; | predicted &lt;chr&gt; | tag &lt;chr&gt; | method &lt;chr&gt; |\n",
       "|---|---|---|---|---|\n",
       "| pbmc2_Celseq2_1_ACGTAC | pbmc2_Celseq2_1_ACGTAC | Dendritic cell | PBMC10x_3090_0_1000 | CellID |\n",
       "| pbmc2_Celseq2_1_ACTCTG | pbmc2_Celseq2_1_ACTCTG | Dendritic cell | PBMC10x_3090_0_1000 | CellID |\n",
       "| pbmc2_Celseq2_1_AGACCA | pbmc2_Celseq2_1_AGACCA | Dendritic cell | PBMC10x_3090_0_1000 | CellID |\n",
       "| pbmc2_Celseq2_1_AGGACA | pbmc2_Celseq2_1_AGGACA | Dendritic cell | PBMC10x_3090_0_1000 | CellID |\n",
       "| pbmc2_Celseq2_1_AGTGTC | pbmc2_Celseq2_1_AGTGTC | Dendritic cell | PBMC10x_3090_0_1000 | CellID |\n",
       "| pbmc2_Celseq2_1_CAACTC | pbmc2_Celseq2_1_CAACTC | Dendritic cell | PBMC10x_3090_0_1000 | CellID |\n",
       "\n"
      ],
      "text/plain": [
       "                       id                     predicted     \n",
       "pbmc2_Celseq2_1_ACGTAC pbmc2_Celseq2_1_ACGTAC Dendritic cell\n",
       "pbmc2_Celseq2_1_ACTCTG pbmc2_Celseq2_1_ACTCTG Dendritic cell\n",
       "pbmc2_Celseq2_1_AGACCA pbmc2_Celseq2_1_AGACCA Dendritic cell\n",
       "pbmc2_Celseq2_1_AGGACA pbmc2_Celseq2_1_AGGACA Dendritic cell\n",
       "pbmc2_Celseq2_1_AGTGTC pbmc2_Celseq2_1_AGTGTC Dendritic cell\n",
       "pbmc2_Celseq2_1_CAACTC pbmc2_Celseq2_1_CAACTC Dendritic cell\n",
       "                       tag                 method\n",
       "pbmc2_Celseq2_1_ACGTAC PBMC10x_3090_0_1000 CellID\n",
       "pbmc2_Celseq2_1_ACTCTG PBMC10x_3090_0_1000 CellID\n",
       "pbmc2_Celseq2_1_AGACCA PBMC10x_3090_0_1000 CellID\n",
       "pbmc2_Celseq2_1_AGGACA PBMC10x_3090_0_1000 CellID\n",
       "pbmc2_Celseq2_1_AGTGTC PBMC10x_3090_0_1000 CellID\n",
       "pbmc2_Celseq2_1_CAACTC PBMC10x_3090_0_1000 CellID"
      ]
     },
     "metadata": {},
     "output_type": "display_data"
    }
   ],
   "source": [
    "path <- \"../Data/Predictions_curated/CellID/\"\n",
    "cellid_files <- list.files(path, full.names = F)\n",
    "cellid <- do.call(rbind, lapply(cellid_files, function(file) getSeurat(file, path, \"CellID\")))\n",
    "head(cellid)"
   ]
  },
  {
   "cell_type": "code",
   "execution_count": 7,
   "id": "36c17787-b716-4708-b96a-ecc6fd084d3c",
   "metadata": {},
   "outputs": [
    {
     "data": {
      "text/html": [
       "<table class=\"dataframe\">\n",
       "<caption>A data.frame: 6 × 7</caption>\n",
       "<thead>\n",
       "\t<tr><th></th><th scope=col>id</th><th scope=col>predicted</th><th scope=col>tag</th><th scope=col>method</th><th scope=col>reference</th><th scope=col>size</th><th scope=col>set</th></tr>\n",
       "\t<tr><th></th><th scope=col>&lt;chr&gt;</th><th scope=col>&lt;chr&gt;</th><th scope=col>&lt;chr&gt;</th><th scope=col>&lt;chr&gt;</th><th scope=col>&lt;chr&gt;</th><th scope=col>&lt;chr&gt;</th><th scope=col>&lt;chr&gt;</th></tr>\n",
       "</thead>\n",
       "<tbody>\n",
       "\t<tr><th scope=row>pbmc2_Celseq2_1_ACGTAC</th><td>pbmc2_Celseq2_1_ACGTAC</td><td>Natural killer cell</td><td>PBMC10x_3090_0_1000</td><td>Seurat</td><td>PBMC10x</td><td>3090</td><td>0_1000</td></tr>\n",
       "\t<tr><th scope=row>pbmc2_Celseq2_1_ACTCTG</th><td>pbmc2_Celseq2_1_ACTCTG</td><td>CD4+ T cell        </td><td>PBMC10x_3090_0_1000</td><td>Seurat</td><td>PBMC10x</td><td>3090</td><td>0_1000</td></tr>\n",
       "\t<tr><th scope=row>pbmc2_Celseq2_1_AGACCA</th><td>pbmc2_Celseq2_1_AGACCA</td><td>CD4+ T cell        </td><td>PBMC10x_3090_0_1000</td><td>Seurat</td><td>PBMC10x</td><td>3090</td><td>0_1000</td></tr>\n",
       "\t<tr><th scope=row>pbmc2_Celseq2_1_AGGACA</th><td>pbmc2_Celseq2_1_AGGACA</td><td>Natural killer cell</td><td>PBMC10x_3090_0_1000</td><td>Seurat</td><td>PBMC10x</td><td>3090</td><td>0_1000</td></tr>\n",
       "\t<tr><th scope=row>pbmc2_Celseq2_1_AGTGTC</th><td>pbmc2_Celseq2_1_AGTGTC</td><td>Natural killer cell</td><td>PBMC10x_3090_0_1000</td><td>Seurat</td><td>PBMC10x</td><td>3090</td><td>0_1000</td></tr>\n",
       "\t<tr><th scope=row>pbmc2_Celseq2_1_CAACTC</th><td>pbmc2_Celseq2_1_CAACTC</td><td>Natural killer cell</td><td>PBMC10x_3090_0_1000</td><td>Seurat</td><td>PBMC10x</td><td>3090</td><td>0_1000</td></tr>\n",
       "</tbody>\n",
       "</table>\n"
      ],
      "text/latex": [
       "A data.frame: 6 × 7\n",
       "\\begin{tabular}{r|lllllll}\n",
       "  & id & predicted & tag & method & reference & size & set\\\\\n",
       "  & <chr> & <chr> & <chr> & <chr> & <chr> & <chr> & <chr>\\\\\n",
       "\\hline\n",
       "\tpbmc2\\_Celseq2\\_1\\_ACGTAC & pbmc2\\_Celseq2\\_1\\_ACGTAC & Natural killer cell & PBMC10x\\_3090\\_0\\_1000 & Seurat & PBMC10x & 3090 & 0\\_1000\\\\\n",
       "\tpbmc2\\_Celseq2\\_1\\_ACTCTG & pbmc2\\_Celseq2\\_1\\_ACTCTG & CD4+ T cell         & PBMC10x\\_3090\\_0\\_1000 & Seurat & PBMC10x & 3090 & 0\\_1000\\\\\n",
       "\tpbmc2\\_Celseq2\\_1\\_AGACCA & pbmc2\\_Celseq2\\_1\\_AGACCA & CD4+ T cell         & PBMC10x\\_3090\\_0\\_1000 & Seurat & PBMC10x & 3090 & 0\\_1000\\\\\n",
       "\tpbmc2\\_Celseq2\\_1\\_AGGACA & pbmc2\\_Celseq2\\_1\\_AGGACA & Natural killer cell & PBMC10x\\_3090\\_0\\_1000 & Seurat & PBMC10x & 3090 & 0\\_1000\\\\\n",
       "\tpbmc2\\_Celseq2\\_1\\_AGTGTC & pbmc2\\_Celseq2\\_1\\_AGTGTC & Natural killer cell & PBMC10x\\_3090\\_0\\_1000 & Seurat & PBMC10x & 3090 & 0\\_1000\\\\\n",
       "\tpbmc2\\_Celseq2\\_1\\_CAACTC & pbmc2\\_Celseq2\\_1\\_CAACTC & Natural killer cell & PBMC10x\\_3090\\_0\\_1000 & Seurat & PBMC10x & 3090 & 0\\_1000\\\\\n",
       "\\end{tabular}\n"
      ],
      "text/markdown": [
       "\n",
       "A data.frame: 6 × 7\n",
       "\n",
       "| <!--/--> | id &lt;chr&gt; | predicted &lt;chr&gt; | tag &lt;chr&gt; | method &lt;chr&gt; | reference &lt;chr&gt; | size &lt;chr&gt; | set &lt;chr&gt; |\n",
       "|---|---|---|---|---|---|---|---|\n",
       "| pbmc2_Celseq2_1_ACGTAC | pbmc2_Celseq2_1_ACGTAC | Natural killer cell | PBMC10x_3090_0_1000 | Seurat | PBMC10x | 3090 | 0_1000 |\n",
       "| pbmc2_Celseq2_1_ACTCTG | pbmc2_Celseq2_1_ACTCTG | CD4+ T cell         | PBMC10x_3090_0_1000 | Seurat | PBMC10x | 3090 | 0_1000 |\n",
       "| pbmc2_Celseq2_1_AGACCA | pbmc2_Celseq2_1_AGACCA | CD4+ T cell         | PBMC10x_3090_0_1000 | Seurat | PBMC10x | 3090 | 0_1000 |\n",
       "| pbmc2_Celseq2_1_AGGACA | pbmc2_Celseq2_1_AGGACA | Natural killer cell | PBMC10x_3090_0_1000 | Seurat | PBMC10x | 3090 | 0_1000 |\n",
       "| pbmc2_Celseq2_1_AGTGTC | pbmc2_Celseq2_1_AGTGTC | Natural killer cell | PBMC10x_3090_0_1000 | Seurat | PBMC10x | 3090 | 0_1000 |\n",
       "| pbmc2_Celseq2_1_CAACTC | pbmc2_Celseq2_1_CAACTC | Natural killer cell | PBMC10x_3090_0_1000 | Seurat | PBMC10x | 3090 | 0_1000 |\n",
       "\n"
      ],
      "text/plain": [
       "                       id                     predicted          \n",
       "pbmc2_Celseq2_1_ACGTAC pbmc2_Celseq2_1_ACGTAC Natural killer cell\n",
       "pbmc2_Celseq2_1_ACTCTG pbmc2_Celseq2_1_ACTCTG CD4+ T cell        \n",
       "pbmc2_Celseq2_1_AGACCA pbmc2_Celseq2_1_AGACCA CD4+ T cell        \n",
       "pbmc2_Celseq2_1_AGGACA pbmc2_Celseq2_1_AGGACA Natural killer cell\n",
       "pbmc2_Celseq2_1_AGTGTC pbmc2_Celseq2_1_AGTGTC Natural killer cell\n",
       "pbmc2_Celseq2_1_CAACTC pbmc2_Celseq2_1_CAACTC Natural killer cell\n",
       "                       tag                 method reference size set   \n",
       "pbmc2_Celseq2_1_ACGTAC PBMC10x_3090_0_1000 Seurat PBMC10x   3090 0_1000\n",
       "pbmc2_Celseq2_1_ACTCTG PBMC10x_3090_0_1000 Seurat PBMC10x   3090 0_1000\n",
       "pbmc2_Celseq2_1_AGACCA PBMC10x_3090_0_1000 Seurat PBMC10x   3090 0_1000\n",
       "pbmc2_Celseq2_1_AGGACA PBMC10x_3090_0_1000 Seurat PBMC10x   3090 0_1000\n",
       "pbmc2_Celseq2_1_AGTGTC PBMC10x_3090_0_1000 Seurat PBMC10x   3090 0_1000\n",
       "pbmc2_Celseq2_1_CAACTC PBMC10x_3090_0_1000 Seurat PBMC10x   3090 0_1000"
      ]
     },
     "metadata": {},
     "output_type": "display_data"
    }
   ],
   "source": [
    "data <- do.call(rbind,list(seurat, cellid, singler, scn))\n",
    "data[c('reference', 'size', \"set\")] <- stringr::str_split_fixed(data$tag, '_', 3)\n",
    "head(data)\n",
    "write.csv(data, \"../Results//Files/summary_results_mosaic.csv\")"
   ]
  },
  {
   "cell_type": "code",
   "execution_count": 8,
   "id": "9316b752-5d8b-47b8-b008-dadc851f2b53",
   "metadata": {},
   "outputs": [
    {
     "data": {
      "text/html": [
       "<table class=\"dataframe\">\n",
       "<caption>A data.frame: 6 × 2</caption>\n",
       "<thead>\n",
       "\t<tr><th></th><th scope=col>id</th><th scope=col>class_</th></tr>\n",
       "\t<tr><th></th><th scope=col>&lt;chr&gt;</th><th scope=col>&lt;chr&gt;</th></tr>\n",
       "</thead>\n",
       "<tbody>\n",
       "\t<tr><th scope=row>1</th><td>pbmc2_SM2_Cell_1  </td><td>CD14+ monocyte</td></tr>\n",
       "\t<tr><th scope=row>2</th><td>pbmc2_SM2_Cell_102</td><td>CD14+ monocyte</td></tr>\n",
       "\t<tr><th scope=row>3</th><td>pbmc2_SM2_Cell_118</td><td>CD14+ monocyte</td></tr>\n",
       "\t<tr><th scope=row>4</th><td>pbmc2_SM2_Cell_127</td><td>CD14+ monocyte</td></tr>\n",
       "\t<tr><th scope=row>5</th><td>pbmc2_SM2_Cell_131</td><td>CD14+ monocyte</td></tr>\n",
       "\t<tr><th scope=row>6</th><td>pbmc2_SM2_Cell_133</td><td>CD14+ monocyte</td></tr>\n",
       "</tbody>\n",
       "</table>\n"
      ],
      "text/latex": [
       "A data.frame: 6 × 2\n",
       "\\begin{tabular}{r|ll}\n",
       "  & id & class\\_\\\\\n",
       "  & <chr> & <chr>\\\\\n",
       "\\hline\n",
       "\t1 & pbmc2\\_SM2\\_Cell\\_1   & CD14+ monocyte\\\\\n",
       "\t2 & pbmc2\\_SM2\\_Cell\\_102 & CD14+ monocyte\\\\\n",
       "\t3 & pbmc2\\_SM2\\_Cell\\_118 & CD14+ monocyte\\\\\n",
       "\t4 & pbmc2\\_SM2\\_Cell\\_127 & CD14+ monocyte\\\\\n",
       "\t5 & pbmc2\\_SM2\\_Cell\\_131 & CD14+ monocyte\\\\\n",
       "\t6 & pbmc2\\_SM2\\_Cell\\_133 & CD14+ monocyte\\\\\n",
       "\\end{tabular}\n"
      ],
      "text/markdown": [
       "\n",
       "A data.frame: 6 × 2\n",
       "\n",
       "| <!--/--> | id &lt;chr&gt; | class_ &lt;chr&gt; |\n",
       "|---|---|---|\n",
       "| 1 | pbmc2_SM2_Cell_1   | CD14+ monocyte |\n",
       "| 2 | pbmc2_SM2_Cell_102 | CD14+ monocyte |\n",
       "| 3 | pbmc2_SM2_Cell_118 | CD14+ monocyte |\n",
       "| 4 | pbmc2_SM2_Cell_127 | CD14+ monocyte |\n",
       "| 5 | pbmc2_SM2_Cell_131 | CD14+ monocyte |\n",
       "| 6 | pbmc2_SM2_Cell_133 | CD14+ monocyte |\n",
       "\n"
      ],
      "text/plain": [
       "  id                 class_        \n",
       "1 pbmc2_SM2_Cell_1   CD14+ monocyte\n",
       "2 pbmc2_SM2_Cell_102 CD14+ monocyte\n",
       "3 pbmc2_SM2_Cell_118 CD14+ monocyte\n",
       "4 pbmc2_SM2_Cell_127 CD14+ monocyte\n",
       "5 pbmc2_SM2_Cell_131 CD14+ monocyte\n",
       "6 pbmc2_SM2_Cell_133 CD14+ monocyte"
      ]
     },
     "metadata": {},
     "output_type": "display_data"
    }
   ],
   "source": [
    "query <- read.csv(\"../Data/Fulldata/PBMC_Query/meta.csv\")\n",
    "query <- query[,c(\"id\", \"class_\")]\n",
    "head(query)"
   ]
  },
  {
   "cell_type": "code",
   "execution_count": 9,
   "id": "eff78e81-4c2d-4078-ac3e-a7cd0e65c144",
   "metadata": {},
   "outputs": [
    {
     "data": {
      "text/html": [
       "<table class=\"dataframe\">\n",
       "<caption>A data.frame: 6 × 8</caption>\n",
       "<thead>\n",
       "\t<tr><th></th><th scope=col>id</th><th scope=col>predicted</th><th scope=col>tag</th><th scope=col>method</th><th scope=col>reference</th><th scope=col>size</th><th scope=col>set</th><th scope=col>class_</th></tr>\n",
       "\t<tr><th></th><th scope=col>&lt;chr&gt;</th><th scope=col>&lt;chr&gt;</th><th scope=col>&lt;chr&gt;</th><th scope=col>&lt;chr&gt;</th><th scope=col>&lt;chr&gt;</th><th scope=col>&lt;chr&gt;</th><th scope=col>&lt;chr&gt;</th><th scope=col>&lt;chr&gt;</th></tr>\n",
       "</thead>\n",
       "<tbody>\n",
       "\t<tr><th scope=row>1</th><td>pbmc2_10X_V2_AAACCTGAGATGGGTC</td><td>B cell       </td><td>PBMC10x_3090_0_1000</td><td>Seurat       </td><td>PBMC10x</td><td>3090</td><td>0_1000</td><td>B cell</td></tr>\n",
       "\t<tr><th scope=row>2</th><td>pbmc2_10X_V2_AAACCTGAGATGGGTC</td><td>Megakaryocyte</td><td>PBMC10x_3090_0_1000</td><td>CellID       </td><td>PBMC10x</td><td>3090</td><td>0_1000</td><td>B cell</td></tr>\n",
       "\t<tr><th scope=row>3</th><td>pbmc2_10X_V2_AAACCTGAGATGGGTC</td><td>B cell       </td><td>PBMC10x_3090_0_444 </td><td>CellID       </td><td>PBMC10x</td><td>3090</td><td>0_444 </td><td>B cell</td></tr>\n",
       "\t<tr><th scope=row>4</th><td>pbmc2_10X_V2_AAACCTGAGATGGGTC</td><td>B cell       </td><td>PBMC10x_3090_0_200 </td><td>SingleR      </td><td>PBMC10x</td><td>3090</td><td>0_200 </td><td>B cell</td></tr>\n",
       "\t<tr><th scope=row>5</th><td>pbmc2_10X_V2_AAACCTGAGATGGGTC</td><td>B cell       </td><td>PBMC10x_3090_0_200 </td><td>Seurat       </td><td>PBMC10x</td><td>3090</td><td>0_200 </td><td>B cell</td></tr>\n",
       "\t<tr><th scope=row>6</th><td>pbmc2_10X_V2_AAACCTGAGATGGGTC</td><td>B cell       </td><td>PBMC10x_3090_0_1000</td><td>SingleCellNet</td><td>PBMC10x</td><td>3090</td><td>0_1000</td><td>B cell</td></tr>\n",
       "</tbody>\n",
       "</table>\n"
      ],
      "text/latex": [
       "A data.frame: 6 × 8\n",
       "\\begin{tabular}{r|llllllll}\n",
       "  & id & predicted & tag & method & reference & size & set & class\\_\\\\\n",
       "  & <chr> & <chr> & <chr> & <chr> & <chr> & <chr> & <chr> & <chr>\\\\\n",
       "\\hline\n",
       "\t1 & pbmc2\\_10X\\_V2\\_AAACCTGAGATGGGTC & B cell        & PBMC10x\\_3090\\_0\\_1000 & Seurat        & PBMC10x & 3090 & 0\\_1000 & B cell\\\\\n",
       "\t2 & pbmc2\\_10X\\_V2\\_AAACCTGAGATGGGTC & Megakaryocyte & PBMC10x\\_3090\\_0\\_1000 & CellID        & PBMC10x & 3090 & 0\\_1000 & B cell\\\\\n",
       "\t3 & pbmc2\\_10X\\_V2\\_AAACCTGAGATGGGTC & B cell        & PBMC10x\\_3090\\_0\\_444  & CellID        & PBMC10x & 3090 & 0\\_444  & B cell\\\\\n",
       "\t4 & pbmc2\\_10X\\_V2\\_AAACCTGAGATGGGTC & B cell        & PBMC10x\\_3090\\_0\\_200  & SingleR       & PBMC10x & 3090 & 0\\_200  & B cell\\\\\n",
       "\t5 & pbmc2\\_10X\\_V2\\_AAACCTGAGATGGGTC & B cell        & PBMC10x\\_3090\\_0\\_200  & Seurat        & PBMC10x & 3090 & 0\\_200  & B cell\\\\\n",
       "\t6 & pbmc2\\_10X\\_V2\\_AAACCTGAGATGGGTC & B cell        & PBMC10x\\_3090\\_0\\_1000 & SingleCellNet & PBMC10x & 3090 & 0\\_1000 & B cell\\\\\n",
       "\\end{tabular}\n"
      ],
      "text/markdown": [
       "\n",
       "A data.frame: 6 × 8\n",
       "\n",
       "| <!--/--> | id &lt;chr&gt; | predicted &lt;chr&gt; | tag &lt;chr&gt; | method &lt;chr&gt; | reference &lt;chr&gt; | size &lt;chr&gt; | set &lt;chr&gt; | class_ &lt;chr&gt; |\n",
       "|---|---|---|---|---|---|---|---|---|\n",
       "| 1 | pbmc2_10X_V2_AAACCTGAGATGGGTC | B cell        | PBMC10x_3090_0_1000 | Seurat        | PBMC10x | 3090 | 0_1000 | B cell |\n",
       "| 2 | pbmc2_10X_V2_AAACCTGAGATGGGTC | Megakaryocyte | PBMC10x_3090_0_1000 | CellID        | PBMC10x | 3090 | 0_1000 | B cell |\n",
       "| 3 | pbmc2_10X_V2_AAACCTGAGATGGGTC | B cell        | PBMC10x_3090_0_444  | CellID        | PBMC10x | 3090 | 0_444  | B cell |\n",
       "| 4 | pbmc2_10X_V2_AAACCTGAGATGGGTC | B cell        | PBMC10x_3090_0_200  | SingleR       | PBMC10x | 3090 | 0_200  | B cell |\n",
       "| 5 | pbmc2_10X_V2_AAACCTGAGATGGGTC | B cell        | PBMC10x_3090_0_200  | Seurat        | PBMC10x | 3090 | 0_200  | B cell |\n",
       "| 6 | pbmc2_10X_V2_AAACCTGAGATGGGTC | B cell        | PBMC10x_3090_0_1000 | SingleCellNet | PBMC10x | 3090 | 0_1000 | B cell |\n",
       "\n"
      ],
      "text/plain": [
       "  id                            predicted     tag                 method       \n",
       "1 pbmc2_10X_V2_AAACCTGAGATGGGTC B cell        PBMC10x_3090_0_1000 Seurat       \n",
       "2 pbmc2_10X_V2_AAACCTGAGATGGGTC Megakaryocyte PBMC10x_3090_0_1000 CellID       \n",
       "3 pbmc2_10X_V2_AAACCTGAGATGGGTC B cell        PBMC10x_3090_0_444  CellID       \n",
       "4 pbmc2_10X_V2_AAACCTGAGATGGGTC B cell        PBMC10x_3090_0_200  SingleR      \n",
       "5 pbmc2_10X_V2_AAACCTGAGATGGGTC B cell        PBMC10x_3090_0_200  Seurat       \n",
       "6 pbmc2_10X_V2_AAACCTGAGATGGGTC B cell        PBMC10x_3090_0_1000 SingleCellNet\n",
       "  reference size set    class_\n",
       "1 PBMC10x   3090 0_1000 B cell\n",
       "2 PBMC10x   3090 0_1000 B cell\n",
       "3 PBMC10x   3090 0_444  B cell\n",
       "4 PBMC10x   3090 0_200  B cell\n",
       "5 PBMC10x   3090 0_200  B cell\n",
       "6 PBMC10x   3090 0_1000 B cell"
      ]
     },
     "metadata": {},
     "output_type": "display_data"
    }
   ],
   "source": [
    "results <- merge(data, query, by = \"id\")\n",
    "head(results)"
   ]
  },
  {
   "cell_type": "code",
   "execution_count": 10,
   "id": "d4a47a32-6f56-4032-9faa-ef67fb66bdfd",
   "metadata": {},
   "outputs": [
    {
     "data": {
      "text/html": [
       "<style>\n",
       ".list-inline {list-style: none; margin:0; padding: 0}\n",
       ".list-inline>li {display: inline-block}\n",
       ".list-inline>li:not(:last-child)::after {content: \"\\00b7\"; padding: 0 .5ex}\n",
       "</style>\n",
       "<ol class=list-inline><li>'1000'</li><li>'444'</li><li>'200'</li></ol>\n"
      ],
      "text/latex": [
       "\\begin{enumerate*}\n",
       "\\item '1000'\n",
       "\\item '444'\n",
       "\\item '200'\n",
       "\\end{enumerate*}\n"
      ],
      "text/markdown": [
       "1. '1000'\n",
       "2. '444'\n",
       "3. '200'\n",
       "\n",
       "\n"
      ],
      "text/plain": [
       "[1] \"1000\" \"444\"  \"200\" "
      ]
     },
     "metadata": {},
     "output_type": "display_data"
    },
    {
     "data": {
      "text/html": [
       "<style>\n",
       ".list-inline {list-style: none; margin:0; padding: 0}\n",
       ".list-inline>li {display: inline-block}\n",
       ".list-inline>li:not(:last-child)::after {content: \"\\00b7\"; padding: 0 .5ex}\n",
       "</style>\n",
       "<ol class=list-inline><li>'1000'</li><li>'444'</li><li>'444 curated genes'</li></ol>\n"
      ],
      "text/latex": [
       "\\begin{enumerate*}\n",
       "\\item '1000'\n",
       "\\item '444'\n",
       "\\item '444 curated genes'\n",
       "\\end{enumerate*}\n"
      ],
      "text/markdown": [
       "1. '1000'\n",
       "2. '444'\n",
       "3. '444 curated genes'\n",
       "\n",
       "\n"
      ],
      "text/plain": [
       "[1] \"1000\"              \"444\"               \"444 curated genes\""
      ]
     },
     "metadata": {},
     "output_type": "display_data"
    },
    {
     "data": {
      "text/html": [
       "<style>\n",
       ".list-inline {list-style: none; margin:0; padding: 0}\n",
       ".list-inline>li {display: inline-block}\n",
       ".list-inline>li:not(:last-child)::after {content: \"\\00b7\"; padding: 0 .5ex}\n",
       "</style>\n",
       "<ol class=list-inline><li>'1000'</li><li>'444 HVGs'</li><li>'444 curated genes'</li></ol>\n"
      ],
      "text/latex": [
       "\\begin{enumerate*}\n",
       "\\item '1000'\n",
       "\\item '444 HVGs'\n",
       "\\item '444 curated genes'\n",
       "\\end{enumerate*}\n"
      ],
      "text/markdown": [
       "1. '1000'\n",
       "2. '444 HVGs'\n",
       "3. '444 curated genes'\n",
       "\n",
       "\n"
      ],
      "text/plain": [
       "[1] \"1000\"              \"444 HVGs\"          \"444 curated genes\""
      ]
     },
     "metadata": {},
     "output_type": "display_data"
    },
    {
     "data": {
      "text/html": [
       "<style>\n",
       ".list-inline {list-style: none; margin:0; padding: 0}\n",
       ".list-inline>li {display: inline-block}\n",
       ".list-inline>li:not(:last-child)::after {content: \"\\00b7\"; padding: 0 .5ex}\n",
       "</style>\n",
       "<ol class=list-inline><li>'1000 HVGs'</li><li>'444 HVGs'</li><li>'444 curated genes'</li></ol>\n"
      ],
      "text/latex": [
       "\\begin{enumerate*}\n",
       "\\item '1000 HVGs'\n",
       "\\item '444 HVGs'\n",
       "\\item '444 curated genes'\n",
       "\\end{enumerate*}\n"
      ],
      "text/markdown": [
       "1. '1000 HVGs'\n",
       "2. '444 HVGs'\n",
       "3. '444 curated genes'\n",
       "\n",
       "\n"
      ],
      "text/plain": [
       "[1] \"1000 HVGs\"         \"444 HVGs\"          \"444 curated genes\""
      ]
     },
     "metadata": {},
     "output_type": "display_data"
    },
    {
     "data": {
      "text/html": [
       "<table class=\"dataframe\">\n",
       "<caption>A data.frame: 6 × 8</caption>\n",
       "<thead>\n",
       "\t<tr><th></th><th scope=col>class</th><th scope=col>reference</th><th scope=col>method</th><th scope=col>set</th><th scope=col>precision</th><th scope=col>recall</th><th scope=col>f1</th><th scope=col>accuracy</th></tr>\n",
       "\t<tr><th></th><th scope=col>&lt;chr&gt;</th><th scope=col>&lt;chr&gt;</th><th scope=col>&lt;chr&gt;</th><th scope=col>&lt;chr&gt;</th><th scope=col>&lt;dbl&gt;</th><th scope=col>&lt;dbl&gt;</th><th scope=col>&lt;dbl&gt;</th><th scope=col>&lt;dbl&gt;</th></tr>\n",
       "</thead>\n",
       "<tbody>\n",
       "\t<tr><th scope=row>1</th><td>Cytotoxic T cell</td><td>PBMC10x</td><td>Seurat </td><td>1000 HVGs        </td><td>0.7180877</td><td>0.6426996</td><td>0.6783054</td><td>0.6426996</td></tr>\n",
       "\t<tr><th scope=row>2</th><td>Cytotoxic T cell</td><td>PBMC10x</td><td>Seurat </td><td>444 HVGs         </td><td>0.6668113</td><td>0.6779885</td><td>0.6723535</td><td>0.6779885</td></tr>\n",
       "\t<tr><th scope=row>3</th><td>Cytotoxic T cell</td><td>PBMC10x</td><td>Seurat </td><td>444 curated genes</td><td>0.7915466</td><td>0.7269519</td><td>0.7578754</td><td>0.7269519</td></tr>\n",
       "\t<tr><th scope=row>4</th><td>Cytotoxic T cell</td><td>PBMC10x</td><td>SingleR</td><td>1000 HVGs        </td><td>0.9582837</td><td>0.3546537</td><td>0.5177077</td><td>0.3546537</td></tr>\n",
       "\t<tr><th scope=row>5</th><td>Cytotoxic T cell</td><td>PBMC10x</td><td>SingleR</td><td>444 HVGs         </td><td>0.9517241</td><td>0.3652404</td><td>0.5278929</td><td>0.3652404</td></tr>\n",
       "\t<tr><th scope=row>6</th><td>Cytotoxic T cell</td><td>PBMC10x</td><td>SingleR</td><td>444 curated genes</td><td>0.9442308</td><td>0.4331716</td><td>0.5938917</td><td>0.4331716</td></tr>\n",
       "</tbody>\n",
       "</table>\n"
      ],
      "text/latex": [
       "A data.frame: 6 × 8\n",
       "\\begin{tabular}{r|llllllll}\n",
       "  & class & reference & method & set & precision & recall & f1 & accuracy\\\\\n",
       "  & <chr> & <chr> & <chr> & <chr> & <dbl> & <dbl> & <dbl> & <dbl>\\\\\n",
       "\\hline\n",
       "\t1 & Cytotoxic T cell & PBMC10x & Seurat  & 1000 HVGs         & 0.7180877 & 0.6426996 & 0.6783054 & 0.6426996\\\\\n",
       "\t2 & Cytotoxic T cell & PBMC10x & Seurat  & 444 HVGs          & 0.6668113 & 0.6779885 & 0.6723535 & 0.6779885\\\\\n",
       "\t3 & Cytotoxic T cell & PBMC10x & Seurat  & 444 curated genes & 0.7915466 & 0.7269519 & 0.7578754 & 0.7269519\\\\\n",
       "\t4 & Cytotoxic T cell & PBMC10x & SingleR & 1000 HVGs         & 0.9582837 & 0.3546537 & 0.5177077 & 0.3546537\\\\\n",
       "\t5 & Cytotoxic T cell & PBMC10x & SingleR & 444 HVGs          & 0.9517241 & 0.3652404 & 0.5278929 & 0.3652404\\\\\n",
       "\t6 & Cytotoxic T cell & PBMC10x & SingleR & 444 curated genes & 0.9442308 & 0.4331716 & 0.5938917 & 0.4331716\\\\\n",
       "\\end{tabular}\n"
      ],
      "text/markdown": [
       "\n",
       "A data.frame: 6 × 8\n",
       "\n",
       "| <!--/--> | class &lt;chr&gt; | reference &lt;chr&gt; | method &lt;chr&gt; | set &lt;chr&gt; | precision &lt;dbl&gt; | recall &lt;dbl&gt; | f1 &lt;dbl&gt; | accuracy &lt;dbl&gt; |\n",
       "|---|---|---|---|---|---|---|---|---|\n",
       "| 1 | Cytotoxic T cell | PBMC10x | Seurat  | 1000 HVGs         | 0.7180877 | 0.6426996 | 0.6783054 | 0.6426996 |\n",
       "| 2 | Cytotoxic T cell | PBMC10x | Seurat  | 444 HVGs          | 0.6668113 | 0.6779885 | 0.6723535 | 0.6779885 |\n",
       "| 3 | Cytotoxic T cell | PBMC10x | Seurat  | 444 curated genes | 0.7915466 | 0.7269519 | 0.7578754 | 0.7269519 |\n",
       "| 4 | Cytotoxic T cell | PBMC10x | SingleR | 1000 HVGs         | 0.9582837 | 0.3546537 | 0.5177077 | 0.3546537 |\n",
       "| 5 | Cytotoxic T cell | PBMC10x | SingleR | 444 HVGs          | 0.9517241 | 0.3652404 | 0.5278929 | 0.3652404 |\n",
       "| 6 | Cytotoxic T cell | PBMC10x | SingleR | 444 curated genes | 0.9442308 | 0.4331716 | 0.5938917 | 0.4331716 |\n",
       "\n"
      ],
      "text/plain": [
       "  class            reference method  set               precision recall   \n",
       "1 Cytotoxic T cell PBMC10x   Seurat  1000 HVGs         0.7180877 0.6426996\n",
       "2 Cytotoxic T cell PBMC10x   Seurat  444 HVGs          0.6668113 0.6779885\n",
       "3 Cytotoxic T cell PBMC10x   Seurat  444 curated genes 0.7915466 0.7269519\n",
       "4 Cytotoxic T cell PBMC10x   SingleR 1000 HVGs         0.9582837 0.3546537\n",
       "5 Cytotoxic T cell PBMC10x   SingleR 444 HVGs          0.9517241 0.3652404\n",
       "6 Cytotoxic T cell PBMC10x   SingleR 444 curated genes 0.9442308 0.4331716\n",
       "  f1        accuracy \n",
       "1 0.6783054 0.6426996\n",
       "2 0.6723535 0.6779885\n",
       "3 0.7578754 0.7269519\n",
       "4 0.5177077 0.3546537\n",
       "5 0.5278929 0.3652404\n",
       "6 0.5938917 0.4331716"
      ]
     },
     "metadata": {},
     "output_type": "display_data"
    }
   ],
   "source": [
    "measures <- do.call(rbind, lapply(celltypes, function(type) do.call(rbind,\n",
    "                           lapply(methods,   function(method) do.call(rbind,\n",
    "                           lapply(unique(results$set),function(set) get_measures(results, type,\n",
    "                                                                           \"PBMC10x\", method, set)))))))\n",
    "measures$set  <- stringr::str_replace(measures$set, \"0_\", \"\")  \n",
    "unique(measures$set)                                 \n",
    "measures$set[measures$set == 200] <- \"444 curated genes\"  \n",
    "unique(measures$set)\n",
    "measures$set[measures$set == 444] <- \"444 HVGs\"\n",
    "unique(measures$set)                                  \n",
    "measures$set[measures$set == 1000] <- \"1000 HVGs\" \n",
    "unique(measures$set)                                  \n",
    "head(measures)"
   ]
  },
  {
   "cell_type": "code",
   "execution_count": 11,
   "id": "feee97e8-9603-421a-be3d-24df56c8f2bb",
   "metadata": {},
   "outputs": [
    {
     "data": {
      "text/html": [
       "'200 HVGs'"
      ],
      "text/latex": [
       "'200 HVGs'"
      ],
      "text/markdown": [
       "'200 HVGs'"
      ],
      "text/plain": [
       "[1] \"200 HVGs\""
      ]
     },
     "metadata": {},
     "output_type": "display_data"
    },
    {
     "data": {
      "text/html": [
       "<table class=\"dataframe\">\n",
       "<caption>A data.frame: 6 × 8</caption>\n",
       "<thead>\n",
       "\t<tr><th></th><th scope=col>class</th><th scope=col>reference</th><th scope=col>method</th><th scope=col>set</th><th scope=col>precision</th><th scope=col>recall</th><th scope=col>f1</th><th scope=col>accuracy</th></tr>\n",
       "\t<tr><th></th><th scope=col>&lt;chr&gt;</th><th scope=col>&lt;chr&gt;</th><th scope=col>&lt;chr&gt;</th><th scope=col>&lt;chr&gt;</th><th scope=col>&lt;dbl&gt;</th><th scope=col>&lt;dbl&gt;</th><th scope=col>&lt;dbl&gt;</th><th scope=col>&lt;dbl&gt;</th></tr>\n",
       "</thead>\n",
       "<tbody>\n",
       "\t<tr><th scope=row>1</th><td>B cell          </td><td>PBMC10x</td><td>CellID       </td><td>200 HVGs</td><td>0.7975581</td><td>0.7592801</td><td>0.7779485</td><td>0.7592801</td></tr>\n",
       "\t<tr><th scope=row>2</th><td>B cell          </td><td>PBMC10x</td><td>Seurat       </td><td>200 HVGs</td><td>0.9070175</td><td>0.9692538</td><td>0.9371035</td><td>0.9692538</td></tr>\n",
       "\t<tr><th scope=row>3</th><td>B cell          </td><td>PBMC10x</td><td>SingleCellNet</td><td>200 HVGs</td><td>0.9224806</td><td>0.9370079</td><td>0.9296875</td><td>0.9370079</td></tr>\n",
       "\t<tr><th scope=row>4</th><td>B cell          </td><td>PBMC10x</td><td>SingleR      </td><td>200 HVGs</td><td>0.9142091</td><td>0.8950131</td><td>0.9045093</td><td>0.8950131</td></tr>\n",
       "\t<tr><th scope=row>5</th><td>B cell          </td><td>PBMC10x</td><td>ItClust      </td><td>200 HVGs</td><td>0.9667548</td><td>0.9595051</td><td>0.9631163</td><td>0.9595051</td></tr>\n",
       "\t<tr><th scope=row>6</th><td>Cytotoxic T cell</td><td>PBMC10x</td><td>CellID       </td><td>200 HVGs</td><td>0.7325581</td><td>0.5280106</td><td>0.6136888</td><td>0.5280106</td></tr>\n",
       "</tbody>\n",
       "</table>\n"
      ],
      "text/latex": [
       "A data.frame: 6 × 8\n",
       "\\begin{tabular}{r|llllllll}\n",
       "  & class & reference & method & set & precision & recall & f1 & accuracy\\\\\n",
       "  & <chr> & <chr> & <chr> & <chr> & <dbl> & <dbl> & <dbl> & <dbl>\\\\\n",
       "\\hline\n",
       "\t1 & B cell           & PBMC10x & CellID        & 200 HVGs & 0.7975581 & 0.7592801 & 0.7779485 & 0.7592801\\\\\n",
       "\t2 & B cell           & PBMC10x & Seurat        & 200 HVGs & 0.9070175 & 0.9692538 & 0.9371035 & 0.9692538\\\\\n",
       "\t3 & B cell           & PBMC10x & SingleCellNet & 200 HVGs & 0.9224806 & 0.9370079 & 0.9296875 & 0.9370079\\\\\n",
       "\t4 & B cell           & PBMC10x & SingleR       & 200 HVGs & 0.9142091 & 0.8950131 & 0.9045093 & 0.8950131\\\\\n",
       "\t5 & B cell           & PBMC10x & ItClust       & 200 HVGs & 0.9667548 & 0.9595051 & 0.9631163 & 0.9595051\\\\\n",
       "\t6 & Cytotoxic T cell & PBMC10x & CellID        & 200 HVGs & 0.7325581 & 0.5280106 & 0.6136888 & 0.5280106\\\\\n",
       "\\end{tabular}\n"
      ],
      "text/markdown": [
       "\n",
       "A data.frame: 6 × 8\n",
       "\n",
       "| <!--/--> | class &lt;chr&gt; | reference &lt;chr&gt; | method &lt;chr&gt; | set &lt;chr&gt; | precision &lt;dbl&gt; | recall &lt;dbl&gt; | f1 &lt;dbl&gt; | accuracy &lt;dbl&gt; |\n",
       "|---|---|---|---|---|---|---|---|---|\n",
       "| 1 | B cell           | PBMC10x | CellID        | 200 HVGs | 0.7975581 | 0.7592801 | 0.7779485 | 0.7592801 |\n",
       "| 2 | B cell           | PBMC10x | Seurat        | 200 HVGs | 0.9070175 | 0.9692538 | 0.9371035 | 0.9692538 |\n",
       "| 3 | B cell           | PBMC10x | SingleCellNet | 200 HVGs | 0.9224806 | 0.9370079 | 0.9296875 | 0.9370079 |\n",
       "| 4 | B cell           | PBMC10x | SingleR       | 200 HVGs | 0.9142091 | 0.8950131 | 0.9045093 | 0.8950131 |\n",
       "| 5 | B cell           | PBMC10x | ItClust       | 200 HVGs | 0.9667548 | 0.9595051 | 0.9631163 | 0.9595051 |\n",
       "| 6 | Cytotoxic T cell | PBMC10x | CellID        | 200 HVGs | 0.7325581 | 0.5280106 | 0.6136888 | 0.5280106 |\n",
       "\n"
      ],
      "text/plain": [
       "  class            reference method        set      precision recall   \n",
       "1 B cell           PBMC10x   CellID        200 HVGs 0.7975581 0.7592801\n",
       "2 B cell           PBMC10x   Seurat        200 HVGs 0.9070175 0.9692538\n",
       "3 B cell           PBMC10x   SingleCellNet 200 HVGs 0.9224806 0.9370079\n",
       "4 B cell           PBMC10x   SingleR       200 HVGs 0.9142091 0.8950131\n",
       "5 B cell           PBMC10x   ItClust       200 HVGs 0.9667548 0.9595051\n",
       "6 Cytotoxic T cell PBMC10x   CellID        200 HVGs 0.7325581 0.5280106\n",
       "  f1        accuracy \n",
       "1 0.7779485 0.7592801\n",
       "2 0.9371035 0.9692538\n",
       "3 0.9296875 0.9370079\n",
       "4 0.9045093 0.8950131\n",
       "5 0.9631163 0.9595051\n",
       "6 0.6136888 0.5280106"
      ]
     },
     "metadata": {},
     "output_type": "display_data"
    }
   ],
   "source": [
    "full$X <- NULL\n",
    "full$size <- NULL\n",
    "full$set <- \"200 HVGs\"\n",
    "unique(full$set) \n",
    "head(full) "
   ]
  },
  {
   "cell_type": "code",
   "execution_count": 12,
   "id": "4f6457be-9f98-488d-9a4e-1313e4e94f1a",
   "metadata": {},
   "outputs": [
    {
     "data": {
      "text/html": [
       "<table class=\"dataframe\">\n",
       "<caption>A data.frame: 6 × 8</caption>\n",
       "<thead>\n",
       "\t<tr><th></th><th scope=col>class</th><th scope=col>reference</th><th scope=col>method</th><th scope=col>set</th><th scope=col>precision</th><th scope=col>recall</th><th scope=col>f1</th><th scope=col>accuracy</th></tr>\n",
       "\t<tr><th></th><th scope=col>&lt;fct&gt;</th><th scope=col>&lt;chr&gt;</th><th scope=col>&lt;fct&gt;</th><th scope=col>&lt;chr&gt;</th><th scope=col>&lt;dbl&gt;</th><th scope=col>&lt;dbl&gt;</th><th scope=col>&lt;dbl&gt;</th><th scope=col>&lt;dbl&gt;</th></tr>\n",
       "</thead>\n",
       "<tbody>\n",
       "\t<tr><th scope=row>1</th><td>B cell          </td><td>PBMC10x</td><td>CellID       </td><td>200 HVGs</td><td>0.7975581</td><td>0.7592801</td><td>0.7779485</td><td>0.7592801</td></tr>\n",
       "\t<tr><th scope=row>2</th><td>B cell          </td><td>PBMC10x</td><td>Seurat       </td><td>200 HVGs</td><td>0.9070175</td><td>0.9692538</td><td>0.9371035</td><td>0.9692538</td></tr>\n",
       "\t<tr><th scope=row>3</th><td>B cell          </td><td>PBMC10x</td><td>SingleCellNet</td><td>200 HVGs</td><td>0.9224806</td><td>0.9370079</td><td>0.9296875</td><td>0.9370079</td></tr>\n",
       "\t<tr><th scope=row>4</th><td>B cell          </td><td>PBMC10x</td><td>SingleR      </td><td>200 HVGs</td><td>0.9142091</td><td>0.8950131</td><td>0.9045093</td><td>0.8950131</td></tr>\n",
       "\t<tr><th scope=row>6</th><td>Cytotoxic T cell</td><td>PBMC10x</td><td>CellID       </td><td>200 HVGs</td><td>0.7325581</td><td>0.5280106</td><td>0.6136888</td><td>0.5280106</td></tr>\n",
       "\t<tr><th scope=row>7</th><td>Cytotoxic T cell</td><td>PBMC10x</td><td>Seurat       </td><td>200 HVGs</td><td>0.6714227</td><td>0.7265108</td><td>0.6978814</td><td>0.7265108</td></tr>\n",
       "</tbody>\n",
       "</table>\n"
      ],
      "text/latex": [
       "A data.frame: 6 × 8\n",
       "\\begin{tabular}{r|llllllll}\n",
       "  & class & reference & method & set & precision & recall & f1 & accuracy\\\\\n",
       "  & <fct> & <chr> & <fct> & <chr> & <dbl> & <dbl> & <dbl> & <dbl>\\\\\n",
       "\\hline\n",
       "\t1 & B cell           & PBMC10x & CellID        & 200 HVGs & 0.7975581 & 0.7592801 & 0.7779485 & 0.7592801\\\\\n",
       "\t2 & B cell           & PBMC10x & Seurat        & 200 HVGs & 0.9070175 & 0.9692538 & 0.9371035 & 0.9692538\\\\\n",
       "\t3 & B cell           & PBMC10x & SingleCellNet & 200 HVGs & 0.9224806 & 0.9370079 & 0.9296875 & 0.9370079\\\\\n",
       "\t4 & B cell           & PBMC10x & SingleR       & 200 HVGs & 0.9142091 & 0.8950131 & 0.9045093 & 0.8950131\\\\\n",
       "\t6 & Cytotoxic T cell & PBMC10x & CellID        & 200 HVGs & 0.7325581 & 0.5280106 & 0.6136888 & 0.5280106\\\\\n",
       "\t7 & Cytotoxic T cell & PBMC10x & Seurat        & 200 HVGs & 0.6714227 & 0.7265108 & 0.6978814 & 0.7265108\\\\\n",
       "\\end{tabular}\n"
      ],
      "text/markdown": [
       "\n",
       "A data.frame: 6 × 8\n",
       "\n",
       "| <!--/--> | class &lt;fct&gt; | reference &lt;chr&gt; | method &lt;fct&gt; | set &lt;chr&gt; | precision &lt;dbl&gt; | recall &lt;dbl&gt; | f1 &lt;dbl&gt; | accuracy &lt;dbl&gt; |\n",
       "|---|---|---|---|---|---|---|---|---|\n",
       "| 1 | B cell           | PBMC10x | CellID        | 200 HVGs | 0.7975581 | 0.7592801 | 0.7779485 | 0.7592801 |\n",
       "| 2 | B cell           | PBMC10x | Seurat        | 200 HVGs | 0.9070175 | 0.9692538 | 0.9371035 | 0.9692538 |\n",
       "| 3 | B cell           | PBMC10x | SingleCellNet | 200 HVGs | 0.9224806 | 0.9370079 | 0.9296875 | 0.9370079 |\n",
       "| 4 | B cell           | PBMC10x | SingleR       | 200 HVGs | 0.9142091 | 0.8950131 | 0.9045093 | 0.8950131 |\n",
       "| 6 | Cytotoxic T cell | PBMC10x | CellID        | 200 HVGs | 0.7325581 | 0.5280106 | 0.6136888 | 0.5280106 |\n",
       "| 7 | Cytotoxic T cell | PBMC10x | Seurat        | 200 HVGs | 0.6714227 | 0.7265108 | 0.6978814 | 0.7265108 |\n",
       "\n"
      ],
      "text/plain": [
       "  class            reference method        set      precision recall   \n",
       "1 B cell           PBMC10x   CellID        200 HVGs 0.7975581 0.7592801\n",
       "2 B cell           PBMC10x   Seurat        200 HVGs 0.9070175 0.9692538\n",
       "3 B cell           PBMC10x   SingleCellNet 200 HVGs 0.9224806 0.9370079\n",
       "4 B cell           PBMC10x   SingleR       200 HVGs 0.9142091 0.8950131\n",
       "6 Cytotoxic T cell PBMC10x   CellID        200 HVGs 0.7325581 0.5280106\n",
       "7 Cytotoxic T cell PBMC10x   Seurat        200 HVGs 0.6714227 0.7265108\n",
       "  f1        accuracy \n",
       "1 0.7779485 0.7592801\n",
       "2 0.9371035 0.9692538\n",
       "3 0.9296875 0.9370079\n",
       "4 0.9045093 0.8950131\n",
       "6 0.6136888 0.5280106\n",
       "7 0.6978814 0.7265108"
      ]
     },
     "metadata": {},
     "output_type": "display_data"
    }
   ],
   "source": [
    "data <- rbind(full, measures)\n",
    "data <- data[data$method != \"ItClust\",]\n",
    "data$class <- factor(data$class, levels=celltypes)\n",
    "data$method <- factor(data$method, levels=methods)\n",
    "\n",
    "head(data)"
   ]
  },
  {
   "cell_type": "code",
   "execution_count": 13,
   "id": "e3b861ea-5886-4bf2-b579-c89c99430ec9",
   "metadata": {
    "tags": []
   },
   "outputs": [],
   "source": [
    "library(ggplot2)\n",
    "library(\"RColorBrewer\")\n",
    "colors <-brewer.pal(length(celltypes), \"Paired\")\n",
    "names(colors) <- celltypes\n"
   ]
  },
  {
   "cell_type": "code",
   "execution_count": 14,
   "id": "4617d904-7980-4fe5-81e2-f6b4d9b8a2d7",
   "metadata": {},
   "outputs": [
    {
     "name": "stderr",
     "output_type": "stream",
     "text": [
      "Warning message:\n",
      "“\u001b[1m\u001b[22mRemoved 4 rows containing missing values (`geom_point()`).”\n"
     ]
    },
    {
     "data": {
      "image/png": "[encoded data removed]",
      "text/plain": [
       "plot without title"
      ]
     },
     "metadata": {
      "image/png": {
       "height": 300,
       "width": 900
      }
     },
     "output_type": "display_data"
    }
   ],
   "source": [
    "library(ggplot2)\n",
    "options(repr.plot.width=15, repr.plot.height=5) \n",
    "data1 <- data[data$set %in% c(\"1000 HVGs\", \"200 HVGs\"),]\n",
    "\n",
    "accuracy <- ggplot(data1, aes(class, accuracy,color=class, shape=set, group=set))+\n",
    "            geom_point(size=2)+\n",
    "            theme_bw()+ \n",
    "            labs(y=\"Accuracy\", color=\"Celltype\", shape= \"Gene set used\") + ylim(0,1)+\n",
    "            facet_grid(cols = vars(method))+\n",
    "            theme(axis.text=element_text(size=8), axis.title=element_text(size=8),\n",
    "                  axis.text.x = element_blank(),axis.title.x = element_blank(),\n",
    "                  axis.ticks.x = element_blank(), legend.position = \"left\",\n",
    "                 legend.text=element_text(size=8), legend.title=element_text(size=8))+\n",
    "            scale_color_manual(values=colors)#+ \n",
    "           # scale_shape_manual(values=c(0,1,17,2))\n",
    "precision <- ggplot(data1, aes(class, precision,color=class, shape=set, group=set))+\n",
    "            geom_point(size=2)+\n",
    "            theme_bw()+ \n",
    "            labs(y=\"Precision\", color=\"Celltype\", shape= \"Gene set used\") + ylim(0,1)+\n",
    "            facet_grid(cols = vars(method))+\n",
    "            theme(axis.text=element_text(size=8), axis.title=element_text(size=8),\n",
    "                  axis.text.x = element_blank(),axis.title.x = element_blank(),\n",
    "                  axis.ticks.x = element_blank(), legend.position = \"left\",\n",
    "                 legend.text=element_text(size=8), legend.title=element_text(size=8))+\n",
    "            scale_color_manual(values=colors)#+ scale_shape_manual(values=c(0,1,17,2))\n",
    "\n",
    "f5 <- ggpubr::ggarrange(accuracy, precision, nrow=2, ncol=1, common.legend=T, legend=\"left\")\n",
    "f5"
   ]
  },
  {
   "cell_type": "code",
   "execution_count": 15,
   "id": "8e6d88c5-acd5-4c75-8c31-e8538259609f",
   "metadata": {},
   "outputs": [],
   "source": [
    "ggsave(\n",
    "  \"../Results/Figures/F5_PBMC_genesets.eps\",\n",
    "  plot = f5,\n",
    "  device = \"eps\",\n",
    "  path = NULL,\n",
    "  scale = 1,\n",
    "  width = 180,\n",
    "  height = 100,\n",
    "  units = \"mm\",\n",
    "  dpi = 300,\n",
    "  limitsize = TRUE,\n",
    "  bg = NULL\n",
    ")"
   ]
  }
 ],
 "metadata": {
  "kernelspec": {
   "display_name": "R",
   "language": "R",
   "name": "ir"
  },
  "language_info": {
   "codemirror_mode": "r",
   "file_extension": ".r",
   "mimetype": "text/x-r-source",
   "name": "R",
   "pygments_lexer": "r",
   "version": "4.2.2"
  }
 },
 "nbformat": 4,
 "nbformat_minor": 5
}
