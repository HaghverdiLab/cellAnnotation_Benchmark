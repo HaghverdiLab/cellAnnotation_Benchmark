{
 "cells": [
  {
   "cell_type": "code",
   "execution_count": 1,
   "id": "29d309cc-5332-4daa-b565-6e1d75e5fbb6",
   "metadata": {},
   "outputs": [
    {
     "name": "stderr",
     "output_type": "stream",
     "text": [
      "\n",
      "Attaching package: ‘dplyr’\n",
      "\n",
      "\n",
      "The following objects are masked from ‘package:stats’:\n",
      "\n",
      "    filter, lag\n",
      "\n",
      "\n",
      "The following objects are masked from ‘package:base’:\n",
      "\n",
      "    intersect, setdiff, setequal, union\n",
      "\n",
      "\n"
     ]
    }
   ],
   "source": [
    "library(ggplot2)\n",
    "library(dplyr)\n",
    "#setwd(\"/fast/AG_Haghverdi/Carla_Moelbert/Cell_annotation/Scripts/\")\n",
    "get_combinations <- function(files, size, seed){\n",
    "    set.seed(seed)\n",
    "    return(sample(files, size = size))\n",
    "}\n",
    "\n",
    "translate <- function(vector){\n",
    "    vector <- stringr::str_replace_all(vector, \"\\\\.\\\\.\", \"+ \")\n",
    "    vector <- stringr::str_replace_all(vector, \"\\\\.\", \" \")\n",
    "    return(vector)\n",
    "}\n",
    "\n",
    "readSeurat <- function(file){\n",
    "    seurat <- read.csv(file, sep=\"\\t\")\n",
    "    seurat$prediction.score.max <- NULL\n",
    "    seurat <- seurat[, stringr::str_detect(colnames(seurat), \"prediction.score.\")]\n",
    "    colnames(seurat) <- stringr::str_replace(colnames(seurat), \"prediction.score.\", \"\")\n",
    "    colnames(seurat) <- translate(colnames(seurat))\n",
    "    seurat[is.na(seurat)] <- 0\n",
    "    return(seurat)\n",
    "}\n",
    "\n",
    "readSCN <- function(file){\n",
    "    scn <- read.csv(file, sep=\"\\t\")\n",
    "    rownames(scn) <- scn$id \n",
    "    scn <- scn[, !colnames(scn) %in% c(\"id\", \"predicted\", \"nGene\", \"nUMI\", \"percent.mito\",\n",
    "                                       \"Cluster\", \"class_\", \"Experiment\", \"Method\",\n",
    "                                       \"prediction.match\")]\n",
    "    colnames(scn) <- translate(colnames(scn))\n",
    "    scn[is.na(scn)] <- 0\n",
    "   \n",
    "    return(as.data.frame(scn))\n",
    "}\n",
    "\n",
    "readSingleR <- function(file){\n",
    "    singler <- read.csv(file, sep=\"\\t\")\n",
    "    rownames(singler) <- singler$id \n",
    "    \n",
    "    singler <- singler[, stringr::str_detect(colnames(singler), \"scores.\")]\n",
    "    singler <- singler[, !stringr::str_detect(colnames(singler), \"tuning\")]\n",
    "    colnames(singler) <- stringr::str_replace(colnames(singler), \"scores.\", \"\")\n",
    "    colnames(singler) <- translate(colnames(singler))\n",
    "    singler[is.na(singler)] <- 0\n",
    "    return(singler)\n",
    "}\n",
    "\n",
    "readItclust <- function(file){\n",
    "\n",
    "    itclust <- read.csv(paste(sep=\"/\", file, \"results/clustering_prob.csv\"))\n",
    "    ids <- read.csv(paste(sep=\"/\", file, \"results/celltype_assignment.txt\"), header=F)\n",
    "    rownames(itclust) <- itclust$X\n",
    "    itclust$X <- NULL\n",
    "\n",
    "    ids[c(\"x\", 'Cluster', 'x', \"confidence\", \"x\", \"x\", \"type\")] <-  stringr::str_split_fixed(ids$V1, ' ', 7)\n",
    "    ids$type <- unlist(lapply(ids$type, function(type) substr(type, 1, nchar(type)-5)))\n",
    "    ids$Cluster <- paste0(\"cluster\", ids$Cluster)\n",
    "\n",
    "    colnames(itclust) <- ids$type[ids$Cluster ==colnames(itclust)]\n",
    "    itclust[is.na(itclust)] <- 0\n",
    "    return(itclust)\n",
    "\n",
    "}\n",
    "                              \n",
    "filter_set<- function(set, cutoff=NULL){\n",
    "    set[is.na(set)] <- 0\n",
    "    if(!is.null(cutoff)) set[set < cutoff]<- 0\n",
    "    return(set)\n",
    "} \n",
    "                              \n",
    "summarize_binary_prediction <- function(set){\n",
    "   x <- which.max(table(set))\n",
    "   return(set[x]) \n",
    "}\n",
    "\n",
    "get_binary_prediction <- function(set){\n",
    "    predictions <-  apply(set, 1, which.max)\n",
    "    predictions <- colnames(set)[predictions]\n",
    "    names(predictions) <- rownames(set)\n",
    "    \n",
    "    return(predictions)\n",
    "}\n",
    "\n",
    "filter_data <- function(data, cutoff){\n",
    "    \n",
    "    data[data < cutoff] <- 0\n",
    "    return(data)\n",
    "}\n",
    "get_confidence_df <- function(subsets, nr_sets){\n",
    "    combs <- Reduce('+', subsets)\n",
    "    combs <- combs / nr_sets                    \n",
    "    prediction <- apply(combs, 1, which.max)\n",
    "    prediction <- colnames(combs)[prediction] \n",
    "    return(prediction)\n",
    "}\n",
    "get_predicton <- function(sets, combinations, method, set, cutoff=0.25){\n",
    "    nr_sets <- length(combinations)\n",
    "    subsets <- sets[names(sets) %in% combinations]\n",
    "    if(method != \"CellID\") prediction <- sapply(subsets, function(set) get_binary_prediction(set)) \n",
    "    else { \n",
    "        prediction <- Reduce(function(x, y) merge(x, y, by=\"id\", all=TRUE), subsets)\n",
    "        rownames(prediction) <- prediction$id\n",
    "        prediction <- prediction[colnames(prediction) != \"id\",]\n",
    "                             }                       \n",
    "    prediction_binary <- apply(prediction, 1, summarize_binary_prediction)\n",
    "\n",
    "    df <- data.frame(id=rownames(prediction), method=method,\n",
    "                     set=set, prediction_binary = prediction_binary)   \n",
    "    return(df)\n",
    "}\n",
    "                             \n",
    "readCellID <- function(id){\n",
    "    file <- list.files(\"/fast/AG_Haghverdi/Carla_Moelbert/Celltype_annotation/Data/Predictions/CellID/\",\n",
    "                                                     pattern = paste0(id, \".txt\"),\n",
    "                                                     full.names = T)\n",
    "    data <- read.csv(file, sep=\"\\t\")\n",
    "    data <- data[, c(\"id\", \"predicted\")]\n",
    "    colnames(data)[2] <- id\n",
    "    return(data)\n",
    "}                             "
   ]
  },
  {
   "cell_type": "code",
   "execution_count": 2,
   "id": "03e74da7-dbe6-4cd1-8b07-d84f5e963db9",
   "metadata": {},
   "outputs": [
    {
     "name": "stdout",
     "output_type": "stream",
     "text": [
      "[1] \"Start....\"\n"
     ]
    }
   ],
   "source": [
    "print(\"Start....\")\n",
    "size=20\n",
    "cutoff = 0.3\n",
    "sequence <- seq(1,20,1)\n",
    "                   \n",
    "get_bootstrap_df <- function(pattern, path,  size=20, sequence = seq(1,20,1)){\n",
    "    files <- list.files(paste(sep=\"/\", path, \"ItClust\"), pattern = pattern)\n",
    "    \n",
    "    combinations <- lapply(sequence, function(seed) get_combinations(files, size, seed))\n",
    " \n",
    "    print(\"Get Seurat...\")\n",
    "    files_seurat <- lapply(files, function(file) list.files(paste(sep=\"/\", path, \"Seurat\"),\n",
    "                                                            pattern = paste0(file, \"_predictions.txt\"),\n",
    "                                                            full.names = T))\n",
    "              \n",
    "    sets_seurat  <- lapply(files_seurat, function(file) readSeurat(file))\n",
    "    names(sets_seurat)<- files\n",
    "    seurat_pred <- do.call(rbind,lapply(sequence, function(seq) get_predicton(sets_seurat,\n",
    "                                                                       unlist(combinations[seq]),\n",
    "                                                                       \"Seurat\", seq, cutoff)))\n",
    "    sets_cellid <- lapply(files, function(file) readCellID(file))\n",
    "    names(sets_cellid) <- files\n",
    "    cellid_pred <- do.call(rbind,lapply(sequence, function(seq) get_predicton(sets_cellid,\n",
    "                                                                       unlist(combinations[seq]),\n",
    "                                                                       \"CellID\", seq, cutoff)))\n",
    "                                   \n",
    "    print(\"Get SCN...\")                                    \n",
    "    files_scn <- lapply(files, function(file) list.files(paste(sep=\"/\", path, \"SingleCellNet\"),\n",
    "                                                     pattern = paste0(file, \".txt\"),\n",
    "                                                     full.names = T))\n",
    "    sets_scn  <- lapply(files_scn, function(file) readSCN(file))\n",
    "    names(sets_scn)<- files\n",
    "    scn_pred <- do.call(rbind,lapply(sequence, function(seq) get_predicton(sets_scn,\n",
    "                                                                       unlist(combinations[seq]),\"SingleCellNet\", seq)))\n",
    "\n",
    "      print(\"Get SingleR\")\n",
    "    files_singler <- lapply(files, function(file) list.files(paste(sep=\"/\", path, \"SingleR\"),\n",
    "                                                         pattern = paste0(file, \".txt\"), \n",
    "                                                         full.names = T))\n",
    "    sets_singler  <- lapply(files_singler, function(file) readSingleR(file))\n",
    "    names(sets_singler )<- files\n",
    "    singler_pred <- do.call(rbind,lapply(sequence, function(seq) get_predicton(sets_singler,\n",
    "                                                                       unlist(combinations[seq]),\n",
    "                                                                       \"SingleR\", seq)))\n",
    "  print(\"Get ItClust...\")\n",
    "files_itclust <- paste(sep=\"/\", path, \"ItClust\", files)\n",
    "sets_itclust  <- lapply(files_itclust, function(file) readItclust(file))\n",
    "names(sets_itclust )<- files\n",
    "itclust_pred <- do.call(rbind,lapply(sequence, function(seq) get_predicton(sets_itclust,\n",
    "                                                                       unlist(combinations[seq]),\n",
    "                                                                       \"ItClust\", seq)))\n",
    "itclust_pred$id <- stringr::str_replace(itclust_pred$id, \"-target\", \"\")\n",
    "  predictions <- do.call(rbind, list(seurat_pred, scn_pred, singler_pred, itclust_pred, cellid_pred))\n",
    "                            \n",
    " \n",
    "}"
   ]
  },
  {
   "cell_type": "code",
   "execution_count": 3,
   "id": "f20ae39c-0e21-4d0d-a405-da68e20d5c59",
   "metadata": {},
   "outputs": [
    {
     "data": {
      "text/html": [
       "<table class=\"dataframe\">\n",
       "<caption>A data.frame: 6 × 2</caption>\n",
       "<thead>\n",
       "\t<tr><th></th><th scope=col>id</th><th scope=col>class_</th></tr>\n",
       "\t<tr><th></th><th scope=col>&lt;chr&gt;</th><th scope=col>&lt;chr&gt;</th></tr>\n",
       "</thead>\n",
       "<tbody>\n",
       "\t<tr><th scope=row>1</th><td>pbmc2_SM2_Cell_1  </td><td>CD14+ monocyte</td></tr>\n",
       "\t<tr><th scope=row>2</th><td>pbmc2_SM2_Cell_102</td><td>CD14+ monocyte</td></tr>\n",
       "\t<tr><th scope=row>3</th><td>pbmc2_SM2_Cell_118</td><td>CD14+ monocyte</td></tr>\n",
       "\t<tr><th scope=row>4</th><td>pbmc2_SM2_Cell_127</td><td>CD14+ monocyte</td></tr>\n",
       "\t<tr><th scope=row>5</th><td>pbmc2_SM2_Cell_131</td><td>CD14+ monocyte</td></tr>\n",
       "\t<tr><th scope=row>6</th><td>pbmc2_SM2_Cell_133</td><td>CD14+ monocyte</td></tr>\n",
       "</tbody>\n",
       "</table>\n"
      ],
      "text/latex": [
       "A data.frame: 6 × 2\n",
       "\\begin{tabular}{r|ll}\n",
       "  & id & class\\_\\\\\n",
       "  & <chr> & <chr>\\\\\n",
       "\\hline\n",
       "\t1 & pbmc2\\_SM2\\_Cell\\_1   & CD14+ monocyte\\\\\n",
       "\t2 & pbmc2\\_SM2\\_Cell\\_102 & CD14+ monocyte\\\\\n",
       "\t3 & pbmc2\\_SM2\\_Cell\\_118 & CD14+ monocyte\\\\\n",
       "\t4 & pbmc2\\_SM2\\_Cell\\_127 & CD14+ monocyte\\\\\n",
       "\t5 & pbmc2\\_SM2\\_Cell\\_131 & CD14+ monocyte\\\\\n",
       "\t6 & pbmc2\\_SM2\\_Cell\\_133 & CD14+ monocyte\\\\\n",
       "\\end{tabular}\n"
      ],
      "text/markdown": [
       "\n",
       "A data.frame: 6 × 2\n",
       "\n",
       "| <!--/--> | id &lt;chr&gt; | class_ &lt;chr&gt; |\n",
       "|---|---|---|\n",
       "| 1 | pbmc2_SM2_Cell_1   | CD14+ monocyte |\n",
       "| 2 | pbmc2_SM2_Cell_102 | CD14+ monocyte |\n",
       "| 3 | pbmc2_SM2_Cell_118 | CD14+ monocyte |\n",
       "| 4 | pbmc2_SM2_Cell_127 | CD14+ monocyte |\n",
       "| 5 | pbmc2_SM2_Cell_131 | CD14+ monocyte |\n",
       "| 6 | pbmc2_SM2_Cell_133 | CD14+ monocyte |\n",
       "\n"
      ],
      "text/plain": [
       "  id                 class_        \n",
       "1 pbmc2_SM2_Cell_1   CD14+ monocyte\n",
       "2 pbmc2_SM2_Cell_102 CD14+ monocyte\n",
       "3 pbmc2_SM2_Cell_118 CD14+ monocyte\n",
       "4 pbmc2_SM2_Cell_127 CD14+ monocyte\n",
       "5 pbmc2_SM2_Cell_131 CD14+ monocyte\n",
       "6 pbmc2_SM2_Cell_133 CD14+ monocyte"
      ]
     },
     "metadata": {},
     "output_type": "display_data"
    },
    {
     "data": {
      "text/html": [
       "11183"
      ],
      "text/latex": [
       "11183"
      ],
      "text/markdown": [
       "11183"
      ],
      "text/plain": [
       "[1] 11183"
      ]
     },
     "metadata": {},
     "output_type": "display_data"
    }
   ],
   "source": [
    "ref <- read.csv(\"/fast/AG_Haghverdi/Carla_Moelbert/Celltype_annotation/Data/Fulldata/PBMC_Query/meta.csv\")\n",
    "ref <- ref[,c(\"id\", \"class_\")]\n",
    "head(ref)\n",
    "nrow(ref)"
   ]
  },
  {
   "cell_type": "code",
   "execution_count": 4,
   "id": "a18a5561-4d88-4093-9b36-3b70965876fd",
   "metadata": {},
   "outputs": [
    {
     "ename": "ERROR",
     "evalue": "Error in as.data.frame(y): object 'bootstrap' not found\n",
     "output_type": "error",
     "traceback": [
      "Error in as.data.frame(y): object 'bootstrap' not found\nTraceback:\n",
      "1. merge(ref, bootstrap, by = c(\"id\"), all = T)",
      "2. merge.data.frame(ref, bootstrap, by = c(\"id\"), all = T)",
      "3. nrow(y <- as.data.frame(y))",
      "4. as.data.frame(y)"
     ]
    }
   ],
   "source": [
    "data <- merge(ref, bootstrap, by=c(\"id\"), all=T)\n",
    "data$match_mosaic <- data$class_ == data$bootstrap_mosaic\n",
    "data$match_mosaic[data$match_mosaic == TRUE] <- 1\n",
    "\n",
    "data$match_mono <- data$class_ == data$bootstrap_mono\n",
    "data$match_mono[data$match_mono == TRUE] <- 1\n",
    "\n",
    "summary <- data %>% \n",
    "           dplyr::group_by(method, class_, id) %>% \n",
    "dplyr::summarize(bootstrap_mono= mean(match_mono),\n",
    "                 bootstrap_mosaic= mean(match_mosaic)) \n",
    "\n",
    "print(head(summary))"
   ]
  },
  {
   "cell_type": "code",
   "execution_count": 9,
   "id": "82a65fd9-ed62-4084-b2bc-107963885290",
   "metadata": {},
   "outputs": [],
   "source": [
    "write.table(data,\n",
    "            \"/fast/AG_Haghverdi/Carla_Moelbert/Celltype_annotation/Results/Files/bootstrap_summary.csv\",\n",
    "           col.names=T, row.names=F, sep=\",\", quote=T)"
   ]
  },
  {
   "cell_type": "code",
   "execution_count": 10,
   "id": "44112e4e-a280-43a5-a2c4-c44dd52f527d",
   "metadata": {},
   "outputs": [],
   "source": [
    "data <- read.csv(\"/fast/AG_Haghverdi/Carla_Moelbert/Celltype_annotation/Results/Files/results_general.csv\")"
   ]
  },
  {
   "cell_type": "code",
   "execution_count": 11,
   "id": "84494409-893a-4063-a5cd-58fc71525968",
   "metadata": {},
   "outputs": [],
   "source": [
    "full <- data[, stringr::str_detect(colnames(data), \"3090\")]\n",
    "full$class_ <- data$class_\n",
    "full$id <- data$id\n",
    "full$tech <- data$Method\n",
    "full <- reshape2::melt(full,id=c(\"class_\", \"id\", \"tech\"), value.name = \"full\")\n",
    "full[c('reference', 'method', \"size\", \"set\")] <- stringr::str_split_fixed(full$variable, '_', 4)\n",
    "full <- full[, c(\"id\", \"class_\", \"method\", \"full\", \"tech\")]"
   ]
  },
  {
   "cell_type": "code",
   "execution_count": 12,
   "id": "d55725d3-281a-4c1a-b893-18ed5aeed8de",
   "metadata": {},
   "outputs": [
    {
     "name": "stderr",
     "output_type": "stream",
     "text": [
      "\u001b[1m\u001b[22m`summarise()` has grouped output by 'method', 'class_'. You can override using the `.groups` argument.\n"
     ]
    },
    {
     "data": {
      "text/html": [
       "<table class=\"dataframe\">\n",
       "<caption>A grouped_df: 6 × 4</caption>\n",
       "<thead>\n",
       "\t<tr><th scope=col>method</th><th scope=col>class_</th><th scope=col>id</th><th scope=col>individual</th></tr>\n",
       "\t<tr><th scope=col>&lt;chr&gt;</th><th scope=col>&lt;chr&gt;</th><th scope=col>&lt;chr&gt;</th><th scope=col>&lt;dbl&gt;</th></tr>\n",
       "</thead>\n",
       "<tbody>\n",
       "\t<tr><td>CellID</td><td>B cell</td><td>pbmc2_10X_V2_AAACCTGAGATGGGTC</td><td>1.0000000</td></tr>\n",
       "\t<tr><td>CellID</td><td>B cell</td><td>pbmc2_10X_V2_AAACCTGAGCGTAATA</td><td>0.9333333</td></tr>\n",
       "\t<tr><td>CellID</td><td>B cell</td><td>pbmc2_10X_V2_AAACCTGTCTTGTACT</td><td>0.1433333</td></tr>\n",
       "\t<tr><td>CellID</td><td>B cell</td><td>pbmc2_10X_V2_AAACGGGAGTGCAAGC</td><td>0.0000000</td></tr>\n",
       "\t<tr><td>CellID</td><td>B cell</td><td>pbmc2_10X_V2_AAACGGGCATTATCTC</td><td>0.7933333</td></tr>\n",
       "\t<tr><td>CellID</td><td>B cell</td><td>pbmc2_10X_V2_AAACGGGGTCCAACTA</td><td>0.0000000</td></tr>\n",
       "</tbody>\n",
       "</table>\n"
      ],
      "text/latex": [
       "A grouped\\_df: 6 × 4\n",
       "\\begin{tabular}{llll}\n",
       " method & class\\_ & id & individual\\\\\n",
       " <chr> & <chr> & <chr> & <dbl>\\\\\n",
       "\\hline\n",
       "\t CellID & B cell & pbmc2\\_10X\\_V2\\_AAACCTGAGATGGGTC & 1.0000000\\\\\n",
       "\t CellID & B cell & pbmc2\\_10X\\_V2\\_AAACCTGAGCGTAATA & 0.9333333\\\\\n",
       "\t CellID & B cell & pbmc2\\_10X\\_V2\\_AAACCTGTCTTGTACT & 0.1433333\\\\\n",
       "\t CellID & B cell & pbmc2\\_10X\\_V2\\_AAACGGGAGTGCAAGC & 0.0000000\\\\\n",
       "\t CellID & B cell & pbmc2\\_10X\\_V2\\_AAACGGGCATTATCTC & 0.7933333\\\\\n",
       "\t CellID & B cell & pbmc2\\_10X\\_V2\\_AAACGGGGTCCAACTA & 0.0000000\\\\\n",
       "\\end{tabular}\n"
      ],
      "text/markdown": [
       "\n",
       "A grouped_df: 6 × 4\n",
       "\n",
       "| method &lt;chr&gt; | class_ &lt;chr&gt; | id &lt;chr&gt; | individual &lt;dbl&gt; |\n",
       "|---|---|---|---|\n",
       "| CellID | B cell | pbmc2_10X_V2_AAACCTGAGATGGGTC | 1.0000000 |\n",
       "| CellID | B cell | pbmc2_10X_V2_AAACCTGAGCGTAATA | 0.9333333 |\n",
       "| CellID | B cell | pbmc2_10X_V2_AAACCTGTCTTGTACT | 0.1433333 |\n",
       "| CellID | B cell | pbmc2_10X_V2_AAACGGGAGTGCAAGC | 0.0000000 |\n",
       "| CellID | B cell | pbmc2_10X_V2_AAACGGGCATTATCTC | 0.7933333 |\n",
       "| CellID | B cell | pbmc2_10X_V2_AAACGGGGTCCAACTA | 0.0000000 |\n",
       "\n"
      ],
      "text/plain": [
       "  method class_ id                            individual\n",
       "1 CellID B cell pbmc2_10X_V2_AAACCTGAGATGGGTC 1.0000000 \n",
       "2 CellID B cell pbmc2_10X_V2_AAACCTGAGCGTAATA 0.9333333 \n",
       "3 CellID B cell pbmc2_10X_V2_AAACCTGTCTTGTACT 0.1433333 \n",
       "4 CellID B cell pbmc2_10X_V2_AAACGGGAGTGCAAGC 0.0000000 \n",
       "5 CellID B cell pbmc2_10X_V2_AAACGGGCATTATCTC 0.7933333 \n",
       "6 CellID B cell pbmc2_10X_V2_AAACGGGGTCCAACTA 0.0000000 "
      ]
     },
     "metadata": {},
     "output_type": "display_data"
    },
    {
     "data": {
      "text/html": [
       "55915"
      ],
      "text/latex": [
       "55915"
      ],
      "text/markdown": [
       "55915"
      ],
      "text/plain": [
       "[1] 55915"
      ]
     },
     "metadata": {},
     "output_type": "display_data"
    }
   ],
   "source": [
    "individual <- data[, stringr::str_detect(colnames(data), \"_100_\")]\n",
    "individual$class_ <- data$class_\n",
    "individual$id <- data$id\n",
    "individual <- reshape2::melt(individual,id=c(\"class_\", \"id\"), value.name = \"individual\")\n",
    "individual[c('reference', 'method', \"size\", \"set\")] <- stringr::str_split_fixed(individual$variable, '_', 4)\n",
    "individual <- individual[, c(\"id\", \"class_\", \"method\", \"individual\")]\n",
    "\n",
    "\n",
    "individual$match <- individual$class_ == individual$individual\n",
    "individual$match[individual$match == TRUE] <- 1\n",
    "\n",
    "ind<- individual %>% \n",
    "           dplyr::group_by(method, class_, id) %>% \n",
    "dplyr::summarize(individual= mean(match)) "
   ]
  },
  {
   "cell_type": "code",
   "execution_count": 13,
   "id": "c58155f5-18bb-4ec4-8445-18d75734fd75",
   "metadata": {},
   "outputs": [
    {
     "data": {
      "text/html": [
       "<table class=\"dataframe\">\n",
       "<caption>A data.frame: 6 × 8</caption>\n",
       "<thead>\n",
       "\t<tr><th></th><th scope=col>id</th><th scope=col>class_</th><th scope=col>method</th><th scope=col>bootstrap_mono</th><th scope=col>bootstrap_mosaic</th><th scope=col>full</th><th scope=col>tech</th><th scope=col>individual</th></tr>\n",
       "\t<tr><th></th><th scope=col>&lt;chr&gt;</th><th scope=col>&lt;chr&gt;</th><th scope=col>&lt;chr&gt;</th><th scope=col>&lt;dbl&gt;</th><th scope=col>&lt;dbl&gt;</th><th scope=col>&lt;chr&gt;</th><th scope=col>&lt;chr&gt;</th><th scope=col>&lt;dbl&gt;</th></tr>\n",
       "</thead>\n",
       "<tbody>\n",
       "\t<tr><th scope=row>1</th><td>pbmc2_10X_V2_AAACCTGAGATGGGTC</td><td>B cell</td><td>ItClust</td><td>1</td><td>1.00</td><td>B cell</td><td>10x</td><td>1.0000000</td></tr>\n",
       "\t<tr><th scope=row>2</th><td>pbmc2_10X_V2_AAACCTGAGATGGGTC</td><td>B cell</td><td>SCN    </td><td>1</td><td>1.00</td><td>B cell</td><td>10x</td><td>1.0000000</td></tr>\n",
       "\t<tr><th scope=row>3</th><td>pbmc2_10X_V2_AAACCTGAGATGGGTC</td><td>B cell</td><td>Seurat </td><td>1</td><td>1.00</td><td>B cell</td><td>10x</td><td>1.0000000</td></tr>\n",
       "\t<tr><th scope=row>4</th><td>pbmc2_10X_V2_AAACCTGAGATGGGTC</td><td>B cell</td><td>SingleR</td><td>1</td><td>1.00</td><td>B cell</td><td>10x</td><td>1.0000000</td></tr>\n",
       "\t<tr><th scope=row>5</th><td>pbmc2_10X_V2_AAACCTGAGCGTAATA</td><td>B cell</td><td>CellID </td><td>0</td><td>0.15</td><td>B cell</td><td>10x</td><td>0.9333333</td></tr>\n",
       "\t<tr><th scope=row>6</th><td>pbmc2_10X_V2_AAACCTGAGCGTAATA</td><td>B cell</td><td>ItClust</td><td>1</td><td>1.00</td><td>B cell</td><td>10x</td><td>1.0000000</td></tr>\n",
       "</tbody>\n",
       "</table>\n"
      ],
      "text/latex": [
       "A data.frame: 6 × 8\n",
       "\\begin{tabular}{r|llllllll}\n",
       "  & id & class\\_ & method & bootstrap\\_mono & bootstrap\\_mosaic & full & tech & individual\\\\\n",
       "  & <chr> & <chr> & <chr> & <dbl> & <dbl> & <chr> & <chr> & <dbl>\\\\\n",
       "\\hline\n",
       "\t1 & pbmc2\\_10X\\_V2\\_AAACCTGAGATGGGTC & B cell & ItClust & 1 & 1.00 & B cell & 10x & 1.0000000\\\\\n",
       "\t2 & pbmc2\\_10X\\_V2\\_AAACCTGAGATGGGTC & B cell & SCN     & 1 & 1.00 & B cell & 10x & 1.0000000\\\\\n",
       "\t3 & pbmc2\\_10X\\_V2\\_AAACCTGAGATGGGTC & B cell & Seurat  & 1 & 1.00 & B cell & 10x & 1.0000000\\\\\n",
       "\t4 & pbmc2\\_10X\\_V2\\_AAACCTGAGATGGGTC & B cell & SingleR & 1 & 1.00 & B cell & 10x & 1.0000000\\\\\n",
       "\t5 & pbmc2\\_10X\\_V2\\_AAACCTGAGCGTAATA & B cell & CellID  & 0 & 0.15 & B cell & 10x & 0.9333333\\\\\n",
       "\t6 & pbmc2\\_10X\\_V2\\_AAACCTGAGCGTAATA & B cell & ItClust & 1 & 1.00 & B cell & 10x & 1.0000000\\\\\n",
       "\\end{tabular}\n"
      ],
      "text/markdown": [
       "\n",
       "A data.frame: 6 × 8\n",
       "\n",
       "| <!--/--> | id &lt;chr&gt; | class_ &lt;chr&gt; | method &lt;chr&gt; | bootstrap_mono &lt;dbl&gt; | bootstrap_mosaic &lt;dbl&gt; | full &lt;chr&gt; | tech &lt;chr&gt; | individual &lt;dbl&gt; |\n",
       "|---|---|---|---|---|---|---|---|---|\n",
       "| 1 | pbmc2_10X_V2_AAACCTGAGATGGGTC | B cell | ItClust | 1 | 1.00 | B cell | 10x | 1.0000000 |\n",
       "| 2 | pbmc2_10X_V2_AAACCTGAGATGGGTC | B cell | SCN     | 1 | 1.00 | B cell | 10x | 1.0000000 |\n",
       "| 3 | pbmc2_10X_V2_AAACCTGAGATGGGTC | B cell | Seurat  | 1 | 1.00 | B cell | 10x | 1.0000000 |\n",
       "| 4 | pbmc2_10X_V2_AAACCTGAGATGGGTC | B cell | SingleR | 1 | 1.00 | B cell | 10x | 1.0000000 |\n",
       "| 5 | pbmc2_10X_V2_AAACCTGAGCGTAATA | B cell | CellID  | 0 | 0.15 | B cell | 10x | 0.9333333 |\n",
       "| 6 | pbmc2_10X_V2_AAACCTGAGCGTAATA | B cell | ItClust | 1 | 1.00 | B cell | 10x | 1.0000000 |\n",
       "\n"
      ],
      "text/plain": [
       "  id                            class_ method  bootstrap_mono bootstrap_mosaic\n",
       "1 pbmc2_10X_V2_AAACCTGAGATGGGTC B cell ItClust 1              1.00            \n",
       "2 pbmc2_10X_V2_AAACCTGAGATGGGTC B cell SCN     1              1.00            \n",
       "3 pbmc2_10X_V2_AAACCTGAGATGGGTC B cell Seurat  1              1.00            \n",
       "4 pbmc2_10X_V2_AAACCTGAGATGGGTC B cell SingleR 1              1.00            \n",
       "5 pbmc2_10X_V2_AAACCTGAGCGTAATA B cell CellID  0              0.15            \n",
       "6 pbmc2_10X_V2_AAACCTGAGCGTAATA B cell ItClust 1              1.00            \n",
       "  full   tech individual\n",
       "1 B cell 10x  1.0000000 \n",
       "2 B cell 10x  1.0000000 \n",
       "3 B cell 10x  1.0000000 \n",
       "4 B cell 10x  1.0000000 \n",
       "5 B cell 10x  0.9333333 \n",
       "6 B cell 10x  1.0000000 "
      ]
     },
     "metadata": {},
     "output_type": "display_data"
    }
   ],
   "source": [
    "umap_data <- merge(full, ind, by=c(\"id\", \"class_\", \"method\"))\n",
    "umap_data <- merge(summary, umap_data, by=c(\"id\", \"class_\", \"method\"))\n",
    "head(umap_data)"
   ]
  },
  {
   "cell_type": "code",
   "execution_count": 14,
   "id": "ece886cc-69d3-4ae7-9c0e-c6d84f5e26ae",
   "metadata": {},
   "outputs": [
    {
     "data": {
      "text/html": [
       "<table class=\"dataframe\">\n",
       "<caption>A data.frame: 6 × 10</caption>\n",
       "<thead>\n",
       "\t<tr><th></th><th scope=col>id</th><th scope=col>class_</th><th scope=col>method</th><th scope=col>bootstrap_mono</th><th scope=col>bootstrap_mosaic</th><th scope=col>full</th><th scope=col>tech</th><th scope=col>individual</th><th scope=col>mono_dif</th><th scope=col>mosaic_dif</th></tr>\n",
       "\t<tr><th></th><th scope=col>&lt;chr&gt;</th><th scope=col>&lt;chr&gt;</th><th scope=col>&lt;chr&gt;</th><th scope=col>&lt;dbl&gt;</th><th scope=col>&lt;dbl&gt;</th><th scope=col>&lt;chr&gt;</th><th scope=col>&lt;chr&gt;</th><th scope=col>&lt;dbl&gt;</th><th scope=col>&lt;dbl&gt;</th><th scope=col>&lt;dbl&gt;</th></tr>\n",
       "</thead>\n",
       "<tbody>\n",
       "\t<tr><th scope=row>1</th><td>pbmc2_10X_V2_AAACCTGAGATGGGTC</td><td>B cell</td><td>ItClust</td><td>1</td><td>1.00</td><td>B cell</td><td>10x</td><td>1.0000000</td><td> 0.0000000</td><td>0.00</td></tr>\n",
       "\t<tr><th scope=row>2</th><td>pbmc2_10X_V2_AAACCTGAGATGGGTC</td><td>B cell</td><td>SCN    </td><td>1</td><td>1.00</td><td>B cell</td><td>10x</td><td>1.0000000</td><td> 0.0000000</td><td>0.00</td></tr>\n",
       "\t<tr><th scope=row>3</th><td>pbmc2_10X_V2_AAACCTGAGATGGGTC</td><td>B cell</td><td>Seurat </td><td>1</td><td>1.00</td><td>B cell</td><td>10x</td><td>1.0000000</td><td> 0.0000000</td><td>0.00</td></tr>\n",
       "\t<tr><th scope=row>4</th><td>pbmc2_10X_V2_AAACCTGAGATGGGTC</td><td>B cell</td><td>SingleR</td><td>1</td><td>1.00</td><td>B cell</td><td>10x</td><td>1.0000000</td><td> 0.0000000</td><td>0.00</td></tr>\n",
       "\t<tr><th scope=row>5</th><td>pbmc2_10X_V2_AAACCTGAGCGTAATA</td><td>B cell</td><td>CellID </td><td>0</td><td>0.15</td><td>B cell</td><td>10x</td><td>0.9333333</td><td>-0.9333333</td><td>0.15</td></tr>\n",
       "\t<tr><th scope=row>6</th><td>pbmc2_10X_V2_AAACCTGAGCGTAATA</td><td>B cell</td><td>ItClust</td><td>1</td><td>1.00</td><td>B cell</td><td>10x</td><td>1.0000000</td><td> 0.0000000</td><td>0.00</td></tr>\n",
       "</tbody>\n",
       "</table>\n"
      ],
      "text/latex": [
       "A data.frame: 6 × 10\n",
       "\\begin{tabular}{r|llllllllll}\n",
       "  & id & class\\_ & method & bootstrap\\_mono & bootstrap\\_mosaic & full & tech & individual & mono\\_dif & mosaic\\_dif\\\\\n",
       "  & <chr> & <chr> & <chr> & <dbl> & <dbl> & <chr> & <chr> & <dbl> & <dbl> & <dbl>\\\\\n",
       "\\hline\n",
       "\t1 & pbmc2\\_10X\\_V2\\_AAACCTGAGATGGGTC & B cell & ItClust & 1 & 1.00 & B cell & 10x & 1.0000000 &  0.0000000 & 0.00\\\\\n",
       "\t2 & pbmc2\\_10X\\_V2\\_AAACCTGAGATGGGTC & B cell & SCN     & 1 & 1.00 & B cell & 10x & 1.0000000 &  0.0000000 & 0.00\\\\\n",
       "\t3 & pbmc2\\_10X\\_V2\\_AAACCTGAGATGGGTC & B cell & Seurat  & 1 & 1.00 & B cell & 10x & 1.0000000 &  0.0000000 & 0.00\\\\\n",
       "\t4 & pbmc2\\_10X\\_V2\\_AAACCTGAGATGGGTC & B cell & SingleR & 1 & 1.00 & B cell & 10x & 1.0000000 &  0.0000000 & 0.00\\\\\n",
       "\t5 & pbmc2\\_10X\\_V2\\_AAACCTGAGCGTAATA & B cell & CellID  & 0 & 0.15 & B cell & 10x & 0.9333333 & -0.9333333 & 0.15\\\\\n",
       "\t6 & pbmc2\\_10X\\_V2\\_AAACCTGAGCGTAATA & B cell & ItClust & 1 & 1.00 & B cell & 10x & 1.0000000 &  0.0000000 & 0.00\\\\\n",
       "\\end{tabular}\n"
      ],
      "text/markdown": [
       "\n",
       "A data.frame: 6 × 10\n",
       "\n",
       "| <!--/--> | id &lt;chr&gt; | class_ &lt;chr&gt; | method &lt;chr&gt; | bootstrap_mono &lt;dbl&gt; | bootstrap_mosaic &lt;dbl&gt; | full &lt;chr&gt; | tech &lt;chr&gt; | individual &lt;dbl&gt; | mono_dif &lt;dbl&gt; | mosaic_dif &lt;dbl&gt; |\n",
       "|---|---|---|---|---|---|---|---|---|---|---|\n",
       "| 1 | pbmc2_10X_V2_AAACCTGAGATGGGTC | B cell | ItClust | 1 | 1.00 | B cell | 10x | 1.0000000 |  0.0000000 | 0.00 |\n",
       "| 2 | pbmc2_10X_V2_AAACCTGAGATGGGTC | B cell | SCN     | 1 | 1.00 | B cell | 10x | 1.0000000 |  0.0000000 | 0.00 |\n",
       "| 3 | pbmc2_10X_V2_AAACCTGAGATGGGTC | B cell | Seurat  | 1 | 1.00 | B cell | 10x | 1.0000000 |  0.0000000 | 0.00 |\n",
       "| 4 | pbmc2_10X_V2_AAACCTGAGATGGGTC | B cell | SingleR | 1 | 1.00 | B cell | 10x | 1.0000000 |  0.0000000 | 0.00 |\n",
       "| 5 | pbmc2_10X_V2_AAACCTGAGCGTAATA | B cell | CellID  | 0 | 0.15 | B cell | 10x | 0.9333333 | -0.9333333 | 0.15 |\n",
       "| 6 | pbmc2_10X_V2_AAACCTGAGCGTAATA | B cell | ItClust | 1 | 1.00 | B cell | 10x | 1.0000000 |  0.0000000 | 0.00 |\n",
       "\n"
      ],
      "text/plain": [
       "  id                            class_ method  bootstrap_mono bootstrap_mosaic\n",
       "1 pbmc2_10X_V2_AAACCTGAGATGGGTC B cell ItClust 1              1.00            \n",
       "2 pbmc2_10X_V2_AAACCTGAGATGGGTC B cell SCN     1              1.00            \n",
       "3 pbmc2_10X_V2_AAACCTGAGATGGGTC B cell Seurat  1              1.00            \n",
       "4 pbmc2_10X_V2_AAACCTGAGATGGGTC B cell SingleR 1              1.00            \n",
       "5 pbmc2_10X_V2_AAACCTGAGCGTAATA B cell CellID  0              0.15            \n",
       "6 pbmc2_10X_V2_AAACCTGAGCGTAATA B cell ItClust 1              1.00            \n",
       "  full   tech individual mono_dif   mosaic_dif\n",
       "1 B cell 10x  1.0000000   0.0000000 0.00      \n",
       "2 B cell 10x  1.0000000   0.0000000 0.00      \n",
       "3 B cell 10x  1.0000000   0.0000000 0.00      \n",
       "4 B cell 10x  1.0000000   0.0000000 0.00      \n",
       "5 B cell 10x  0.9333333  -0.9333333 0.15      \n",
       "6 B cell 10x  1.0000000   0.0000000 0.00      "
      ]
     },
     "metadata": {},
     "output_type": "display_data"
    }
   ],
   "source": [
    "umap_data$mono_dif <- umap_data$bootstrap_mono - umap_data$individual\n",
    "umap_data$mosaic_dif <- umap_data$bootstrap_mosaic - umap_data$bootstrap_mono\n",
    "head(umap_data)"
   ]
  },
  {
   "cell_type": "code",
   "execution_count": 21,
   "id": "aef493cb-cf30-4945-a019-fcd946c9bf44",
   "metadata": {},
   "outputs": [],
   "source": [
    "getVectors <- function(method, data){\n",
    "\n",
    "    summary <- data[data$method == method,]  %>% \n",
    "           dplyr::group_by(id, class_, tech, full, curated) %>% \n",
    "           dplyr::summarize(\"mono\" = mean(bootstrap_mono),\n",
    "                            \"mosaic\" = mean(bootstrap_mosaic),\n",
    "                            \"individual\" = mean(individual),\n",
    "                            \"mono_dif\" = mean(mono_dif),\n",
    "                            \"mosaic_dif\" = mean(mosaic_dif))\n",
    "    colnames(summary) <- c(\"id\", \"class\",\"tech\", paste(sep=\"_\", \"full\", method) ,\n",
    "                           paste(sep=\"_\", \"curated\", method),\n",
    "                           paste(sep=\"_\",\"mono\", method),\n",
    "                           paste(sep=\"_\",\"mosaic\", method),\n",
    "                           paste(sep=\"_\",\"individual\", method),\n",
    "                           paste(sep=\"_\",\"mono_dif\", method),\n",
    "                           paste(sep=\"_\",\"mosaic_dif\", method))\n",
    "    return(summary)\n",
    "}\n",
    "\n",
    "getVectors_set <- function(method, data){\n",
    "\n",
    "    summary <- data[data$method == method,]  %>% \n",
    "           dplyr::group_by(set, class_, tech, full, curated) %>% \n",
    "           dplyr::summarize(\"mono\" = mean(bootstrap_mono),\n",
    "                            \"mosaic\" = mean(bootstrap_mosaic),\n",
    "                            \"individual\" = mean(individual),\n",
    "                            \"mono_dif\" = mean(mono_dif),\n",
    "                            \"mosaic_dif\" = mean(mosaic_dif))\n",
    "    colnames(summary) <- c(\"id\", \"class\",\"tech\", paste(sep=\"_\", \"full\", method) ,\n",
    "                           paste(sep=\"_\", \"curated\", method),\n",
    "                           paste(sep=\"_\",\"mono\", method),\n",
    "                           paste(sep=\"_\",\"mosaic\", method),\n",
    "                           paste(sep=\"_\",\"individual\", method),\n",
    "                           paste(sep=\"_\",\"mono_dif\", method),\n",
    "                           paste(sep=\"_\",\"mosaic_dif\", method))\n",
    "    return(summary)\n",
    "}"
   ]
  },
  {
   "cell_type": "code",
   "execution_count": 16,
   "id": "c834b745-6a61-4299-b2f9-249a09a95244",
   "metadata": {},
   "outputs": [
    {
     "data": {
      "text/html": [
       "<table class=\"dataframe\">\n",
       "<caption>A data.frame: 6 × 11</caption>\n",
       "<thead>\n",
       "\t<tr><th></th><th scope=col>id</th><th scope=col>class_</th><th scope=col>method</th><th scope=col>tech</th><th scope=col>bootstrap_mono</th><th scope=col>bootstrap_mosaic</th><th scope=col>full</th><th scope=col>individual</th><th scope=col>mono_dif</th><th scope=col>mosaic_dif</th><th scope=col>curated</th></tr>\n",
       "\t<tr><th></th><th scope=col>&lt;chr&gt;</th><th scope=col>&lt;chr&gt;</th><th scope=col>&lt;chr&gt;</th><th scope=col>&lt;chr&gt;</th><th scope=col>&lt;dbl&gt;</th><th scope=col>&lt;dbl&gt;</th><th scope=col>&lt;chr&gt;</th><th scope=col>&lt;dbl&gt;</th><th scope=col>&lt;dbl&gt;</th><th scope=col>&lt;dbl&gt;</th><th scope=col>&lt;chr&gt;</th></tr>\n",
       "</thead>\n",
       "<tbody>\n",
       "\t<tr><th scope=row>1</th><td>pbmc2_10X_V2_AAACCTGAGATGGGTC</td><td>B cell</td><td>CellID </td><td>10x</td><td>NA</td><td>  NA</td><td>NA    </td><td>       NA</td><td>        NA</td><td>  NA</td><td>B cell</td></tr>\n",
       "\t<tr><th scope=row>2</th><td>pbmc2_10X_V2_AAACCTGAGATGGGTC</td><td>B cell</td><td>ItClust</td><td>10x</td><td> 1</td><td>1.00</td><td>B cell</td><td>1.0000000</td><td> 0.0000000</td><td>0.00</td><td>NA    </td></tr>\n",
       "\t<tr><th scope=row>3</th><td>pbmc2_10X_V2_AAACCTGAGATGGGTC</td><td>B cell</td><td>SCN    </td><td>10x</td><td> 1</td><td>1.00</td><td>B cell</td><td>1.0000000</td><td> 0.0000000</td><td>0.00</td><td>B cell</td></tr>\n",
       "\t<tr><th scope=row>4</th><td>pbmc2_10X_V2_AAACCTGAGATGGGTC</td><td>B cell</td><td>Seurat </td><td>10x</td><td> 1</td><td>1.00</td><td>B cell</td><td>1.0000000</td><td> 0.0000000</td><td>0.00</td><td>B cell</td></tr>\n",
       "\t<tr><th scope=row>5</th><td>pbmc2_10X_V2_AAACCTGAGATGGGTC</td><td>B cell</td><td>SingleR</td><td>10x</td><td> 1</td><td>1.00</td><td>B cell</td><td>1.0000000</td><td> 0.0000000</td><td>0.00</td><td>B cell</td></tr>\n",
       "\t<tr><th scope=row>6</th><td>pbmc2_10X_V2_AAACCTGAGCGTAATA</td><td>B cell</td><td>CellID </td><td>10x</td><td> 0</td><td>0.15</td><td>B cell</td><td>0.9333333</td><td>-0.9333333</td><td>0.15</td><td>B cell</td></tr>\n",
       "</tbody>\n",
       "</table>\n"
      ],
      "text/latex": [
       "A data.frame: 6 × 11\n",
       "\\begin{tabular}{r|lllllllllll}\n",
       "  & id & class\\_ & method & tech & bootstrap\\_mono & bootstrap\\_mosaic & full & individual & mono\\_dif & mosaic\\_dif & curated\\\\\n",
       "  & <chr> & <chr> & <chr> & <chr> & <dbl> & <dbl> & <chr> & <dbl> & <dbl> & <dbl> & <chr>\\\\\n",
       "\\hline\n",
       "\t1 & pbmc2\\_10X\\_V2\\_AAACCTGAGATGGGTC & B cell & CellID  & 10x & NA &   NA & NA     &        NA &         NA &   NA & B cell\\\\\n",
       "\t2 & pbmc2\\_10X\\_V2\\_AAACCTGAGATGGGTC & B cell & ItClust & 10x &  1 & 1.00 & B cell & 1.0000000 &  0.0000000 & 0.00 & NA    \\\\\n",
       "\t3 & pbmc2\\_10X\\_V2\\_AAACCTGAGATGGGTC & B cell & SCN     & 10x &  1 & 1.00 & B cell & 1.0000000 &  0.0000000 & 0.00 & B cell\\\\\n",
       "\t4 & pbmc2\\_10X\\_V2\\_AAACCTGAGATGGGTC & B cell & Seurat  & 10x &  1 & 1.00 & B cell & 1.0000000 &  0.0000000 & 0.00 & B cell\\\\\n",
       "\t5 & pbmc2\\_10X\\_V2\\_AAACCTGAGATGGGTC & B cell & SingleR & 10x &  1 & 1.00 & B cell & 1.0000000 &  0.0000000 & 0.00 & B cell\\\\\n",
       "\t6 & pbmc2\\_10X\\_V2\\_AAACCTGAGCGTAATA & B cell & CellID  & 10x &  0 & 0.15 & B cell & 0.9333333 & -0.9333333 & 0.15 & B cell\\\\\n",
       "\\end{tabular}\n"
      ],
      "text/markdown": [
       "\n",
       "A data.frame: 6 × 11\n",
       "\n",
       "| <!--/--> | id &lt;chr&gt; | class_ &lt;chr&gt; | method &lt;chr&gt; | tech &lt;chr&gt; | bootstrap_mono &lt;dbl&gt; | bootstrap_mosaic &lt;dbl&gt; | full &lt;chr&gt; | individual &lt;dbl&gt; | mono_dif &lt;dbl&gt; | mosaic_dif &lt;dbl&gt; | curated &lt;chr&gt; |\n",
       "|---|---|---|---|---|---|---|---|---|---|---|---|\n",
       "| 1 | pbmc2_10X_V2_AAACCTGAGATGGGTC | B cell | CellID  | 10x | NA |   NA | NA     |        NA |         NA |   NA | B cell |\n",
       "| 2 | pbmc2_10X_V2_AAACCTGAGATGGGTC | B cell | ItClust | 10x |  1 | 1.00 | B cell | 1.0000000 |  0.0000000 | 0.00 | NA     |\n",
       "| 3 | pbmc2_10X_V2_AAACCTGAGATGGGTC | B cell | SCN     | 10x |  1 | 1.00 | B cell | 1.0000000 |  0.0000000 | 0.00 | B cell |\n",
       "| 4 | pbmc2_10X_V2_AAACCTGAGATGGGTC | B cell | Seurat  | 10x |  1 | 1.00 | B cell | 1.0000000 |  0.0000000 | 0.00 | B cell |\n",
       "| 5 | pbmc2_10X_V2_AAACCTGAGATGGGTC | B cell | SingleR | 10x |  1 | 1.00 | B cell | 1.0000000 |  0.0000000 | 0.00 | B cell |\n",
       "| 6 | pbmc2_10X_V2_AAACCTGAGCGTAATA | B cell | CellID  | 10x |  0 | 0.15 | B cell | 0.9333333 | -0.9333333 | 0.15 | B cell |\n",
       "\n"
      ],
      "text/plain": [
       "  id                            class_ method  tech bootstrap_mono\n",
       "1 pbmc2_10X_V2_AAACCTGAGATGGGTC B cell CellID  10x  NA            \n",
       "2 pbmc2_10X_V2_AAACCTGAGATGGGTC B cell ItClust 10x   1            \n",
       "3 pbmc2_10X_V2_AAACCTGAGATGGGTC B cell SCN     10x   1            \n",
       "4 pbmc2_10X_V2_AAACCTGAGATGGGTC B cell Seurat  10x   1            \n",
       "5 pbmc2_10X_V2_AAACCTGAGATGGGTC B cell SingleR 10x   1            \n",
       "6 pbmc2_10X_V2_AAACCTGAGCGTAATA B cell CellID  10x   0            \n",
       "  bootstrap_mosaic full   individual mono_dif   mosaic_dif curated\n",
       "1   NA             NA            NA          NA   NA       B cell \n",
       "2 1.00             B cell 1.0000000   0.0000000 0.00       NA     \n",
       "3 1.00             B cell 1.0000000   0.0000000 0.00       B cell \n",
       "4 1.00             B cell 1.0000000   0.0000000 0.00       B cell \n",
       "5 1.00             B cell 1.0000000   0.0000000 0.00       B cell \n",
       "6 0.15             B cell 0.9333333  -0.9333333 0.15       B cell "
      ]
     },
     "metadata": {},
     "output_type": "display_data"
    }
   ],
   "source": [
    "data <- read.csv(\"/fast/AG_Haghverdi/Carla_Moelbert/Celltype_annotation/Results/Files/results_curated_PBMC.csv\")\n",
    "full <- data[, stringr::str_detect(colnames(data), \"3090\")]\n",
    "full$class_ <- data$class_\n",
    "full$id <- data$id\n",
    "full$tech <- data$Method\n",
    "full <- reshape2::melt(full,id=c(\"class_\", \"id\", \"tech\"), value.name = \"full\")\n",
    "full[c('reference', 'method', \"size\", \"set\")] <- stringr::str_split_fixed(full$variable, '_', 4)\n",
    "full <- full[, c(\"id\", \"class_\", \"method\", \"full\", \"tech\")]\n",
    "\n",
    "colnames(full)[4] <- \"curated\"\n",
    "umap_data <- merge(umap_data, full, by=c(\"id\", \"class_\",\"method\", \"tech\"),all =TRUE)\n",
    "head(umap_data)"
   ]
  },
  {
   "cell_type": "code",
   "execution_count": 18,
   "id": "7a4b3d1f-0110-4cfa-a12b-7020c34033b1",
   "metadata": {},
   "outputs": [
    {
     "name": "stderr",
     "output_type": "stream",
     "text": [
      "\u001b[1m\u001b[22m`summarise()` has grouped output by 'id', 'class_', 'tech', 'full'. You can override using the `.groups` argument.\n",
      "\u001b[1m\u001b[22m`summarise()` has grouped output by 'id', 'class_', 'tech', 'full'. You can override using the `.groups` argument.\n",
      "\u001b[1m\u001b[22m`summarise()` has grouped output by 'id', 'class_', 'tech', 'full'. You can override using the `.groups` argument.\n",
      "\u001b[1m\u001b[22m`summarise()` has grouped output by 'id', 'class_', 'tech', 'full'. You can override using the `.groups` argument.\n",
      "\u001b[1m\u001b[22m`summarise()` has grouped output by 'id', 'class_', 'tech', 'full'. You can override using the `.groups` argument.\n"
     ]
    },
    {
     "data": {
      "text/html": [
       "5"
      ],
      "text/latex": [
       "5"
      ],
      "text/markdown": [
       "5"
      ],
      "text/plain": [
       "[1] 5"
      ]
     },
     "metadata": {},
     "output_type": "display_data"
    },
    {
     "data": {
      "text/html": [
       "<ol>\n",
       "\t<li>10910</li>\n",
       "\t<li>10910</li>\n",
       "\t<li>10910</li>\n",
       "\t<li>11183</li>\n",
       "\t<li>10886</li>\n",
       "</ol>\n"
      ],
      "text/latex": [
       "\\begin{enumerate}\n",
       "\\item 10910\n",
       "\\item 10910\n",
       "\\item 10910\n",
       "\\item 11183\n",
       "\\item 10886\n",
       "\\end{enumerate}\n"
      ],
      "text/markdown": [
       "1. 10910\n",
       "2. 10910\n",
       "3. 10910\n",
       "4. 11183\n",
       "5. 10886\n",
       "\n",
       "\n"
      ],
      "text/plain": [
       "[[1]]\n",
       "[1] 10910\n",
       "\n",
       "[[2]]\n",
       "[1] 10910\n",
       "\n",
       "[[3]]\n",
       "[1] 10910\n",
       "\n",
       "[[4]]\n",
       "[1] 11183\n",
       "\n",
       "[[5]]\n",
       "[1] 10886\n"
      ]
     },
     "metadata": {},
     "output_type": "display_data"
    }
   ],
   "source": [
    "methods <- c(\"Seurat\",  \"SingleR\",\"CellID\", \"SCN\", \"ItClust\")\n",
    "df <- lapply(methods, function(method) getVectors(method, umap_data))\n",
    "df <- Reduce(function(x, y) merge(x, y, by=c(\"id\", \"class\", \"tech\")),df)\n",
    "rownames(df)<- df$id"
   ]
  },
  {
   "cell_type": "code",
   "execution_count": 19,
   "id": "78788795-67d5-46aa-abe1-76cacc8bc2ee",
   "metadata": {
    "tags": []
   },
   "outputs": [],
   "source": [
    "write.tableble(df, \"../Results/Files/umap_data.csv\", col.names=T, row.names=T, quote=T, sep=\",\")"
   ]
  },
  {
   "cell_type": "code",
   "execution_count": null,
   "id": "6a9fac0d-f843-4bff-8799-d177848b90bd",
   "metadata": {},
   "outputs": [],
   "source": [
    "stringr::str_s"
   ]
  }
 ],
 "metadata": {
  "kernelspec": {
   "display_name": "R",
   "language": "R",
   "name": "ir"
  },
  "language_info": {
   "codemirror_mode": "r",
   "file_extension": ".r",
   "mimetype": "text/x-r-source",
   "name": "R",
   "pygments_lexer": "r",
   "version": "4.2.2"
  }
 },
 "nbformat": 4,
 "nbformat_minor": 5
}
