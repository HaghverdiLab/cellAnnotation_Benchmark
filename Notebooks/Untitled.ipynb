{
 "cells": [
  {
   "cell_type": "code",
   "execution_count": null,
   "id": "34306e2f-9b05-47d8-9377-72a40f17472c",
   "metadata": {},
   "outputs": [],
   "source": [
    "data <- read.csv(\"../Results/Files/results_long.csv\")\n",
    "head(data)\n",
    "nrow(data)"
   ]
  },
  {
   "cell_type": "code",
   "execution_count": null,
   "id": "d195149f-3c1d-4aa9-b234-9cdb1a8bfa8a",
   "metadata": {},
   "outputs": [
    {
     "name": "stderr",
     "output_type": "stream",
     "text": [
      "\n",
      "Attaching package: ‘dplyr’\n",
      "\n",
      "\n",
      "The following objects are masked from ‘package:stats’:\n",
      "\n",
      "    filter, lag\n",
      "\n",
      "\n",
      "The following objects are masked from ‘package:base’:\n",
      "\n",
      "    intersect, setdiff, setequal, union\n",
      "\n",
      "\n",
      "Attaching SeuratObject\n",
      "\n",
      "Loading required package: viridisLite\n",
      "\n"
     ]
    }
   ],
   "source": [
    "source(\"../Scripts/functions.R\")\n",
    "source(\"../Scripts/visulizations.r\")\n",
    "library(ggplot2)\n",
    "library(dplyr)\n",
    "library(purrr)\n",
    "library(Seurat)\n",
    "library(viridis)\n",
    "library(\"RColorBrewer\")"
   ]
  },
  {
   "cell_type": "code",
   "execution_count": null,
   "id": "0b5a6366-264a-449e-ac43-6f236609d9e7",
   "metadata": {},
   "outputs": [],
   "source": [
    "data <- read.csv(\"../Results/Files/results_long.csv\")\n",
    "\n",
    "data$Approach[is.na(data$Approach)] <- \"SingleCellNet\"\n",
    "measures <- do.call(rbind, lapply(unique(data$class),\n",
    "                                  function(type) do.call(rbind,lapply(unique(data$Approach),\n",
    "                                  function(method) do.call(rbind, lapply(unique(data$Size),\n",
    "                                  function(size) do.call(rbind, lapply(unique(data$Set),\n",
    "                                  function (set) get_measures(data, type, \"PBMC10x\",\n",
    "                                                              method, size,set)))))))))\n",
    "                                                              \n",
    "write.csv(measures, \"../Results/Files/values_full.csv\") "
   ]
  },
  {
   "cell_type": "code",
   "execution_count": 2,
   "id": "92666336-fc52-4282-a255-fa16fbf0a945",
   "metadata": {},
   "outputs": [
    {
     "data": {
      "text/html": [
       "<table class=\"dataframe\">\n",
       "<caption>A data.frame: 6 × 8</caption>\n",
       "<thead>\n",
       "\t<tr><th></th><th scope=col>id</th><th scope=col>nGene</th><th scope=col>nUMI</th><th scope=col>percent.mito</th><th scope=col>Cluster</th><th scope=col>class_</th><th scope=col>Experiment</th><th scope=col>Method</th></tr>\n",
       "\t<tr><th></th><th scope=col>&lt;chr&gt;</th><th scope=col>&lt;int&gt;</th><th scope=col>&lt;int&gt;</th><th scope=col>&lt;dbl&gt;</th><th scope=col>&lt;int&gt;</th><th scope=col>&lt;chr&gt;</th><th scope=col>&lt;chr&gt;</th><th scope=col>&lt;chr&gt;</th></tr>\n",
       "</thead>\n",
       "<tbody>\n",
       "\t<tr><th scope=row>1</th><td>pbmc2_SM2_Cell_1  </td><td>3600</td><td>249336</td><td>0.04050861</td><td>4</td><td>CD14+ monocyte</td><td>pbmc2</td><td>Smart-seq2</td></tr>\n",
       "\t<tr><th scope=row>2</th><td>pbmc2_SM2_Cell_102</td><td>4265</td><td>389067</td><td>0.04063618</td><td>4</td><td>CD14+ monocyte</td><td>pbmc2</td><td>Smart-seq2</td></tr>\n",
       "\t<tr><th scope=row>3</th><td>pbmc2_SM2_Cell_118</td><td>4080</td><td>372971</td><td>0.03306646</td><td>4</td><td>CD14+ monocyte</td><td>pbmc2</td><td>Smart-seq2</td></tr>\n",
       "\t<tr><th scope=row>4</th><td>pbmc2_SM2_Cell_127</td><td>3481</td><td>446449</td><td>0.04414619</td><td>4</td><td>CD14+ monocyte</td><td>pbmc2</td><td>Smart-seq2</td></tr>\n",
       "\t<tr><th scope=row>5</th><td>pbmc2_SM2_Cell_131</td><td>2289</td><td>125429</td><td>0.05071700</td><td>4</td><td>CD14+ monocyte</td><td>pbmc2</td><td>Smart-seq2</td></tr>\n",
       "\t<tr><th scope=row>6</th><td>pbmc2_SM2_Cell_133</td><td>3735</td><td>315022</td><td>0.03587145</td><td>4</td><td>CD14+ monocyte</td><td>pbmc2</td><td>Smart-seq2</td></tr>\n",
       "</tbody>\n",
       "</table>\n"
      ],
      "text/latex": [
       "A data.frame: 6 × 8\n",
       "\\begin{tabular}{r|llllllll}\n",
       "  & id & nGene & nUMI & percent.mito & Cluster & class\\_ & Experiment & Method\\\\\n",
       "  & <chr> & <int> & <int> & <dbl> & <int> & <chr> & <chr> & <chr>\\\\\n",
       "\\hline\n",
       "\t1 & pbmc2\\_SM2\\_Cell\\_1   & 3600 & 249336 & 0.04050861 & 4 & CD14+ monocyte & pbmc2 & Smart-seq2\\\\\n",
       "\t2 & pbmc2\\_SM2\\_Cell\\_102 & 4265 & 389067 & 0.04063618 & 4 & CD14+ monocyte & pbmc2 & Smart-seq2\\\\\n",
       "\t3 & pbmc2\\_SM2\\_Cell\\_118 & 4080 & 372971 & 0.03306646 & 4 & CD14+ monocyte & pbmc2 & Smart-seq2\\\\\n",
       "\t4 & pbmc2\\_SM2\\_Cell\\_127 & 3481 & 446449 & 0.04414619 & 4 & CD14+ monocyte & pbmc2 & Smart-seq2\\\\\n",
       "\t5 & pbmc2\\_SM2\\_Cell\\_131 & 2289 & 125429 & 0.05071700 & 4 & CD14+ monocyte & pbmc2 & Smart-seq2\\\\\n",
       "\t6 & pbmc2\\_SM2\\_Cell\\_133 & 3735 & 315022 & 0.03587145 & 4 & CD14+ monocyte & pbmc2 & Smart-seq2\\\\\n",
       "\\end{tabular}\n"
      ],
      "text/markdown": [
       "\n",
       "A data.frame: 6 × 8\n",
       "\n",
       "| <!--/--> | id &lt;chr&gt; | nGene &lt;int&gt; | nUMI &lt;int&gt; | percent.mito &lt;dbl&gt; | Cluster &lt;int&gt; | class_ &lt;chr&gt; | Experiment &lt;chr&gt; | Method &lt;chr&gt; |\n",
       "|---|---|---|---|---|---|---|---|---|\n",
       "| 1 | pbmc2_SM2_Cell_1   | 3600 | 249336 | 0.04050861 | 4 | CD14+ monocyte | pbmc2 | Smart-seq2 |\n",
       "| 2 | pbmc2_SM2_Cell_102 | 4265 | 389067 | 0.04063618 | 4 | CD14+ monocyte | pbmc2 | Smart-seq2 |\n",
       "| 3 | pbmc2_SM2_Cell_118 | 4080 | 372971 | 0.03306646 | 4 | CD14+ monocyte | pbmc2 | Smart-seq2 |\n",
       "| 4 | pbmc2_SM2_Cell_127 | 3481 | 446449 | 0.04414619 | 4 | CD14+ monocyte | pbmc2 | Smart-seq2 |\n",
       "| 5 | pbmc2_SM2_Cell_131 | 2289 | 125429 | 0.05071700 | 4 | CD14+ monocyte | pbmc2 | Smart-seq2 |\n",
       "| 6 | pbmc2_SM2_Cell_133 | 3735 | 315022 | 0.03587145 | 4 | CD14+ monocyte | pbmc2 | Smart-seq2 |\n",
       "\n"
      ],
      "text/plain": [
       "  id                 nGene nUMI   percent.mito Cluster class_        \n",
       "1 pbmc2_SM2_Cell_1   3600  249336 0.04050861   4       CD14+ monocyte\n",
       "2 pbmc2_SM2_Cell_102 4265  389067 0.04063618   4       CD14+ monocyte\n",
       "3 pbmc2_SM2_Cell_118 4080  372971 0.03306646   4       CD14+ monocyte\n",
       "4 pbmc2_SM2_Cell_127 3481  446449 0.04414619   4       CD14+ monocyte\n",
       "5 pbmc2_SM2_Cell_131 2289  125429 0.05071700   4       CD14+ monocyte\n",
       "6 pbmc2_SM2_Cell_133 3735  315022 0.03587145   4       CD14+ monocyte\n",
       "  Experiment Method    \n",
       "1 pbmc2      Smart-seq2\n",
       "2 pbmc2      Smart-seq2\n",
       "3 pbmc2      Smart-seq2\n",
       "4 pbmc2      Smart-seq2\n",
       "5 pbmc2      Smart-seq2\n",
       "6 pbmc2      Smart-seq2"
      ]
     },
     "metadata": {},
     "output_type": "display_data"
    }
   ],
   "source": [
    "data <- read.csv(\"../Data/Fulldata/PBMC_Query/meta.csv\")\n",
    "head(data)"
   ]
  },
  {
   "cell_type": "code",
   "execution_count": 3,
   "id": "4b417354-e43a-4667-95cc-3161c5369605",
   "metadata": {},
   "outputs": [
    {
     "data": {
      "text/html": [
       "<table class=\"dataframe\">\n",
       "<caption>A data.frame: 6 × 6</caption>\n",
       "<thead>\n",
       "\t<tr><th></th><th scope=col>id</th><th scope=col>PBMC10x_CellID_3090_0</th><th scope=col>PBMC10x_Seurat_3090_0</th><th scope=col>PBMC10x_SingleCellNet_3090_0</th><th scope=col>PBMC10x_SingleR_3090_0</th><th scope=col>PBMC10x_ItClust_3090_0</th></tr>\n",
       "\t<tr><th></th><th scope=col>&lt;chr&gt;</th><th scope=col>&lt;chr&gt;</th><th scope=col>&lt;chr&gt;</th><th scope=col>&lt;chr&gt;</th><th scope=col>&lt;chr&gt;</th><th scope=col>&lt;chr&gt;</th></tr>\n",
       "</thead>\n",
       "<tbody>\n",
       "\t<tr><th scope=row>pbmc2_10X_V2_AAACCTGAGATGGGTC</th><td>pbmc2_10X_V2_AAACCTGAGATGGGTC</td><td>B cell          </td><td>B cell             </td><td>B cell          </td><td>B cell             </td><td>B cell          </td></tr>\n",
       "\t<tr><th scope=row>pbmc2_10X_V2_AAACCTGAGCGTAATA</th><td>pbmc2_10X_V2_AAACCTGAGCGTAATA</td><td>B cell          </td><td>B cell             </td><td>B cell          </td><td>B cell             </td><td>B cell          </td></tr>\n",
       "\t<tr><th scope=row>pbmc2_10X_V2_AAACCTGAGCTAGGCA</th><td>pbmc2_10X_V2_AAACCTGAGCTAGGCA</td><td>CD4+ T cell     </td><td>Natural killer cell</td><td>Cytotoxic T cell</td><td>Natural killer cell</td><td>Cytotoxic T cell</td></tr>\n",
       "\t<tr><th scope=row>pbmc2_10X_V2_AAACCTGAGGGTCTCC</th><td>pbmc2_10X_V2_AAACCTGAGGGTCTCC</td><td>CD14+ monocyte  </td><td>CD14+ monocyte     </td><td>CD14+ monocyte  </td><td>Dendritic cell     </td><td>CD14+ monocyte  </td></tr>\n",
       "\t<tr><th scope=row>pbmc2_10X_V2_AAACCTGGTCCGAACC</th><td>pbmc2_10X_V2_AAACCTGGTCCGAACC</td><td>CD4+ T cell     </td><td>Cytotoxic T cell   </td><td>CD4+ T cell     </td><td>CD4+ T cell        </td><td>Cytotoxic T cell</td></tr>\n",
       "\t<tr><th scope=row>pbmc2_10X_V2_AAACCTGTCGTCCGTT</th><td>pbmc2_10X_V2_AAACCTGTCGTCCGTT</td><td>Cytotoxic T cell</td><td>CD4+ T cell        </td><td>CD4+ T cell     </td><td>CD4+ T cell        </td><td>Cytotoxic T cell</td></tr>\n",
       "</tbody>\n",
       "</table>\n"
      ],
      "text/latex": [
       "A data.frame: 6 × 6\n",
       "\\begin{tabular}{r|llllll}\n",
       "  & id & PBMC10x\\_CellID\\_3090\\_0 & PBMC10x\\_Seurat\\_3090\\_0 & PBMC10x\\_SingleCellNet\\_3090\\_0 & PBMC10x\\_SingleR\\_3090\\_0 & PBMC10x\\_ItClust\\_3090\\_0\\\\\n",
       "  & <chr> & <chr> & <chr> & <chr> & <chr> & <chr>\\\\\n",
       "\\hline\n",
       "\tpbmc2\\_10X\\_V2\\_AAACCTGAGATGGGTC & pbmc2\\_10X\\_V2\\_AAACCTGAGATGGGTC & B cell           & B cell              & B cell           & B cell              & B cell          \\\\\n",
       "\tpbmc2\\_10X\\_V2\\_AAACCTGAGCGTAATA & pbmc2\\_10X\\_V2\\_AAACCTGAGCGTAATA & B cell           & B cell              & B cell           & B cell              & B cell          \\\\\n",
       "\tpbmc2\\_10X\\_V2\\_AAACCTGAGCTAGGCA & pbmc2\\_10X\\_V2\\_AAACCTGAGCTAGGCA & CD4+ T cell      & Natural killer cell & Cytotoxic T cell & Natural killer cell & Cytotoxic T cell\\\\\n",
       "\tpbmc2\\_10X\\_V2\\_AAACCTGAGGGTCTCC & pbmc2\\_10X\\_V2\\_AAACCTGAGGGTCTCC & CD14+ monocyte   & CD14+ monocyte      & CD14+ monocyte   & Dendritic cell      & CD14+ monocyte  \\\\\n",
       "\tpbmc2\\_10X\\_V2\\_AAACCTGGTCCGAACC & pbmc2\\_10X\\_V2\\_AAACCTGGTCCGAACC & CD4+ T cell      & Cytotoxic T cell    & CD4+ T cell      & CD4+ T cell         & Cytotoxic T cell\\\\\n",
       "\tpbmc2\\_10X\\_V2\\_AAACCTGTCGTCCGTT & pbmc2\\_10X\\_V2\\_AAACCTGTCGTCCGTT & Cytotoxic T cell & CD4+ T cell         & CD4+ T cell      & CD4+ T cell         & Cytotoxic T cell\\\\\n",
       "\\end{tabular}\n"
      ],
      "text/markdown": [
       "\n",
       "A data.frame: 6 × 6\n",
       "\n",
       "| <!--/--> | id &lt;chr&gt; | PBMC10x_CellID_3090_0 &lt;chr&gt; | PBMC10x_Seurat_3090_0 &lt;chr&gt; | PBMC10x_SingleCellNet_3090_0 &lt;chr&gt; | PBMC10x_SingleR_3090_0 &lt;chr&gt; | PBMC10x_ItClust_3090_0 &lt;chr&gt; |\n",
       "|---|---|---|---|---|---|---|\n",
       "| pbmc2_10X_V2_AAACCTGAGATGGGTC | pbmc2_10X_V2_AAACCTGAGATGGGTC | B cell           | B cell              | B cell           | B cell              | B cell           |\n",
       "| pbmc2_10X_V2_AAACCTGAGCGTAATA | pbmc2_10X_V2_AAACCTGAGCGTAATA | B cell           | B cell              | B cell           | B cell              | B cell           |\n",
       "| pbmc2_10X_V2_AAACCTGAGCTAGGCA | pbmc2_10X_V2_AAACCTGAGCTAGGCA | CD4+ T cell      | Natural killer cell | Cytotoxic T cell | Natural killer cell | Cytotoxic T cell |\n",
       "| pbmc2_10X_V2_AAACCTGAGGGTCTCC | pbmc2_10X_V2_AAACCTGAGGGTCTCC | CD14+ monocyte   | CD14+ monocyte      | CD14+ monocyte   | Dendritic cell      | CD14+ monocyte   |\n",
       "| pbmc2_10X_V2_AAACCTGGTCCGAACC | pbmc2_10X_V2_AAACCTGGTCCGAACC | CD4+ T cell      | Cytotoxic T cell    | CD4+ T cell      | CD4+ T cell         | Cytotoxic T cell |\n",
       "| pbmc2_10X_V2_AAACCTGTCGTCCGTT | pbmc2_10X_V2_AAACCTGTCGTCCGTT | Cytotoxic T cell | CD4+ T cell         | CD4+ T cell      | CD4+ T cell         | Cytotoxic T cell |\n",
       "\n"
      ],
      "text/plain": [
       "                              id                           \n",
       "pbmc2_10X_V2_AAACCTGAGATGGGTC pbmc2_10X_V2_AAACCTGAGATGGGTC\n",
       "pbmc2_10X_V2_AAACCTGAGCGTAATA pbmc2_10X_V2_AAACCTGAGCGTAATA\n",
       "pbmc2_10X_V2_AAACCTGAGCTAGGCA pbmc2_10X_V2_AAACCTGAGCTAGGCA\n",
       "pbmc2_10X_V2_AAACCTGAGGGTCTCC pbmc2_10X_V2_AAACCTGAGGGTCTCC\n",
       "pbmc2_10X_V2_AAACCTGGTCCGAACC pbmc2_10X_V2_AAACCTGGTCCGAACC\n",
       "pbmc2_10X_V2_AAACCTGTCGTCCGTT pbmc2_10X_V2_AAACCTGTCGTCCGTT\n",
       "                              PBMC10x_CellID_3090_0 PBMC10x_Seurat_3090_0\n",
       "pbmc2_10X_V2_AAACCTGAGATGGGTC B cell                B cell               \n",
       "pbmc2_10X_V2_AAACCTGAGCGTAATA B cell                B cell               \n",
       "pbmc2_10X_V2_AAACCTGAGCTAGGCA CD4+ T cell           Natural killer cell  \n",
       "pbmc2_10X_V2_AAACCTGAGGGTCTCC CD14+ monocyte        CD14+ monocyte       \n",
       "pbmc2_10X_V2_AAACCTGGTCCGAACC CD4+ T cell           Cytotoxic T cell     \n",
       "pbmc2_10X_V2_AAACCTGTCGTCCGTT Cytotoxic T cell      CD4+ T cell          \n",
       "                              PBMC10x_SingleCellNet_3090_0\n",
       "pbmc2_10X_V2_AAACCTGAGATGGGTC B cell                      \n",
       "pbmc2_10X_V2_AAACCTGAGCGTAATA B cell                      \n",
       "pbmc2_10X_V2_AAACCTGAGCTAGGCA Cytotoxic T cell            \n",
       "pbmc2_10X_V2_AAACCTGAGGGTCTCC CD14+ monocyte              \n",
       "pbmc2_10X_V2_AAACCTGGTCCGAACC CD4+ T cell                 \n",
       "pbmc2_10X_V2_AAACCTGTCGTCCGTT CD4+ T cell                 \n",
       "                              PBMC10x_SingleR_3090_0 PBMC10x_ItClust_3090_0\n",
       "pbmc2_10X_V2_AAACCTGAGATGGGTC B cell                 B cell                \n",
       "pbmc2_10X_V2_AAACCTGAGCGTAATA B cell                 B cell                \n",
       "pbmc2_10X_V2_AAACCTGAGCTAGGCA Natural killer cell    Cytotoxic T cell      \n",
       "pbmc2_10X_V2_AAACCTGAGGGTCTCC Dendritic cell         CD14+ monocyte        \n",
       "pbmc2_10X_V2_AAACCTGGTCCGAACC CD4+ T cell            Cytotoxic T cell      \n",
       "pbmc2_10X_V2_AAACCTGTCGTCCGTT CD4+ T cell            Cytotoxic T cell      "
      ]
     },
     "metadata": {},
     "output_type": "display_data"
    }
   ],
   "source": [
    "results <- read.csv(\"../Results//Files//result_general.csv\")\n",
    "results <- results[, c(\"id\", colnames(results)[stringr::str_detect(colnames(results), \"3090\")])]\n",
    "head(results)"
   ]
  },
  {
   "cell_type": "code",
   "execution_count": 4,
   "id": "7ca31356-1b12-4cde-8157-91f0e14d3f0e",
   "metadata": {},
   "outputs": [],
   "source": [
    "meta <- merge(data, results, by=\"id\", all.x=T)\n"
   ]
  },
  {
   "cell_type": "code",
   "execution_count": 8,
   "id": "6dc50c6b-8bf2-4ab2-a4e5-bc42fb966f00",
   "metadata": {},
   "outputs": [
    {
     "data": {
      "text/html": [
       "<table class=\"dataframe\">\n",
       "<caption>A data.frame: 6 × 18</caption>\n",
       "<thead>\n",
       "\t<tr><th></th><th scope=col>id</th><th scope=col>nGene</th><th scope=col>nUMI</th><th scope=col>percent.mito</th><th scope=col>Cluster</th><th scope=col>class_</th><th scope=col>Experiment</th><th scope=col>Method</th><th scope=col>PBMC10x_CellID_3090_0</th><th scope=col>PBMC10x_Seurat_3090_0</th><th scope=col>PBMC10x_SingleCellNet_3090_0</th><th scope=col>PBMC10x_SingleR_3090_0</th><th scope=col>PBMC10x_ItClust_3090_0</th><th scope=col>matches_Seurat</th><th scope=col>matches_SingleR</th><th scope=col>matches_CellID</th><th scope=col>matches_SingleCellNet</th><th scope=col>matches_ItClust</th></tr>\n",
       "\t<tr><th></th><th scope=col>&lt;chr&gt;</th><th scope=col>&lt;int&gt;</th><th scope=col>&lt;int&gt;</th><th scope=col>&lt;dbl&gt;</th><th scope=col>&lt;int&gt;</th><th scope=col>&lt;chr&gt;</th><th scope=col>&lt;chr&gt;</th><th scope=col>&lt;chr&gt;</th><th scope=col>&lt;chr&gt;</th><th scope=col>&lt;chr&gt;</th><th scope=col>&lt;chr&gt;</th><th scope=col>&lt;chr&gt;</th><th scope=col>&lt;chr&gt;</th><th scope=col>&lt;dbl&gt;</th><th scope=col>&lt;dbl&gt;</th><th scope=col>&lt;dbl&gt;</th><th scope=col>&lt;dbl&gt;</th><th scope=col>&lt;dbl&gt;</th></tr>\n",
       "</thead>\n",
       "<tbody>\n",
       "\t<tr><th scope=row>1</th><td>pbmc2_10X_V2_AAACCTGAGATGGGTC</td><td>1044</td><td>2360</td><td>0.04194915</td><td>2</td><td>B cell          </td><td>pbmc2</td><td>10x</td><td>B cell          </td><td>B cell             </td><td>B cell          </td><td>B cell             </td><td>B cell          </td><td>1</td><td>1</td><td>1</td><td>1</td><td>1</td></tr>\n",
       "\t<tr><th scope=row>2</th><td>pbmc2_10X_V2_AAACCTGAGCGTAATA</td><td> 803</td><td>1888</td><td>0.04131356</td><td>2</td><td>B cell          </td><td>pbmc2</td><td>10x</td><td>B cell          </td><td>B cell             </td><td>B cell          </td><td>B cell             </td><td>B cell          </td><td>1</td><td>1</td><td>1</td><td>1</td><td>1</td></tr>\n",
       "\t<tr><th scope=row>3</th><td>pbmc2_10X_V2_AAACCTGAGCTAGGCA</td><td>1372</td><td>3456</td><td>0.03530093</td><td>1</td><td>Cytotoxic T cell</td><td>pbmc2</td><td>10x</td><td>CD4+ T cell     </td><td>Natural killer cell</td><td>Cytotoxic T cell</td><td>Natural killer cell</td><td>Cytotoxic T cell</td><td>0</td><td>0</td><td>0</td><td>1</td><td>1</td></tr>\n",
       "\t<tr><th scope=row>4</th><td>pbmc2_10X_V2_AAACCTGAGGGTCTCC</td><td>1519</td><td>3802</td><td>0.04208311</td><td>6</td><td>Dendritic cell  </td><td>pbmc2</td><td>10x</td><td>CD14+ monocyte  </td><td>CD14+ monocyte     </td><td>CD14+ monocyte  </td><td>Dendritic cell     </td><td>CD14+ monocyte  </td><td>0</td><td>1</td><td>0</td><td>0</td><td>0</td></tr>\n",
       "\t<tr><th scope=row>5</th><td>pbmc2_10X_V2_AAACCTGGTCCGAACC</td><td>1451</td><td>3826</td><td>0.03711448</td><td>0</td><td>CD4+ T cell     </td><td>pbmc2</td><td>10x</td><td>CD4+ T cell     </td><td>Cytotoxic T cell   </td><td>CD4+ T cell     </td><td>CD4+ T cell        </td><td>Cytotoxic T cell</td><td>0</td><td>1</td><td>1</td><td>1</td><td>0</td></tr>\n",
       "\t<tr><th scope=row>6</th><td>pbmc2_10X_V2_AAACCTGTCGTCCGTT</td><td> 931</td><td>2345</td><td>0.06524520</td><td>0</td><td>CD4+ T cell     </td><td>pbmc2</td><td>10x</td><td>Cytotoxic T cell</td><td>CD4+ T cell        </td><td>CD4+ T cell     </td><td>CD4+ T cell        </td><td>Cytotoxic T cell</td><td>1</td><td>1</td><td>0</td><td>1</td><td>0</td></tr>\n",
       "</tbody>\n",
       "</table>\n"
      ],
      "text/latex": [
       "A data.frame: 6 × 18\n",
       "\\begin{tabular}{r|llllllllllllllllll}\n",
       "  & id & nGene & nUMI & percent.mito & Cluster & class\\_ & Experiment & Method & PBMC10x\\_CellID\\_3090\\_0 & PBMC10x\\_Seurat\\_3090\\_0 & PBMC10x\\_SingleCellNet\\_3090\\_0 & PBMC10x\\_SingleR\\_3090\\_0 & PBMC10x\\_ItClust\\_3090\\_0 & matches\\_Seurat & matches\\_SingleR & matches\\_CellID & matches\\_SingleCellNet & matches\\_ItClust\\\\\n",
       "  & <chr> & <int> & <int> & <dbl> & <int> & <chr> & <chr> & <chr> & <chr> & <chr> & <chr> & <chr> & <chr> & <dbl> & <dbl> & <dbl> & <dbl> & <dbl>\\\\\n",
       "\\hline\n",
       "\t1 & pbmc2\\_10X\\_V2\\_AAACCTGAGATGGGTC & 1044 & 2360 & 0.04194915 & 2 & B cell           & pbmc2 & 10x & B cell           & B cell              & B cell           & B cell              & B cell           & 1 & 1 & 1 & 1 & 1\\\\\n",
       "\t2 & pbmc2\\_10X\\_V2\\_AAACCTGAGCGTAATA &  803 & 1888 & 0.04131356 & 2 & B cell           & pbmc2 & 10x & B cell           & B cell              & B cell           & B cell              & B cell           & 1 & 1 & 1 & 1 & 1\\\\\n",
       "\t3 & pbmc2\\_10X\\_V2\\_AAACCTGAGCTAGGCA & 1372 & 3456 & 0.03530093 & 1 & Cytotoxic T cell & pbmc2 & 10x & CD4+ T cell      & Natural killer cell & Cytotoxic T cell & Natural killer cell & Cytotoxic T cell & 0 & 0 & 0 & 1 & 1\\\\\n",
       "\t4 & pbmc2\\_10X\\_V2\\_AAACCTGAGGGTCTCC & 1519 & 3802 & 0.04208311 & 6 & Dendritic cell   & pbmc2 & 10x & CD14+ monocyte   & CD14+ monocyte      & CD14+ monocyte   & Dendritic cell      & CD14+ monocyte   & 0 & 1 & 0 & 0 & 0\\\\\n",
       "\t5 & pbmc2\\_10X\\_V2\\_AAACCTGGTCCGAACC & 1451 & 3826 & 0.03711448 & 0 & CD4+ T cell      & pbmc2 & 10x & CD4+ T cell      & Cytotoxic T cell    & CD4+ T cell      & CD4+ T cell         & Cytotoxic T cell & 0 & 1 & 1 & 1 & 0\\\\\n",
       "\t6 & pbmc2\\_10X\\_V2\\_AAACCTGTCGTCCGTT &  931 & 2345 & 0.06524520 & 0 & CD4+ T cell      & pbmc2 & 10x & Cytotoxic T cell & CD4+ T cell         & CD4+ T cell      & CD4+ T cell         & Cytotoxic T cell & 1 & 1 & 0 & 1 & 0\\\\\n",
       "\\end{tabular}\n"
      ],
      "text/markdown": [
       "\n",
       "A data.frame: 6 × 18\n",
       "\n",
       "| <!--/--> | id &lt;chr&gt; | nGene &lt;int&gt; | nUMI &lt;int&gt; | percent.mito &lt;dbl&gt; | Cluster &lt;int&gt; | class_ &lt;chr&gt; | Experiment &lt;chr&gt; | Method &lt;chr&gt; | PBMC10x_CellID_3090_0 &lt;chr&gt; | PBMC10x_Seurat_3090_0 &lt;chr&gt; | PBMC10x_SingleCellNet_3090_0 &lt;chr&gt; | PBMC10x_SingleR_3090_0 &lt;chr&gt; | PBMC10x_ItClust_3090_0 &lt;chr&gt; | matches_Seurat &lt;dbl&gt; | matches_SingleR &lt;dbl&gt; | matches_CellID &lt;dbl&gt; | matches_SingleCellNet &lt;dbl&gt; | matches_ItClust &lt;dbl&gt; |\n",
       "|---|---|---|---|---|---|---|---|---|---|---|---|---|---|---|---|---|---|---|\n",
       "| 1 | pbmc2_10X_V2_AAACCTGAGATGGGTC | 1044 | 2360 | 0.04194915 | 2 | B cell           | pbmc2 | 10x | B cell           | B cell              | B cell           | B cell              | B cell           | 1 | 1 | 1 | 1 | 1 |\n",
       "| 2 | pbmc2_10X_V2_AAACCTGAGCGTAATA |  803 | 1888 | 0.04131356 | 2 | B cell           | pbmc2 | 10x | B cell           | B cell              | B cell           | B cell              | B cell           | 1 | 1 | 1 | 1 | 1 |\n",
       "| 3 | pbmc2_10X_V2_AAACCTGAGCTAGGCA | 1372 | 3456 | 0.03530093 | 1 | Cytotoxic T cell | pbmc2 | 10x | CD4+ T cell      | Natural killer cell | Cytotoxic T cell | Natural killer cell | Cytotoxic T cell | 0 | 0 | 0 | 1 | 1 |\n",
       "| 4 | pbmc2_10X_V2_AAACCTGAGGGTCTCC | 1519 | 3802 | 0.04208311 | 6 | Dendritic cell   | pbmc2 | 10x | CD14+ monocyte   | CD14+ monocyte      | CD14+ monocyte   | Dendritic cell      | CD14+ monocyte   | 0 | 1 | 0 | 0 | 0 |\n",
       "| 5 | pbmc2_10X_V2_AAACCTGGTCCGAACC | 1451 | 3826 | 0.03711448 | 0 | CD4+ T cell      | pbmc2 | 10x | CD4+ T cell      | Cytotoxic T cell    | CD4+ T cell      | CD4+ T cell         | Cytotoxic T cell | 0 | 1 | 1 | 1 | 0 |\n",
       "| 6 | pbmc2_10X_V2_AAACCTGTCGTCCGTT |  931 | 2345 | 0.06524520 | 0 | CD4+ T cell      | pbmc2 | 10x | Cytotoxic T cell | CD4+ T cell         | CD4+ T cell      | CD4+ T cell         | Cytotoxic T cell | 1 | 1 | 0 | 1 | 0 |\n",
       "\n"
      ],
      "text/plain": [
       "  id                            nGene nUMI percent.mito Cluster\n",
       "1 pbmc2_10X_V2_AAACCTGAGATGGGTC 1044  2360 0.04194915   2      \n",
       "2 pbmc2_10X_V2_AAACCTGAGCGTAATA  803  1888 0.04131356   2      \n",
       "3 pbmc2_10X_V2_AAACCTGAGCTAGGCA 1372  3456 0.03530093   1      \n",
       "4 pbmc2_10X_V2_AAACCTGAGGGTCTCC 1519  3802 0.04208311   6      \n",
       "5 pbmc2_10X_V2_AAACCTGGTCCGAACC 1451  3826 0.03711448   0      \n",
       "6 pbmc2_10X_V2_AAACCTGTCGTCCGTT  931  2345 0.06524520   0      \n",
       "  class_           Experiment Method PBMC10x_CellID_3090_0\n",
       "1 B cell           pbmc2      10x    B cell               \n",
       "2 B cell           pbmc2      10x    B cell               \n",
       "3 Cytotoxic T cell pbmc2      10x    CD4+ T cell          \n",
       "4 Dendritic cell   pbmc2      10x    CD14+ monocyte       \n",
       "5 CD4+ T cell      pbmc2      10x    CD4+ T cell          \n",
       "6 CD4+ T cell      pbmc2      10x    Cytotoxic T cell     \n",
       "  PBMC10x_Seurat_3090_0 PBMC10x_SingleCellNet_3090_0 PBMC10x_SingleR_3090_0\n",
       "1 B cell                B cell                       B cell                \n",
       "2 B cell                B cell                       B cell                \n",
       "3 Natural killer cell   Cytotoxic T cell             Natural killer cell   \n",
       "4 CD14+ monocyte        CD14+ monocyte               Dendritic cell        \n",
       "5 Cytotoxic T cell      CD4+ T cell                  CD4+ T cell           \n",
       "6 CD4+ T cell           CD4+ T cell                  CD4+ T cell           \n",
       "  PBMC10x_ItClust_3090_0 matches_Seurat matches_SingleR matches_CellID\n",
       "1 B cell                 1              1               1             \n",
       "2 B cell                 1              1               1             \n",
       "3 Cytotoxic T cell       0              0               0             \n",
       "4 CD14+ monocyte         0              1               0             \n",
       "5 Cytotoxic T cell       0              1               1             \n",
       "6 Cytotoxic T cell       1              1               0             \n",
       "  matches_SingleCellNet matches_ItClust\n",
       "1 1                     1              \n",
       "2 1                     1              \n",
       "3 1                     1              \n",
       "4 0                     0              \n",
       "5 1                     0              \n",
       "6 1                     0              "
      ]
     },
     "metadata": {},
     "output_type": "display_data"
    }
   ],
   "source": [
    "methods <- c(\"Seurat\",  \"SingleR\",\"CellID\", \"SingleCellNet\", \"ItClust\")\n",
    "\n",
    "cols <-  c(paste(sep=\"_\", \"PBMC10x\",methods, \"3090_0\"))\n",
    "x <- sapply(cols, function(col) meta$class_ == meta[, col])\n",
    "colnames(x) <- paste(sep=\"_\", \"matches\", methods)\n",
    "x[x==TRUE]<- 1\n",
    "meta <- cbind(meta, x)\n",
    "head(meta)"
   ]
  },
  {
   "cell_type": "code",
   "execution_count": 9,
   "id": "b73ed536-6e84-42c8-a2d8-4e0319900964",
   "metadata": {},
   "outputs": [
    {
     "name": "stderr",
     "output_type": "stream",
     "text": [
      "\u001b[1m\u001b[22m`summarise()` has grouped output by 'method', 'class_'. You can override using the `.groups` argument.\n",
      "── \u001b[1mAttaching packages\u001b[22m ─────────────────────────────────────────────────────────────────────────────────────── tidyverse 1.3.2 ──\n",
      "\u001b[32m✔\u001b[39m \u001b[34mtibble \u001b[39m 3.1.8     \u001b[32m✔\u001b[39m \u001b[34mstringr\u001b[39m 1.4.1\n",
      "\u001b[32m✔\u001b[39m \u001b[34mtidyr  \u001b[39m 1.2.1     \u001b[32m✔\u001b[39m \u001b[34mforcats\u001b[39m 0.5.2\n",
      "\u001b[32m✔\u001b[39m \u001b[34mreadr  \u001b[39m 2.1.3     \n",
      "── \u001b[1mConflicts\u001b[22m ────────────────────────────────────────────────────────────────────────────────────────── tidyverse_conflicts() ──\n",
      "\u001b[31m✖\u001b[39m \u001b[34mdplyr\u001b[39m::\u001b[32mfilter()\u001b[39m masks \u001b[34mstats\u001b[39m::filter()\n",
      "\u001b[31m✖\u001b[39m \u001b[34mdplyr\u001b[39m::\u001b[32mlag()\u001b[39m    masks \u001b[34mstats\u001b[39m::lag()\n",
      "Warning message in is.na(mean):\n",
      "“is.na() applied to non-(list or vector) of type 'closure'”\n",
      "Warning message in is.na(mean):\n",
      "“is.na() applied to non-(list or vector) of type 'closure'”\n",
      "Warning message in is.na(mean):\n",
      "“is.na() applied to non-(list or vector) of type 'closure'”\n",
      "Warning message in is.na(mean):\n",
      "“is.na() applied to non-(list or vector) of type 'closure'”\n",
      "Warning message in is.na(mean):\n",
      "“is.na() applied to non-(list or vector) of type 'closure'”\n"
     ]
    },
    {
     "data": {
      "text/html": [
       "<table class=\"dataframe\">\n",
       "<caption>A tibble: 6 × 6</caption>\n",
       "<thead>\n",
       "\t<tr><th scope=col>id</th><th scope=col>Mono-source_Seurat</th><th scope=col>Mono-source_SingleR</th><th scope=col>Mono-source_CellID</th><th scope=col>Mono-source_SingleCellNet</th><th scope=col>Mono-source_ItClust</th></tr>\n",
       "\t<tr><th scope=col>&lt;chr&gt;</th><th scope=col>&lt;dbl&gt;</th><th scope=col>&lt;dbl&gt;</th><th scope=col>&lt;dbl&gt;</th><th scope=col>&lt;dbl&gt;</th><th scope=col>&lt;dbl&gt;</th></tr>\n",
       "</thead>\n",
       "<tbody>\n",
       "\t<tr><td>pbmc2_10X_V2_AAACCTGAGATGGGTC</td><td>1</td><td>1</td><td>1.0000000</td><td>1</td><td>0.9523810</td></tr>\n",
       "\t<tr><td>pbmc2_10X_V2_AAACCTGAGCGTAATA</td><td>1</td><td>1</td><td>1.0000000</td><td>1</td><td>0.9047619</td></tr>\n",
       "\t<tr><td>pbmc2_10X_V2_AAACCTGTCTTGTACT</td><td>1</td><td>1</td><td>0.1428571</td><td>1</td><td>1.0000000</td></tr>\n",
       "\t<tr><td>pbmc2_10X_V2_AAACGGGAGTGCAAGC</td><td>1</td><td>1</td><td>0.0000000</td><td>1</td><td>0.9523810</td></tr>\n",
       "\t<tr><td>pbmc2_10X_V2_AAACGGGCATTATCTC</td><td>1</td><td>1</td><td>1.0000000</td><td>1</td><td>1.0000000</td></tr>\n",
       "\t<tr><td>pbmc2_10X_V2_AAACGGGGTCCAACTA</td><td>1</td><td>1</td><td>0.0000000</td><td>1</td><td>0.8571429</td></tr>\n",
       "</tbody>\n",
       "</table>\n"
      ],
      "text/latex": [
       "A tibble: 6 × 6\n",
       "\\begin{tabular}{llllll}\n",
       " id & Mono-source\\_Seurat & Mono-source\\_SingleR & Mono-source\\_CellID & Mono-source\\_SingleCellNet & Mono-source\\_ItClust\\\\\n",
       " <chr> & <dbl> & <dbl> & <dbl> & <dbl> & <dbl>\\\\\n",
       "\\hline\n",
       "\t pbmc2\\_10X\\_V2\\_AAACCTGAGATGGGTC & 1 & 1 & 1.0000000 & 1 & 0.9523810\\\\\n",
       "\t pbmc2\\_10X\\_V2\\_AAACCTGAGCGTAATA & 1 & 1 & 1.0000000 & 1 & 0.9047619\\\\\n",
       "\t pbmc2\\_10X\\_V2\\_AAACCTGTCTTGTACT & 1 & 1 & 0.1428571 & 1 & 1.0000000\\\\\n",
       "\t pbmc2\\_10X\\_V2\\_AAACGGGAGTGCAAGC & 1 & 1 & 0.0000000 & 1 & 0.9523810\\\\\n",
       "\t pbmc2\\_10X\\_V2\\_AAACGGGCATTATCTC & 1 & 1 & 1.0000000 & 1 & 1.0000000\\\\\n",
       "\t pbmc2\\_10X\\_V2\\_AAACGGGGTCCAACTA & 1 & 1 & 0.0000000 & 1 & 0.8571429\\\\\n",
       "\\end{tabular}\n"
      ],
      "text/markdown": [
       "\n",
       "A tibble: 6 × 6\n",
       "\n",
       "| id &lt;chr&gt; | Mono-source_Seurat &lt;dbl&gt; | Mono-source_SingleR &lt;dbl&gt; | Mono-source_CellID &lt;dbl&gt; | Mono-source_SingleCellNet &lt;dbl&gt; | Mono-source_ItClust &lt;dbl&gt; |\n",
       "|---|---|---|---|---|---|\n",
       "| pbmc2_10X_V2_AAACCTGAGATGGGTC | 1 | 1 | 1.0000000 | 1 | 0.9523810 |\n",
       "| pbmc2_10X_V2_AAACCTGAGCGTAATA | 1 | 1 | 1.0000000 | 1 | 0.9047619 |\n",
       "| pbmc2_10X_V2_AAACCTGTCTTGTACT | 1 | 1 | 0.1428571 | 1 | 1.0000000 |\n",
       "| pbmc2_10X_V2_AAACGGGAGTGCAAGC | 1 | 1 | 0.0000000 | 1 | 0.9523810 |\n",
       "| pbmc2_10X_V2_AAACGGGCATTATCTC | 1 | 1 | 1.0000000 | 1 | 1.0000000 |\n",
       "| pbmc2_10X_V2_AAACGGGGTCCAACTA | 1 | 1 | 0.0000000 | 1 | 0.8571429 |\n",
       "\n"
      ],
      "text/plain": [
       "  id                            Mono-source_Seurat Mono-source_SingleR\n",
       "1 pbmc2_10X_V2_AAACCTGAGATGGGTC 1                  1                  \n",
       "2 pbmc2_10X_V2_AAACCTGAGCGTAATA 1                  1                  \n",
       "3 pbmc2_10X_V2_AAACCTGTCTTGTACT 1                  1                  \n",
       "4 pbmc2_10X_V2_AAACGGGAGTGCAAGC 1                  1                  \n",
       "5 pbmc2_10X_V2_AAACGGGCATTATCTC 1                  1                  \n",
       "6 pbmc2_10X_V2_AAACGGGGTCCAACTA 1                  1                  \n",
       "  Mono-source_CellID Mono-source_SingleCellNet Mono-source_ItClust\n",
       "1 1.0000000          1                         0.9523810          \n",
       "2 1.0000000          1                         0.9047619          \n",
       "3 0.1428571          1                         1.0000000          \n",
       "4 0.0000000          1                         0.9523810          \n",
       "5 1.0000000          1                         1.0000000          \n",
       "6 0.0000000          1                         0.8571429          "
      ]
     },
     "metadata": {},
     "output_type": "display_data"
    }
   ],
   "source": [
    "umap_bootstrap <- read.csv(\"../Results//Files/summary_results.csv\")\n",
    "ref <- read.csv(\"../Data/Fulldata/PBMC10x_Reference/meta.csv\")\n",
    "\n",
    "getPrediction <- function(data, method, reference, set){\n",
    "    data <- data[data$method == method & data$set == set,]\n",
    "    refSizes <- sort(table(ref$class_), decreasing = T)\n",
    "    prediction <- data[data$size == refSizes[1], c(\"id\", \"predicted\", \"method\", \"set\", \"reference\")]\n",
    "\n",
    "    for( size in refSizes[2:length(refSizes)]){\n",
    "        n <- names(refSizes)[refSizes == size]\n",
    "        subset <- data[data$size == size,]\n",
    "        prediction$predicted[subset$predicted == n] <- n\n",
    "    }\n",
    "    return(prediction)\n",
    "}\n",
    "predictions <- do.call(rbind, lapply(unique(umap_bootstrap$set),\n",
    "                                     function(set) do.call(rbind,lapply(unique(umap_bootstrap$method),\n",
    "                                     function(method)(getPrediction(umap_bootstrap, method, ref, set))))))\n",
    "predictions <- merge(read.csv(\"../Data/Fulldata/PBMC_Query/meta.csv\"),predictions, by=\"id\", all.x=T)\n",
    "predictions$match <- predictions$class_ == predictions$predicted\n",
    "predictions$match[predictions$match == TRUE] <- 1\n",
    "\n",
    "summary <- predictions %>% \n",
    "           dplyr::group_by(method, class_, id) %>% \n",
    "           dplyr::summarize(mean = sum(match) /length(unique(set) )) \n",
    "    \n",
    "library(tidyverse)                                                                        \n",
    "getVectors <- function(method, data, name){\n",
    "    df <- data[data$method == method, c(\"id\", \"mean\")]\n",
    "    df$mean[is.na(mean)] <- 0\n",
    "    colnames(df)[2] <- paste(sep=\"_\",name, method)\n",
    "    return(df)\n",
    "}\n",
    "methods <- c(\"Seurat\",  \"SingleR\",\"CellID\", \"SingleCellNet\", \"ItClust\")\n",
    "\n",
    "vecs <- lapply(methods, function(method)  getVectors(method, summary, \"mono\"))\n",
    "df <- vecs %>% reduce(left_join, by = c(\"id\") )\n",
    "head(df)"
   ]
  },
  {
   "cell_type": "code",
   "execution_count": 10,
   "id": "6c6c3f04-47ca-4481-9ebb-eddb5a939897",
   "metadata": {},
   "outputs": [],
   "source": [
    "meta <- merge(meta, df, by=\"id\", all.x=T)"
   ]
  },
  {
   "cell_type": "code",
   "execution_count": 11,
   "id": "72d8a37f-8f77-4b4d-b04d-78f7fab0bdc4",
   "metadata": {},
   "outputs": [
    {
     "name": "stderr",
     "output_type": "stream",
     "text": [
      "\u001b[1m\u001b[22m`summarise()` has grouped output by 'method', 'class_'. You can override using the `.groups` argument.\n",
      "Warning message in is.na(mean):\n",
      "“is.na() applied to non-(list or vector) of type 'closure'”\n",
      "Warning message in is.na(mean):\n",
      "“is.na() applied to non-(list or vector) of type 'closure'”\n",
      "Warning message in is.na(mean):\n",
      "“is.na() applied to non-(list or vector) of type 'closure'”\n",
      "Warning message in is.na(mean):\n",
      "“is.na() applied to non-(list or vector) of type 'closure'”\n",
      "Warning message in is.na(mean):\n",
      "“is.na() applied to non-(list or vector) of type 'closure'”\n"
     ]
    },
    {
     "data": {
      "text/html": [
       "<table class=\"dataframe\">\n",
       "<caption>A data.frame: 6 × 28</caption>\n",
       "<thead>\n",
       "\t<tr><th></th><th scope=col>id</th><th scope=col>nGene</th><th scope=col>nUMI</th><th scope=col>percent.mito</th><th scope=col>Cluster</th><th scope=col>class_</th><th scope=col>Experiment</th><th scope=col>Method</th><th scope=col>PBMC10x_CellID_3090_0</th><th scope=col>PBMC10x_Seurat_3090_0</th><th scope=col>⋯</th><th scope=col>Mono-source_Seurat</th><th scope=col>Mono-source_SingleR</th><th scope=col>Mono-source_CellID</th><th scope=col>Mono-source_SingleCellNet</th><th scope=col>Mono-source_ItClust</th><th scope=col>mosaic_Seurat</th><th scope=col>mosaic_SingleR</th><th scope=col>mosaic_CellID</th><th scope=col>mosaic_SingleCellNet</th><th scope=col>mosaic_ItClust</th></tr>\n",
       "\t<tr><th></th><th scope=col>&lt;chr&gt;</th><th scope=col>&lt;int&gt;</th><th scope=col>&lt;int&gt;</th><th scope=col>&lt;dbl&gt;</th><th scope=col>&lt;int&gt;</th><th scope=col>&lt;chr&gt;</th><th scope=col>&lt;chr&gt;</th><th scope=col>&lt;chr&gt;</th><th scope=col>&lt;chr&gt;</th><th scope=col>&lt;chr&gt;</th><th scope=col>⋯</th><th scope=col>&lt;dbl&gt;</th><th scope=col>&lt;dbl&gt;</th><th scope=col>&lt;dbl&gt;</th><th scope=col>&lt;dbl&gt;</th><th scope=col>&lt;dbl&gt;</th><th scope=col>&lt;dbl&gt;</th><th scope=col>&lt;dbl&gt;</th><th scope=col>&lt;dbl&gt;</th><th scope=col>&lt;dbl&gt;</th><th scope=col>&lt;dbl&gt;</th></tr>\n",
       "</thead>\n",
       "<tbody>\n",
       "\t<tr><th scope=row>1</th><td>pbmc2_10X_V2_AAACCTGAGATGGGTC</td><td>1044</td><td>2360</td><td>0.04194915</td><td>2</td><td>B cell          </td><td>pbmc2</td><td>10x</td><td>B cell          </td><td>B cell             </td><td>⋯</td><td>1.000000</td><td>1</td><td>1.0000000</td><td>1.0000000</td><td>0.9523810</td><td>1.000000</td><td>1</td><td>1.0000000</td><td>1.0000000</td><td>0.9523810</td></tr>\n",
       "\t<tr><th scope=row>2</th><td>pbmc2_10X_V2_AAACCTGAGCGTAATA</td><td> 803</td><td>1888</td><td>0.04131356</td><td>2</td><td>B cell          </td><td>pbmc2</td><td>10x</td><td>B cell          </td><td>B cell             </td><td>⋯</td><td>1.000000</td><td>1</td><td>1.0000000</td><td>1.0000000</td><td>0.9047619</td><td>1.000000</td><td>1</td><td>1.0000000</td><td>1.0000000</td><td>0.9047619</td></tr>\n",
       "\t<tr><th scope=row>3</th><td>pbmc2_10X_V2_AAACCTGAGCTAGGCA</td><td>1372</td><td>3456</td><td>0.03530093</td><td>1</td><td>Cytotoxic T cell</td><td>pbmc2</td><td>10x</td><td>CD4+ T cell     </td><td>Natural killer cell</td><td>⋯</td><td>0.000000</td><td>0</td><td>0.0000000</td><td>0.9047619</td><td>1.0000000</td><td>0.000000</td><td>0</td><td>0.0000000</td><td>0.9047619</td><td>1.0000000</td></tr>\n",
       "\t<tr><th scope=row>4</th><td>pbmc2_10X_V2_AAACCTGAGGGTCTCC</td><td>1519</td><td>3802</td><td>0.04208311</td><td>6</td><td>Dendritic cell  </td><td>pbmc2</td><td>10x</td><td>CD14+ monocyte  </td><td>CD14+ monocyte     </td><td>⋯</td><td>0.952381</td><td>1</td><td>0.9047619</td><td>0.9523810</td><td>0.9523810</td><td>0.952381</td><td>1</td><td>0.9047619</td><td>0.9523810</td><td>0.9523810</td></tr>\n",
       "\t<tr><th scope=row>5</th><td>pbmc2_10X_V2_AAACCTGGTCCGAACC</td><td>1451</td><td>3826</td><td>0.03711448</td><td>0</td><td>CD4+ T cell     </td><td>pbmc2</td><td>10x</td><td>CD4+ T cell     </td><td>Cytotoxic T cell   </td><td>⋯</td><td>0.000000</td><td>1</td><td>1.0000000</td><td>1.0000000</td><td>0.2380952</td><td>0.000000</td><td>1</td><td>1.0000000</td><td>1.0000000</td><td>0.2380952</td></tr>\n",
       "\t<tr><th scope=row>6</th><td>pbmc2_10X_V2_AAACCTGTCGTCCGTT</td><td> 931</td><td>2345</td><td>0.06524520</td><td>0</td><td>CD4+ T cell     </td><td>pbmc2</td><td>10x</td><td>Cytotoxic T cell</td><td>CD4+ T cell        </td><td>⋯</td><td>1.000000</td><td>1</td><td>0.5714286</td><td>1.0000000</td><td>0.4285714</td><td>1.000000</td><td>1</td><td>0.5714286</td><td>1.0000000</td><td>0.4285714</td></tr>\n",
       "</tbody>\n",
       "</table>\n"
      ],
      "text/latex": [
       "A data.frame: 6 × 28\n",
       "\\begin{tabular}{r|lllllllllllllllllllll}\n",
       "  & id & nGene & nUMI & percent.mito & Cluster & class\\_ & Experiment & Method & PBMC10x\\_CellID\\_3090\\_0 & PBMC10x\\_Seurat\\_3090\\_0 & ⋯ & Mono-source\\_Seurat & Mono-source\\_SingleR & Mono-source\\_CellID & Mono-source\\_SingleCellNet & Mono-source\\_ItClust & mosaic\\_Seurat & mosaic\\_SingleR & mosaic\\_CellID & mosaic\\_SingleCellNet & mosaic\\_ItClust\\\\\n",
       "  & <chr> & <int> & <int> & <dbl> & <int> & <chr> & <chr> & <chr> & <chr> & <chr> & ⋯ & <dbl> & <dbl> & <dbl> & <dbl> & <dbl> & <dbl> & <dbl> & <dbl> & <dbl> & <dbl>\\\\\n",
       "\\hline\n",
       "\t1 & pbmc2\\_10X\\_V2\\_AAACCTGAGATGGGTC & 1044 & 2360 & 0.04194915 & 2 & B cell           & pbmc2 & 10x & B cell           & B cell              & ⋯ & 1.000000 & 1 & 1.0000000 & 1.0000000 & 0.9523810 & 1.000000 & 1 & 1.0000000 & 1.0000000 & 0.9523810\\\\\n",
       "\t2 & pbmc2\\_10X\\_V2\\_AAACCTGAGCGTAATA &  803 & 1888 & 0.04131356 & 2 & B cell           & pbmc2 & 10x & B cell           & B cell              & ⋯ & 1.000000 & 1 & 1.0000000 & 1.0000000 & 0.9047619 & 1.000000 & 1 & 1.0000000 & 1.0000000 & 0.9047619\\\\\n",
       "\t3 & pbmc2\\_10X\\_V2\\_AAACCTGAGCTAGGCA & 1372 & 3456 & 0.03530093 & 1 & Cytotoxic T cell & pbmc2 & 10x & CD4+ T cell      & Natural killer cell & ⋯ & 0.000000 & 0 & 0.0000000 & 0.9047619 & 1.0000000 & 0.000000 & 0 & 0.0000000 & 0.9047619 & 1.0000000\\\\\n",
       "\t4 & pbmc2\\_10X\\_V2\\_AAACCTGAGGGTCTCC & 1519 & 3802 & 0.04208311 & 6 & Dendritic cell   & pbmc2 & 10x & CD14+ monocyte   & CD14+ monocyte      & ⋯ & 0.952381 & 1 & 0.9047619 & 0.9523810 & 0.9523810 & 0.952381 & 1 & 0.9047619 & 0.9523810 & 0.9523810\\\\\n",
       "\t5 & pbmc2\\_10X\\_V2\\_AAACCTGGTCCGAACC & 1451 & 3826 & 0.03711448 & 0 & CD4+ T cell      & pbmc2 & 10x & CD4+ T cell      & Cytotoxic T cell    & ⋯ & 0.000000 & 1 & 1.0000000 & 1.0000000 & 0.2380952 & 0.000000 & 1 & 1.0000000 & 1.0000000 & 0.2380952\\\\\n",
       "\t6 & pbmc2\\_10X\\_V2\\_AAACCTGTCGTCCGTT &  931 & 2345 & 0.06524520 & 0 & CD4+ T cell      & pbmc2 & 10x & Cytotoxic T cell & CD4+ T cell         & ⋯ & 1.000000 & 1 & 0.5714286 & 1.0000000 & 0.4285714 & 1.000000 & 1 & 0.5714286 & 1.0000000 & 0.4285714\\\\\n",
       "\\end{tabular}\n"
      ],
      "text/markdown": [
       "\n",
       "A data.frame: 6 × 28\n",
       "\n",
       "| <!--/--> | id &lt;chr&gt; | nGene &lt;int&gt; | nUMI &lt;int&gt; | percent.mito &lt;dbl&gt; | Cluster &lt;int&gt; | class_ &lt;chr&gt; | Experiment &lt;chr&gt; | Method &lt;chr&gt; | PBMC10x_CellID_3090_0 &lt;chr&gt; | PBMC10x_Seurat_3090_0 &lt;chr&gt; | ⋯ ⋯ | Mono-source_Seurat &lt;dbl&gt; | Mono-source_SingleR &lt;dbl&gt; | Mono-source_CellID &lt;dbl&gt; | Mono-source_SingleCellNet &lt;dbl&gt; | Mono-source_ItClust &lt;dbl&gt; | mosaic_Seurat &lt;dbl&gt; | mosaic_SingleR &lt;dbl&gt; | mosaic_CellID &lt;dbl&gt; | mosaic_SingleCellNet &lt;dbl&gt; | mosaic_ItClust &lt;dbl&gt; |\n",
       "|---|---|---|---|---|---|---|---|---|---|---|---|---|---|---|---|---|---|---|---|---|---|\n",
       "| 1 | pbmc2_10X_V2_AAACCTGAGATGGGTC | 1044 | 2360 | 0.04194915 | 2 | B cell           | pbmc2 | 10x | B cell           | B cell              | ⋯ | 1.000000 | 1 | 1.0000000 | 1.0000000 | 0.9523810 | 1.000000 | 1 | 1.0000000 | 1.0000000 | 0.9523810 |\n",
       "| 2 | pbmc2_10X_V2_AAACCTGAGCGTAATA |  803 | 1888 | 0.04131356 | 2 | B cell           | pbmc2 | 10x | B cell           | B cell              | ⋯ | 1.000000 | 1 | 1.0000000 | 1.0000000 | 0.9047619 | 1.000000 | 1 | 1.0000000 | 1.0000000 | 0.9047619 |\n",
       "| 3 | pbmc2_10X_V2_AAACCTGAGCTAGGCA | 1372 | 3456 | 0.03530093 | 1 | Cytotoxic T cell | pbmc2 | 10x | CD4+ T cell      | Natural killer cell | ⋯ | 0.000000 | 0 | 0.0000000 | 0.9047619 | 1.0000000 | 0.000000 | 0 | 0.0000000 | 0.9047619 | 1.0000000 |\n",
       "| 4 | pbmc2_10X_V2_AAACCTGAGGGTCTCC | 1519 | 3802 | 0.04208311 | 6 | Dendritic cell   | pbmc2 | 10x | CD14+ monocyte   | CD14+ monocyte      | ⋯ | 0.952381 | 1 | 0.9047619 | 0.9523810 | 0.9523810 | 0.952381 | 1 | 0.9047619 | 0.9523810 | 0.9523810 |\n",
       "| 5 | pbmc2_10X_V2_AAACCTGGTCCGAACC | 1451 | 3826 | 0.03711448 | 0 | CD4+ T cell      | pbmc2 | 10x | CD4+ T cell      | Cytotoxic T cell    | ⋯ | 0.000000 | 1 | 1.0000000 | 1.0000000 | 0.2380952 | 0.000000 | 1 | 1.0000000 | 1.0000000 | 0.2380952 |\n",
       "| 6 | pbmc2_10X_V2_AAACCTGTCGTCCGTT |  931 | 2345 | 0.06524520 | 0 | CD4+ T cell      | pbmc2 | 10x | Cytotoxic T cell | CD4+ T cell         | ⋯ | 1.000000 | 1 | 0.5714286 | 1.0000000 | 0.4285714 | 1.000000 | 1 | 0.5714286 | 1.0000000 | 0.4285714 |\n",
       "\n"
      ],
      "text/plain": [
       "  id                            nGene nUMI percent.mito Cluster\n",
       "1 pbmc2_10X_V2_AAACCTGAGATGGGTC 1044  2360 0.04194915   2      \n",
       "2 pbmc2_10X_V2_AAACCTGAGCGTAATA  803  1888 0.04131356   2      \n",
       "3 pbmc2_10X_V2_AAACCTGAGCTAGGCA 1372  3456 0.03530093   1      \n",
       "4 pbmc2_10X_V2_AAACCTGAGGGTCTCC 1519  3802 0.04208311   6      \n",
       "5 pbmc2_10X_V2_AAACCTGGTCCGAACC 1451  3826 0.03711448   0      \n",
       "6 pbmc2_10X_V2_AAACCTGTCGTCCGTT  931  2345 0.06524520   0      \n",
       "  class_           Experiment Method PBMC10x_CellID_3090_0\n",
       "1 B cell           pbmc2      10x    B cell               \n",
       "2 B cell           pbmc2      10x    B cell               \n",
       "3 Cytotoxic T cell pbmc2      10x    CD4+ T cell          \n",
       "4 Dendritic cell   pbmc2      10x    CD14+ monocyte       \n",
       "5 CD4+ T cell      pbmc2      10x    CD4+ T cell          \n",
       "6 CD4+ T cell      pbmc2      10x    Cytotoxic T cell     \n",
       "  PBMC10x_Seurat_3090_0 ⋯ Mono-source_Seurat Mono-source_SingleR\n",
       "1 B cell                ⋯ 1.000000           1                  \n",
       "2 B cell                ⋯ 1.000000           1                  \n",
       "3 Natural killer cell   ⋯ 0.000000           0                  \n",
       "4 CD14+ monocyte        ⋯ 0.952381           1                  \n",
       "5 Cytotoxic T cell      ⋯ 0.000000           1                  \n",
       "6 CD4+ T cell           ⋯ 1.000000           1                  \n",
       "  Mono-source_CellID Mono-source_SingleCellNet Mono-source_ItClust\n",
       "1 1.0000000          1.0000000                 0.9523810          \n",
       "2 1.0000000          1.0000000                 0.9047619          \n",
       "3 0.0000000          0.9047619                 1.0000000          \n",
       "4 0.9047619          0.9523810                 0.9523810          \n",
       "5 1.0000000          1.0000000                 0.2380952          \n",
       "6 0.5714286          1.0000000                 0.4285714          \n",
       "  mosaic_Seurat mosaic_SingleR mosaic_CellID mosaic_SingleCellNet\n",
       "1 1.000000      1              1.0000000     1.0000000           \n",
       "2 1.000000      1              1.0000000     1.0000000           \n",
       "3 0.000000      0              0.0000000     0.9047619           \n",
       "4 0.952381      1              0.9047619     0.9523810           \n",
       "5 0.000000      1              1.0000000     1.0000000           \n",
       "6 1.000000      1              0.5714286     1.0000000           \n",
       "  mosaic_ItClust\n",
       "1 0.9523810     \n",
       "2 0.9047619     \n",
       "3 1.0000000     \n",
       "4 0.9523810     \n",
       "5 0.2380952     \n",
       "6 0.4285714     "
      ]
     },
     "metadata": {},
     "output_type": "display_data"
    }
   ],
   "source": [
    "umap_mosaic <- read.csv(\"../Results//Files/summary_results_mosaic.csv\")\n",
    "\n",
    "predictions <- do.call(rbind, lapply(unique(umap_bootstrap$set),\n",
    "                                     function(set) do.call(rbind,lapply(unique(umap_bootstrap$method),\n",
    "                                     function(method)(getPrediction(umap_bootstrap, method, ref, set))))))\n",
    "predictions <- merge(read.csv(\"../Data/Fulldata/PBMC_Query/meta.csv\"),predictions, by=\"id\", all.x=T)\n",
    "predictions$match <- predictions$class_ == predictions$predicted\n",
    "predictions$match[predictions$match == TRUE] <- 1\n",
    "\n",
    "summary <- predictions %>% \n",
    "           dplyr::group_by(method, class_, id) %>% \n",
    "           dplyr::summarize(mean = sum(match) /length(unique(set) )) \n",
    "    \n",
    "library(tidyverse)                                                                        \n",
    "getVectors <- function(method, data, name){\n",
    "    df <- data[data$method == method, c(\"id\", \"mean\")]\n",
    "    df$mean[is.na(mean)] <- 0\n",
    "    colnames(df)[2] <- paste(sep=\"_\",name, method)\n",
    "    return(df)\n",
    "}\n",
    "\n",
    "vecs <- lapply(methods, function(method)  getVectors(method, summary, \"mosaic\"))\n",
    "df <- vecs %>% reduce(left_join, by = c(\"id\") )\n",
    "meta <- merge(meta, df, by=\"id\", all.x=T)\n",
    "head(meta)"
   ]
  },
  {
   "cell_type": "code",
   "execution_count": 12,
   "id": "d49b376a-79bc-4f81-92cb-869adfaad78f",
   "metadata": {},
   "outputs": [
    {
     "data": {
      "text/html": [
       "<table class=\"dataframe\">\n",
       "<caption>A data.frame: 6 × 28</caption>\n",
       "<thead>\n",
       "\t<tr><th></th><th scope=col>id</th><th scope=col>nGene</th><th scope=col>nUMI</th><th scope=col>percent.mito</th><th scope=col>Cluster</th><th scope=col>class_</th><th scope=col>Experiment</th><th scope=col>Method</th><th scope=col>PBMC10x_CellID_3090_0</th><th scope=col>PBMC10x_Seurat_3090_0</th><th scope=col>⋯</th><th scope=col>Mono-source_Seurat</th><th scope=col>Mono-source_SingleR</th><th scope=col>Mono-source_CellID</th><th scope=col>Mono-source_SingleCellNet</th><th scope=col>Mono-source_ItClust</th><th scope=col>mosaic_Seurat</th><th scope=col>mosaic_SingleR</th><th scope=col>mosaic_CellID</th><th scope=col>mosaic_SingleCellNet</th><th scope=col>mosaic_ItClust</th></tr>\n",
       "\t<tr><th></th><th scope=col>&lt;chr&gt;</th><th scope=col>&lt;int&gt;</th><th scope=col>&lt;int&gt;</th><th scope=col>&lt;dbl&gt;</th><th scope=col>&lt;int&gt;</th><th scope=col>&lt;chr&gt;</th><th scope=col>&lt;chr&gt;</th><th scope=col>&lt;chr&gt;</th><th scope=col>&lt;chr&gt;</th><th scope=col>&lt;chr&gt;</th><th scope=col>⋯</th><th scope=col>&lt;dbl&gt;</th><th scope=col>&lt;dbl&gt;</th><th scope=col>&lt;dbl&gt;</th><th scope=col>&lt;dbl&gt;</th><th scope=col>&lt;dbl&gt;</th><th scope=col>&lt;dbl&gt;</th><th scope=col>&lt;dbl&gt;</th><th scope=col>&lt;dbl&gt;</th><th scope=col>&lt;dbl&gt;</th><th scope=col>&lt;dbl&gt;</th></tr>\n",
       "</thead>\n",
       "<tbody>\n",
       "\t<tr><th scope=row>pbmc2_10X_V2_AAACCTGAGATGGGTC</th><td>pbmc2_10X_V2_AAACCTGAGATGGGTC</td><td>1044</td><td>2360</td><td>0.04194915</td><td>2</td><td>B cell          </td><td>pbmc2</td><td>10x</td><td>B cell          </td><td>B cell             </td><td>⋯</td><td>1.000000</td><td>1</td><td>1.0000000</td><td>1.0000000</td><td>0.9523810</td><td>1.000000</td><td>1</td><td>1.0000000</td><td>1.0000000</td><td>0.9523810</td></tr>\n",
       "\t<tr><th scope=row>pbmc2_10X_V2_AAACCTGAGCGTAATA</th><td>pbmc2_10X_V2_AAACCTGAGCGTAATA</td><td> 803</td><td>1888</td><td>0.04131356</td><td>2</td><td>B cell          </td><td>pbmc2</td><td>10x</td><td>B cell          </td><td>B cell             </td><td>⋯</td><td>1.000000</td><td>1</td><td>1.0000000</td><td>1.0000000</td><td>0.9047619</td><td>1.000000</td><td>1</td><td>1.0000000</td><td>1.0000000</td><td>0.9047619</td></tr>\n",
       "\t<tr><th scope=row>pbmc2_10X_V2_AAACCTGAGCTAGGCA</th><td>pbmc2_10X_V2_AAACCTGAGCTAGGCA</td><td>1372</td><td>3456</td><td>0.03530093</td><td>1</td><td>Cytotoxic T cell</td><td>pbmc2</td><td>10x</td><td>CD4+ T cell     </td><td>Natural killer cell</td><td>⋯</td><td>0.000000</td><td>0</td><td>0.0000000</td><td>0.9047619</td><td>1.0000000</td><td>0.000000</td><td>0</td><td>0.0000000</td><td>0.9047619</td><td>1.0000000</td></tr>\n",
       "\t<tr><th scope=row>pbmc2_10X_V2_AAACCTGAGGGTCTCC</th><td>pbmc2_10X_V2_AAACCTGAGGGTCTCC</td><td>1519</td><td>3802</td><td>0.04208311</td><td>6</td><td>Dendritic cell  </td><td>pbmc2</td><td>10x</td><td>CD14+ monocyte  </td><td>CD14+ monocyte     </td><td>⋯</td><td>0.952381</td><td>1</td><td>0.9047619</td><td>0.9523810</td><td>0.9523810</td><td>0.952381</td><td>1</td><td>0.9047619</td><td>0.9523810</td><td>0.9523810</td></tr>\n",
       "\t<tr><th scope=row>pbmc2_10X_V2_AAACCTGGTCCGAACC</th><td>pbmc2_10X_V2_AAACCTGGTCCGAACC</td><td>1451</td><td>3826</td><td>0.03711448</td><td>0</td><td>CD4+ T cell     </td><td>pbmc2</td><td>10x</td><td>CD4+ T cell     </td><td>Cytotoxic T cell   </td><td>⋯</td><td>0.000000</td><td>1</td><td>1.0000000</td><td>1.0000000</td><td>0.2380952</td><td>0.000000</td><td>1</td><td>1.0000000</td><td>1.0000000</td><td>0.2380952</td></tr>\n",
       "\t<tr><th scope=row>pbmc2_10X_V2_AAACCTGTCGTCCGTT</th><td>pbmc2_10X_V2_AAACCTGTCGTCCGTT</td><td> 931</td><td>2345</td><td>0.06524520</td><td>0</td><td>CD4+ T cell     </td><td>pbmc2</td><td>10x</td><td>Cytotoxic T cell</td><td>CD4+ T cell        </td><td>⋯</td><td>1.000000</td><td>1</td><td>0.5714286</td><td>1.0000000</td><td>0.4285714</td><td>1.000000</td><td>1</td><td>0.5714286</td><td>1.0000000</td><td>0.4285714</td></tr>\n",
       "</tbody>\n",
       "</table>\n"
      ],
      "text/latex": [
       "A data.frame: 6 × 28\n",
       "\\begin{tabular}{r|lllllllllllllllllllll}\n",
       "  & id & nGene & nUMI & percent.mito & Cluster & class\\_ & Experiment & Method & PBMC10x\\_CellID\\_3090\\_0 & PBMC10x\\_Seurat\\_3090\\_0 & ⋯ & Mono-source\\_Seurat & Mono-source\\_SingleR & Mono-source\\_CellID & Mono-source\\_SingleCellNet & Mono-source\\_ItClust & mosaic\\_Seurat & mosaic\\_SingleR & mosaic\\_CellID & mosaic\\_SingleCellNet & mosaic\\_ItClust\\\\\n",
       "  & <chr> & <int> & <int> & <dbl> & <int> & <chr> & <chr> & <chr> & <chr> & <chr> & ⋯ & <dbl> & <dbl> & <dbl> & <dbl> & <dbl> & <dbl> & <dbl> & <dbl> & <dbl> & <dbl>\\\\\n",
       "\\hline\n",
       "\tpbmc2\\_10X\\_V2\\_AAACCTGAGATGGGTC & pbmc2\\_10X\\_V2\\_AAACCTGAGATGGGTC & 1044 & 2360 & 0.04194915 & 2 & B cell           & pbmc2 & 10x & B cell           & B cell              & ⋯ & 1.000000 & 1 & 1.0000000 & 1.0000000 & 0.9523810 & 1.000000 & 1 & 1.0000000 & 1.0000000 & 0.9523810\\\\\n",
       "\tpbmc2\\_10X\\_V2\\_AAACCTGAGCGTAATA & pbmc2\\_10X\\_V2\\_AAACCTGAGCGTAATA &  803 & 1888 & 0.04131356 & 2 & B cell           & pbmc2 & 10x & B cell           & B cell              & ⋯ & 1.000000 & 1 & 1.0000000 & 1.0000000 & 0.9047619 & 1.000000 & 1 & 1.0000000 & 1.0000000 & 0.9047619\\\\\n",
       "\tpbmc2\\_10X\\_V2\\_AAACCTGAGCTAGGCA & pbmc2\\_10X\\_V2\\_AAACCTGAGCTAGGCA & 1372 & 3456 & 0.03530093 & 1 & Cytotoxic T cell & pbmc2 & 10x & CD4+ T cell      & Natural killer cell & ⋯ & 0.000000 & 0 & 0.0000000 & 0.9047619 & 1.0000000 & 0.000000 & 0 & 0.0000000 & 0.9047619 & 1.0000000\\\\\n",
       "\tpbmc2\\_10X\\_V2\\_AAACCTGAGGGTCTCC & pbmc2\\_10X\\_V2\\_AAACCTGAGGGTCTCC & 1519 & 3802 & 0.04208311 & 6 & Dendritic cell   & pbmc2 & 10x & CD14+ monocyte   & CD14+ monocyte      & ⋯ & 0.952381 & 1 & 0.9047619 & 0.9523810 & 0.9523810 & 0.952381 & 1 & 0.9047619 & 0.9523810 & 0.9523810\\\\\n",
       "\tpbmc2\\_10X\\_V2\\_AAACCTGGTCCGAACC & pbmc2\\_10X\\_V2\\_AAACCTGGTCCGAACC & 1451 & 3826 & 0.03711448 & 0 & CD4+ T cell      & pbmc2 & 10x & CD4+ T cell      & Cytotoxic T cell    & ⋯ & 0.000000 & 1 & 1.0000000 & 1.0000000 & 0.2380952 & 0.000000 & 1 & 1.0000000 & 1.0000000 & 0.2380952\\\\\n",
       "\tpbmc2\\_10X\\_V2\\_AAACCTGTCGTCCGTT & pbmc2\\_10X\\_V2\\_AAACCTGTCGTCCGTT &  931 & 2345 & 0.06524520 & 0 & CD4+ T cell      & pbmc2 & 10x & Cytotoxic T cell & CD4+ T cell         & ⋯ & 1.000000 & 1 & 0.5714286 & 1.0000000 & 0.4285714 & 1.000000 & 1 & 0.5714286 & 1.0000000 & 0.4285714\\\\\n",
       "\\end{tabular}\n"
      ],
      "text/markdown": [
       "\n",
       "A data.frame: 6 × 28\n",
       "\n",
       "| <!--/--> | id &lt;chr&gt; | nGene &lt;int&gt; | nUMI &lt;int&gt; | percent.mito &lt;dbl&gt; | Cluster &lt;int&gt; | class_ &lt;chr&gt; | Experiment &lt;chr&gt; | Method &lt;chr&gt; | PBMC10x_CellID_3090_0 &lt;chr&gt; | PBMC10x_Seurat_3090_0 &lt;chr&gt; | ⋯ ⋯ | Mono-source_Seurat &lt;dbl&gt; | Mono-source_SingleR &lt;dbl&gt; | Mono-source_CellID &lt;dbl&gt; | Mono-source_SingleCellNet &lt;dbl&gt; | Mono-source_ItClust &lt;dbl&gt; | mosaic_Seurat &lt;dbl&gt; | mosaic_SingleR &lt;dbl&gt; | mosaic_CellID &lt;dbl&gt; | mosaic_SingleCellNet &lt;dbl&gt; | mosaic_ItClust &lt;dbl&gt; |\n",
       "|---|---|---|---|---|---|---|---|---|---|---|---|---|---|---|---|---|---|---|---|---|---|\n",
       "| pbmc2_10X_V2_AAACCTGAGATGGGTC | pbmc2_10X_V2_AAACCTGAGATGGGTC | 1044 | 2360 | 0.04194915 | 2 | B cell           | pbmc2 | 10x | B cell           | B cell              | ⋯ | 1.000000 | 1 | 1.0000000 | 1.0000000 | 0.9523810 | 1.000000 | 1 | 1.0000000 | 1.0000000 | 0.9523810 |\n",
       "| pbmc2_10X_V2_AAACCTGAGCGTAATA | pbmc2_10X_V2_AAACCTGAGCGTAATA |  803 | 1888 | 0.04131356 | 2 | B cell           | pbmc2 | 10x | B cell           | B cell              | ⋯ | 1.000000 | 1 | 1.0000000 | 1.0000000 | 0.9047619 | 1.000000 | 1 | 1.0000000 | 1.0000000 | 0.9047619 |\n",
       "| pbmc2_10X_V2_AAACCTGAGCTAGGCA | pbmc2_10X_V2_AAACCTGAGCTAGGCA | 1372 | 3456 | 0.03530093 | 1 | Cytotoxic T cell | pbmc2 | 10x | CD4+ T cell      | Natural killer cell | ⋯ | 0.000000 | 0 | 0.0000000 | 0.9047619 | 1.0000000 | 0.000000 | 0 | 0.0000000 | 0.9047619 | 1.0000000 |\n",
       "| pbmc2_10X_V2_AAACCTGAGGGTCTCC | pbmc2_10X_V2_AAACCTGAGGGTCTCC | 1519 | 3802 | 0.04208311 | 6 | Dendritic cell   | pbmc2 | 10x | CD14+ monocyte   | CD14+ monocyte      | ⋯ | 0.952381 | 1 | 0.9047619 | 0.9523810 | 0.9523810 | 0.952381 | 1 | 0.9047619 | 0.9523810 | 0.9523810 |\n",
       "| pbmc2_10X_V2_AAACCTGGTCCGAACC | pbmc2_10X_V2_AAACCTGGTCCGAACC | 1451 | 3826 | 0.03711448 | 0 | CD4+ T cell      | pbmc2 | 10x | CD4+ T cell      | Cytotoxic T cell    | ⋯ | 0.000000 | 1 | 1.0000000 | 1.0000000 | 0.2380952 | 0.000000 | 1 | 1.0000000 | 1.0000000 | 0.2380952 |\n",
       "| pbmc2_10X_V2_AAACCTGTCGTCCGTT | pbmc2_10X_V2_AAACCTGTCGTCCGTT |  931 | 2345 | 0.06524520 | 0 | CD4+ T cell      | pbmc2 | 10x | Cytotoxic T cell | CD4+ T cell         | ⋯ | 1.000000 | 1 | 0.5714286 | 1.0000000 | 0.4285714 | 1.000000 | 1 | 0.5714286 | 1.0000000 | 0.4285714 |\n",
       "\n"
      ],
      "text/plain": [
       "                              id                            nGene nUMI\n",
       "pbmc2_10X_V2_AAACCTGAGATGGGTC pbmc2_10X_V2_AAACCTGAGATGGGTC 1044  2360\n",
       "pbmc2_10X_V2_AAACCTGAGCGTAATA pbmc2_10X_V2_AAACCTGAGCGTAATA  803  1888\n",
       "pbmc2_10X_V2_AAACCTGAGCTAGGCA pbmc2_10X_V2_AAACCTGAGCTAGGCA 1372  3456\n",
       "pbmc2_10X_V2_AAACCTGAGGGTCTCC pbmc2_10X_V2_AAACCTGAGGGTCTCC 1519  3802\n",
       "pbmc2_10X_V2_AAACCTGGTCCGAACC pbmc2_10X_V2_AAACCTGGTCCGAACC 1451  3826\n",
       "pbmc2_10X_V2_AAACCTGTCGTCCGTT pbmc2_10X_V2_AAACCTGTCGTCCGTT  931  2345\n",
       "                              percent.mito Cluster class_           Experiment\n",
       "pbmc2_10X_V2_AAACCTGAGATGGGTC 0.04194915   2       B cell           pbmc2     \n",
       "pbmc2_10X_V2_AAACCTGAGCGTAATA 0.04131356   2       B cell           pbmc2     \n",
       "pbmc2_10X_V2_AAACCTGAGCTAGGCA 0.03530093   1       Cytotoxic T cell pbmc2     \n",
       "pbmc2_10X_V2_AAACCTGAGGGTCTCC 0.04208311   6       Dendritic cell   pbmc2     \n",
       "pbmc2_10X_V2_AAACCTGGTCCGAACC 0.03711448   0       CD4+ T cell      pbmc2     \n",
       "pbmc2_10X_V2_AAACCTGTCGTCCGTT 0.06524520   0       CD4+ T cell      pbmc2     \n",
       "                              Method PBMC10x_CellID_3090_0\n",
       "pbmc2_10X_V2_AAACCTGAGATGGGTC 10x    B cell               \n",
       "pbmc2_10X_V2_AAACCTGAGCGTAATA 10x    B cell               \n",
       "pbmc2_10X_V2_AAACCTGAGCTAGGCA 10x    CD4+ T cell          \n",
       "pbmc2_10X_V2_AAACCTGAGGGTCTCC 10x    CD14+ monocyte       \n",
       "pbmc2_10X_V2_AAACCTGGTCCGAACC 10x    CD4+ T cell          \n",
       "pbmc2_10X_V2_AAACCTGTCGTCCGTT 10x    Cytotoxic T cell     \n",
       "                              PBMC10x_Seurat_3090_0 ⋯ Mono-source_Seurat\n",
       "pbmc2_10X_V2_AAACCTGAGATGGGTC B cell                ⋯ 1.000000          \n",
       "pbmc2_10X_V2_AAACCTGAGCGTAATA B cell                ⋯ 1.000000          \n",
       "pbmc2_10X_V2_AAACCTGAGCTAGGCA Natural killer cell   ⋯ 0.000000          \n",
       "pbmc2_10X_V2_AAACCTGAGGGTCTCC CD14+ monocyte        ⋯ 0.952381          \n",
       "pbmc2_10X_V2_AAACCTGGTCCGAACC Cytotoxic T cell      ⋯ 0.000000          \n",
       "pbmc2_10X_V2_AAACCTGTCGTCCGTT CD4+ T cell           ⋯ 1.000000          \n",
       "                              Mono-source_SingleR Mono-source_CellID\n",
       "pbmc2_10X_V2_AAACCTGAGATGGGTC 1                   1.0000000         \n",
       "pbmc2_10X_V2_AAACCTGAGCGTAATA 1                   1.0000000         \n",
       "pbmc2_10X_V2_AAACCTGAGCTAGGCA 0                   0.0000000         \n",
       "pbmc2_10X_V2_AAACCTGAGGGTCTCC 1                   0.9047619         \n",
       "pbmc2_10X_V2_AAACCTGGTCCGAACC 1                   1.0000000         \n",
       "pbmc2_10X_V2_AAACCTGTCGTCCGTT 1                   0.5714286         \n",
       "                              Mono-source_SingleCellNet Mono-source_ItClust\n",
       "pbmc2_10X_V2_AAACCTGAGATGGGTC 1.0000000                 0.9523810          \n",
       "pbmc2_10X_V2_AAACCTGAGCGTAATA 1.0000000                 0.9047619          \n",
       "pbmc2_10X_V2_AAACCTGAGCTAGGCA 0.9047619                 1.0000000          \n",
       "pbmc2_10X_V2_AAACCTGAGGGTCTCC 0.9523810                 0.9523810          \n",
       "pbmc2_10X_V2_AAACCTGGTCCGAACC 1.0000000                 0.2380952          \n",
       "pbmc2_10X_V2_AAACCTGTCGTCCGTT 1.0000000                 0.4285714          \n",
       "                              mosaic_Seurat mosaic_SingleR mosaic_CellID\n",
       "pbmc2_10X_V2_AAACCTGAGATGGGTC 1.000000      1              1.0000000    \n",
       "pbmc2_10X_V2_AAACCTGAGCGTAATA 1.000000      1              1.0000000    \n",
       "pbmc2_10X_V2_AAACCTGAGCTAGGCA 0.000000      0              0.0000000    \n",
       "pbmc2_10X_V2_AAACCTGAGGGTCTCC 0.952381      1              0.9047619    \n",
       "pbmc2_10X_V2_AAACCTGGTCCGAACC 0.000000      1              1.0000000    \n",
       "pbmc2_10X_V2_AAACCTGTCGTCCGTT 1.000000      1              0.5714286    \n",
       "                              mosaic_SingleCellNet mosaic_ItClust\n",
       "pbmc2_10X_V2_AAACCTGAGATGGGTC 1.0000000            0.9523810     \n",
       "pbmc2_10X_V2_AAACCTGAGCGTAATA 1.0000000            0.9047619     \n",
       "pbmc2_10X_V2_AAACCTGAGCTAGGCA 0.9047619            1.0000000     \n",
       "pbmc2_10X_V2_AAACCTGAGGGTCTCC 0.9523810            0.9523810     \n",
       "pbmc2_10X_V2_AAACCTGGTCCGAACC 1.0000000            0.2380952     \n",
       "pbmc2_10X_V2_AAACCTGTCGTCCGTT 1.0000000            0.4285714     "
      ]
     },
     "metadata": {},
     "output_type": "display_data"
    }
   ],
   "source": [
    "meta <- meta[meta$Method != \"Smart-seq2\",]\n",
    "meta$PBMC10x_ItClust_3090_0[is.na(meta$PBMC10x_ItClust_3090_0)] <- \"Not Predicted\"\n",
    "\n",
    "rownames(meta)<- meta$id\n",
    "head(meta)"
   ]
  },
  {
   "cell_type": "code",
   "execution_count": null,
   "id": "ec0e8ecd-38ba-4cdb-bcde-5301ebccca85",
   "metadata": {},
   "outputs": [],
   "source": []
  },
  {
   "cell_type": "code",
   "execution_count": 13,
   "id": "462bc789-675f-4604-bba2-3a42ec398d97",
   "metadata": {},
   "outputs": [],
   "source": [
    "write.table(meta, \"../Results/Files/umap_data.csv\", sep=\",\", col.names = T, row.names = T)"
   ]
  },
  {
   "cell_type": "code",
   "execution_count": 14,
   "id": "13215e6c-51c4-4555-b3bb-aa029691e66a",
   "metadata": {},
   "outputs": [
    {
     "data": {
      "text/html": [
       "<table class=\"dataframe\">\n",
       "<caption>A data.frame: 6 × 6</caption>\n",
       "<thead>\n",
       "\t<tr><th></th><th scope=col>id</th><th scope=col>PBMC10x_CellID_3090_0</th><th scope=col>PBMC10x_Seurat_3090_0</th><th scope=col>PBMC10x_SingleCellNet_3090_0</th><th scope=col>PBMC10x_SingleR_3090_0</th><th scope=col>PBMC10x_ItClust_3090_0</th></tr>\n",
       "\t<tr><th></th><th scope=col>&lt;chr&gt;</th><th scope=col>&lt;chr&gt;</th><th scope=col>&lt;chr&gt;</th><th scope=col>&lt;chr&gt;</th><th scope=col>&lt;chr&gt;</th><th scope=col>&lt;chr&gt;</th></tr>\n",
       "</thead>\n",
       "<tbody>\n",
       "\t<tr><th scope=row>pbmc2_10X_V2_AAACCTGAGATGGGTC</th><td>pbmc2_10X_V2_AAACCTGAGATGGGTC</td><td>B cell          </td><td>B cell             </td><td>B cell          </td><td>B cell             </td><td>B cell          </td></tr>\n",
       "\t<tr><th scope=row>pbmc2_10X_V2_AAACCTGAGCGTAATA</th><td>pbmc2_10X_V2_AAACCTGAGCGTAATA</td><td>B cell          </td><td>B cell             </td><td>B cell          </td><td>B cell             </td><td>B cell          </td></tr>\n",
       "\t<tr><th scope=row>pbmc2_10X_V2_AAACCTGAGCTAGGCA</th><td>pbmc2_10X_V2_AAACCTGAGCTAGGCA</td><td>CD4+ T cell     </td><td>Natural killer cell</td><td>Cytotoxic T cell</td><td>Natural killer cell</td><td>Cytotoxic T cell</td></tr>\n",
       "\t<tr><th scope=row>pbmc2_10X_V2_AAACCTGAGGGTCTCC</th><td>pbmc2_10X_V2_AAACCTGAGGGTCTCC</td><td>CD14+ monocyte  </td><td>CD14+ monocyte     </td><td>CD14+ monocyte  </td><td>Dendritic cell     </td><td>CD14+ monocyte  </td></tr>\n",
       "\t<tr><th scope=row>pbmc2_10X_V2_AAACCTGGTCCGAACC</th><td>pbmc2_10X_V2_AAACCTGGTCCGAACC</td><td>CD4+ T cell     </td><td>Cytotoxic T cell   </td><td>CD4+ T cell     </td><td>CD4+ T cell        </td><td>Cytotoxic T cell</td></tr>\n",
       "\t<tr><th scope=row>pbmc2_10X_V2_AAACCTGTCGTCCGTT</th><td>pbmc2_10X_V2_AAACCTGTCGTCCGTT</td><td>Cytotoxic T cell</td><td>CD4+ T cell        </td><td>CD4+ T cell     </td><td>CD4+ T cell        </td><td>Cytotoxic T cell</td></tr>\n",
       "</tbody>\n",
       "</table>\n"
      ],
      "text/latex": [
       "A data.frame: 6 × 6\n",
       "\\begin{tabular}{r|llllll}\n",
       "  & id & PBMC10x\\_CellID\\_3090\\_0 & PBMC10x\\_Seurat\\_3090\\_0 & PBMC10x\\_SingleCellNet\\_3090\\_0 & PBMC10x\\_SingleR\\_3090\\_0 & PBMC10x\\_ItClust\\_3090\\_0\\\\\n",
       "  & <chr> & <chr> & <chr> & <chr> & <chr> & <chr>\\\\\n",
       "\\hline\n",
       "\tpbmc2\\_10X\\_V2\\_AAACCTGAGATGGGTC & pbmc2\\_10X\\_V2\\_AAACCTGAGATGGGTC & B cell           & B cell              & B cell           & B cell              & B cell          \\\\\n",
       "\tpbmc2\\_10X\\_V2\\_AAACCTGAGCGTAATA & pbmc2\\_10X\\_V2\\_AAACCTGAGCGTAATA & B cell           & B cell              & B cell           & B cell              & B cell          \\\\\n",
       "\tpbmc2\\_10X\\_V2\\_AAACCTGAGCTAGGCA & pbmc2\\_10X\\_V2\\_AAACCTGAGCTAGGCA & CD4+ T cell      & Natural killer cell & Cytotoxic T cell & Natural killer cell & Cytotoxic T cell\\\\\n",
       "\tpbmc2\\_10X\\_V2\\_AAACCTGAGGGTCTCC & pbmc2\\_10X\\_V2\\_AAACCTGAGGGTCTCC & CD14+ monocyte   & CD14+ monocyte      & CD14+ monocyte   & Dendritic cell      & CD14+ monocyte  \\\\\n",
       "\tpbmc2\\_10X\\_V2\\_AAACCTGGTCCGAACC & pbmc2\\_10X\\_V2\\_AAACCTGGTCCGAACC & CD4+ T cell      & Cytotoxic T cell    & CD4+ T cell      & CD4+ T cell         & Cytotoxic T cell\\\\\n",
       "\tpbmc2\\_10X\\_V2\\_AAACCTGTCGTCCGTT & pbmc2\\_10X\\_V2\\_AAACCTGTCGTCCGTT & Cytotoxic T cell & CD4+ T cell         & CD4+ T cell      & CD4+ T cell         & Cytotoxic T cell\\\\\n",
       "\\end{tabular}\n"
      ],
      "text/markdown": [
       "\n",
       "A data.frame: 6 × 6\n",
       "\n",
       "| <!--/--> | id &lt;chr&gt; | PBMC10x_CellID_3090_0 &lt;chr&gt; | PBMC10x_Seurat_3090_0 &lt;chr&gt; | PBMC10x_SingleCellNet_3090_0 &lt;chr&gt; | PBMC10x_SingleR_3090_0 &lt;chr&gt; | PBMC10x_ItClust_3090_0 &lt;chr&gt; |\n",
       "|---|---|---|---|---|---|---|\n",
       "| pbmc2_10X_V2_AAACCTGAGATGGGTC | pbmc2_10X_V2_AAACCTGAGATGGGTC | B cell           | B cell              | B cell           | B cell              | B cell           |\n",
       "| pbmc2_10X_V2_AAACCTGAGCGTAATA | pbmc2_10X_V2_AAACCTGAGCGTAATA | B cell           | B cell              | B cell           | B cell              | B cell           |\n",
       "| pbmc2_10X_V2_AAACCTGAGCTAGGCA | pbmc2_10X_V2_AAACCTGAGCTAGGCA | CD4+ T cell      | Natural killer cell | Cytotoxic T cell | Natural killer cell | Cytotoxic T cell |\n",
       "| pbmc2_10X_V2_AAACCTGAGGGTCTCC | pbmc2_10X_V2_AAACCTGAGGGTCTCC | CD14+ monocyte   | CD14+ monocyte      | CD14+ monocyte   | Dendritic cell      | CD14+ monocyte   |\n",
       "| pbmc2_10X_V2_AAACCTGGTCCGAACC | pbmc2_10X_V2_AAACCTGGTCCGAACC | CD4+ T cell      | Cytotoxic T cell    | CD4+ T cell      | CD4+ T cell         | Cytotoxic T cell |\n",
       "| pbmc2_10X_V2_AAACCTGTCGTCCGTT | pbmc2_10X_V2_AAACCTGTCGTCCGTT | Cytotoxic T cell | CD4+ T cell         | CD4+ T cell      | CD4+ T cell         | Cytotoxic T cell |\n",
       "\n"
      ],
      "text/plain": [
       "                              id                           \n",
       "pbmc2_10X_V2_AAACCTGAGATGGGTC pbmc2_10X_V2_AAACCTGAGATGGGTC\n",
       "pbmc2_10X_V2_AAACCTGAGCGTAATA pbmc2_10X_V2_AAACCTGAGCGTAATA\n",
       "pbmc2_10X_V2_AAACCTGAGCTAGGCA pbmc2_10X_V2_AAACCTGAGCTAGGCA\n",
       "pbmc2_10X_V2_AAACCTGAGGGTCTCC pbmc2_10X_V2_AAACCTGAGGGTCTCC\n",
       "pbmc2_10X_V2_AAACCTGGTCCGAACC pbmc2_10X_V2_AAACCTGGTCCGAACC\n",
       "pbmc2_10X_V2_AAACCTGTCGTCCGTT pbmc2_10X_V2_AAACCTGTCGTCCGTT\n",
       "                              PBMC10x_CellID_3090_0 PBMC10x_Seurat_3090_0\n",
       "pbmc2_10X_V2_AAACCTGAGATGGGTC B cell                B cell               \n",
       "pbmc2_10X_V2_AAACCTGAGCGTAATA B cell                B cell               \n",
       "pbmc2_10X_V2_AAACCTGAGCTAGGCA CD4+ T cell           Natural killer cell  \n",
       "pbmc2_10X_V2_AAACCTGAGGGTCTCC CD14+ monocyte        CD14+ monocyte       \n",
       "pbmc2_10X_V2_AAACCTGGTCCGAACC CD4+ T cell           Cytotoxic T cell     \n",
       "pbmc2_10X_V2_AAACCTGTCGTCCGTT Cytotoxic T cell      CD4+ T cell          \n",
       "                              PBMC10x_SingleCellNet_3090_0\n",
       "pbmc2_10X_V2_AAACCTGAGATGGGTC B cell                      \n",
       "pbmc2_10X_V2_AAACCTGAGCGTAATA B cell                      \n",
       "pbmc2_10X_V2_AAACCTGAGCTAGGCA Cytotoxic T cell            \n",
       "pbmc2_10X_V2_AAACCTGAGGGTCTCC CD14+ monocyte              \n",
       "pbmc2_10X_V2_AAACCTGGTCCGAACC CD4+ T cell                 \n",
       "pbmc2_10X_V2_AAACCTGTCGTCCGTT CD4+ T cell                 \n",
       "                              PBMC10x_SingleR_3090_0 PBMC10x_ItClust_3090_0\n",
       "pbmc2_10X_V2_AAACCTGAGATGGGTC B cell                 B cell                \n",
       "pbmc2_10X_V2_AAACCTGAGCGTAATA B cell                 B cell                \n",
       "pbmc2_10X_V2_AAACCTGAGCTAGGCA Natural killer cell    Cytotoxic T cell      \n",
       "pbmc2_10X_V2_AAACCTGAGGGTCTCC Dendritic cell         CD14+ monocyte        \n",
       "pbmc2_10X_V2_AAACCTGGTCCGAACC CD4+ T cell            Cytotoxic T cell      \n",
       "pbmc2_10X_V2_AAACCTGTCGTCCGTT CD4+ T cell            Cytotoxic T cell      "
      ]
     },
     "metadata": {},
     "output_type": "display_data"
    }
   ],
   "source": [
    "head(results)"
   ]
  },
  {
   "cell_type": "code",
   "execution_count": null,
   "id": "8739e1ef-335b-457d-a1a8-eb5acdfb7287",
   "metadata": {},
   "outputs": [],
   "source": [
    "mosaic <- read.csv(\"../Data//Fulldata//PBMCMosaic_Reference/meta.csv\")\n",
    "table(mosaic$class_)"
   ]
  },
  {
   "cell_type": "code",
   "execution_count": 16,
   "id": "6a2d2cae-dd5a-4491-8dd5-828d45eefff5",
   "metadata": {},
   "outputs": [
    {
     "name": "stderr",
     "output_type": "stream",
     "text": [
      "Warning message in citation(\"singleCellNet\"):\n",
      "“no date field in DESCRIPTION file of package ‘singleCellNet’”\n",
      "Warning message in citation(\"singleCellNet\"):\n",
      "“could not determine year for ‘singleCellNet’ from package DESCRIPTION file”\n"
     ]
    },
    {
     "data": {
      "text/plain": [
       "@Manual{,\n",
       "  title = {singleCellNet: cell identity from single cell RNA-Seq data},\n",
       "  author = {Patrick Cahan and Yuqi Tan},\n",
       "  note = {R package version 0.1.0},\n",
       "  url = {http://pcahan1.github.io/singleCellNet},\n",
       "}"
      ]
     },
     "metadata": {},
     "output_type": "display_data"
    }
   ],
   "source": [
    "toBibtex(citation(\"singleCellNet\"))"
   ]
  },
  {
   "cell_type": "code",
   "execution_count": null,
   "id": "d84ed3f9-c058-471f-b0b7-4f5c71d9d2f0",
   "metadata": {},
   "outputs": [],
   "source": []
  }
 ],
 "metadata": {
  "kernelspec": {
   "display_name": "R",
   "language": "R",
   "name": "ir"
  },
  "language_info": {
   "codemirror_mode": "r",
   "file_extension": ".r",
   "mimetype": "text/x-r-source",
   "name": "R",
   "pygments_lexer": "r",
   "version": "4.2.2"
  }
 },
 "nbformat": 4,
 "nbformat_minor": 5
}
