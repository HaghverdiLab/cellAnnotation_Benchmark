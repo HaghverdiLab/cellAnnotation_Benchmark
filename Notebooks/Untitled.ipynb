{
 "cells": [
  {
   "cell_type": "code",
   "execution_count": 11,
   "id": "0697a3eb",
   "metadata": {},
   "outputs": [
    {
     "name": "stderr",
     "output_type": "stream",
     "text": [
      "\n",
      "Attaching package: ‘docstring’\n",
      "\n",
      "\n",
      "The following object is masked from ‘package:utils’:\n",
      "\n",
      "    ?\n",
      "\n",
      "\n"
     ]
    }
   ],
   "source": [
    "source(\"../Scripts/functions.R\")\n",
    "getExperiment <- function(datafile, metafile=NULL){\n",
    "   data <- readData(datafile)\n",
    "   print(data[1:5,1:5])\n",
    "   experiment <- SingleCellExperiment::SingleCellExperiment(list(counts=data))\n",
    "   if(!is.null(metafile)){\n",
    "     meta <- read.csv(metafile)\n",
    "     print(table(colnames(data)%in% meta$id))    \n",
    "     rownames(meta) <- meta$id\n",
    "     meta <- meta[colnames(data),]\n",
    "     print(head(meta))                  \n",
    "     print(all(colnames(data)== meta$id))\n",
    "     SingleCellExperiment::colLabels(experiment) <- meta$class_\n",
    "     experiment <- experiment[,!is.na(experiment$label)]  \n",
    "     \n",
    "   }\n",
    "  experiment <- scater::logNormCounts(experiment)\n",
    "  return(experiment)\n",
    "}"
   ]
  },
  {
   "cell_type": "code",
   "execution_count": null,
   "id": "816f18d8",
   "metadata": {},
   "outputs": [],
   "source": [
    "data <- read.csv(datafile)\n",
    "meta <- read.csv(metafile)"
   ]
  },
  {
   "cell_type": "code",
   "execution_count": 12,
   "id": "f30e21cc",
   "metadata": {},
   "outputs": [
    {
     "name": "stderr",
     "output_type": "stream",
     "text": [
      "Warning message in data.table::fread(data, sep = \",\", verbose = F):\n",
      "“Detected 4023 column names but the data has 4024 columns (i.e. invalid file). Added 1 extra default column name for the first column which is guessed to be row names or an index. Use setnames() afterwards if this guess is not correct, or fix the file write command that created the file to create a valid file.”\n"
     ]
    },
    {
     "name": "stdout",
     "output_type": "stream",
     "text": [
      "         pbmc1_Celseq2_1_TGCATG pbmc1_Celseq2_2_ACAGTG pbmc1_Celseq2_2_CTCATG\n",
      "TSPAN6                        0                      0                      0\n",
      "TNMD                          0                      0                      0\n",
      "DPM1                          0                      0                      0\n",
      "SCYL3                         0                      0                      0\n",
      "C1orf112                      0                      0                      0\n",
      "         pbmc1_Celseq2_2_GTACTC pbmc1_Celseq2_2_TGTCAC\n",
      "TSPAN6                        0                      0\n",
      "TNMD                          0                      0\n",
      "DPM1                          0                      0\n",
      "SCYL3                         0                      0\n",
      "C1orf112                      0                      0\n",
      "\n",
      "TRUE \n",
      "4023 \n",
      "                                           id              class_     tech\n",
      "pbmc1_Celseq2_1_TGCATG pbmc1_Celseq2_1_TGCATG         CD4+ T cell CEL-Seq2\n",
      "pbmc1_Celseq2_2_ACAGTG pbmc1_Celseq2_2_ACAGTG         CD4+ T cell CEL-Seq2\n",
      "pbmc1_Celseq2_2_CTCATG pbmc1_Celseq2_2_CTCATG         CD4+ T cell CEL-Seq2\n",
      "pbmc1_Celseq2_2_GTACTC pbmc1_Celseq2_2_GTACTC         CD4+ T cell CEL-Seq2\n",
      "pbmc1_Celseq2_2_TGTCAC pbmc1_Celseq2_2_TGTCAC         CD4+ T cell CEL-Seq2\n",
      "pbmc1_Celseq2_4_ACGTAC pbmc1_Celseq2_4_ACGTAC Natural killer cell CEL-Seq2\n",
      "[1] TRUE\n"
     ]
    }
   ],
   "source": [
    "datafile <- \"../Data/subsets/Mosaic_500_1/data_train.txt\"\n",
    "metafile <- \"../Data/subsets/Mosaic_500_1/meta_train.txt\"\n",
    "train <- getExperiment(datafile, metafile)\n"
   ]
  },
  {
   "cell_type": "code",
   "execution_count": null,
   "id": "6bca5040",
   "metadata": {},
   "outputs": [],
   "source": [
    "test <- getExperiment(\"../Data/processed/PBMC_mono/data_test.txt\")"
   ]
  },
  {
   "cell_type": "code",
   "execution_count": null,
   "id": "bd9d0d03",
   "metadata": {},
   "outputs": [],
   "source": []
  },
  {
   "cell_type": "code",
   "execution_count": null,
   "id": "7d432911",
   "metadata": {},
   "outputs": [],
   "source": [
    "predictions<- as.data.frame(SingleR::SingleR(test=test, ref=train, labels=train$label, de.method=\"wilcox\", de.n = 50))\n",
    "#predictions<- as.data.frame(SingleR::SingleR(test=test, ref=train, labels=train$label, de.method=\"t\", de.args=list(lfc=1)))\n",
    "predictions$id <- rownames(predictions)\n",
    "table(predictions$labels)"
   ]
  },
  {
   "cell_type": "code",
   "execution_count": null,
   "id": "51ee4ae3",
   "metadata": {},
   "outputs": [],
   "source": [
    "meta_test <- read.csv(\"../Data/processed/PBMC_mono/meta_test.txt\")\n",
    "results <- merge(meta_test, predictions, by=\"id\")\n",
    "colnames(results)[colnames(results)== \"labels\"] <- \"prediction\"\n",
    "results$prediction.match <- results$prediction == results$class_\n",
    "(sum(results$prediction==results$class_, na.rm=T) / length(results$class_)\n",
    "table(results$prediction.match)\n",
    "#write.table(data, paste0(output,\".txt\") ,sep=\"\\t\", quote=F)"
   ]
  },
  {
   "cell_type": "code",
   "execution_count": 41,
   "id": "d1ee1ee8",
   "metadata": {},
   "outputs": [
    {
     "data": {
      "text/html": [
       "<table class=\"dataframe\">\n",
       "<caption>A data.frame: 6 × 17</caption>\n",
       "<thead>\n",
       "\t<tr><th></th><th scope=col>id</th><th scope=col>class_</th><th scope=col>scores.B.cell</th><th scope=col>scores.CD14..monocyte</th><th scope=col>scores.CD16..monocyte</th><th scope=col>scores.CD4..T.cell</th><th scope=col>scores.Cytotoxic.T.cell</th><th scope=col>scores.Dendritic.cell</th><th scope=col>scores.Megakaryocyte</th><th scope=col>scores.Natural.killer.cell</th><th scope=col>scores.Plasmacytoid.dendritic.cell</th><th scope=col>first.labels</th><th scope=col>tuning.scores.first</th><th scope=col>tuning.scores.second</th><th scope=col>prediction</th><th scope=col>pruned.labels</th><th scope=col>prediction.match</th></tr>\n",
       "\t<tr><th></th><th scope=col>&lt;chr&gt;</th><th scope=col>&lt;chr&gt;</th><th scope=col>&lt;dbl&gt;</th><th scope=col>&lt;dbl&gt;</th><th scope=col>&lt;dbl&gt;</th><th scope=col>&lt;dbl&gt;</th><th scope=col>&lt;dbl&gt;</th><th scope=col>&lt;dbl&gt;</th><th scope=col>&lt;dbl&gt;</th><th scope=col>&lt;dbl&gt;</th><th scope=col>&lt;dbl&gt;</th><th scope=col>&lt;chr&gt;</th><th scope=col>&lt;dbl&gt;</th><th scope=col>&lt;dbl&gt;</th><th scope=col>&lt;chr&gt;</th><th scope=col>&lt;chr&gt;</th><th scope=col>&lt;lgl&gt;</th></tr>\n",
       "</thead>\n",
       "<tbody>\n",
       "\t<tr><th scope=row>1</th><td>pbmc1_Drop_AAAAACTGGGAT</td><td>Cytotoxic T cell</td><td>0.5889751</td><td>0.5195890</td><td>0.5222644</td><td>0.7429412</td><td>0.4710132</td><td>0.6315312</td><td>0.6629978</td><td>0.6047314</td><td>0.7439090</td><td>Plasmacytoid dendritic cell</td><td>0.4013292</td><td>0.3815603</td><td>Plasmacytoid dendritic cell</td><td>Plasmacytoid dendritic cell</td><td>FALSE</td></tr>\n",
       "\t<tr><th scope=row>2</th><td>pbmc1_Drop_AAAACACATAAT</td><td>CD4+ T cell     </td><td>0.6257914</td><td>0.5248090</td><td>0.5112893</td><td>0.8242623</td><td>0.4826509</td><td>0.5939835</td><td>0.7513957</td><td>0.6578693</td><td>0.7460584</td><td>CD4+ T cell                </td><td>0.8242623</td><td>0.7513957</td><td>CD4+ T cell                </td><td>CD4+ T cell                </td><td> TRUE</td></tr>\n",
       "\t<tr><th scope=row>3</th><td>pbmc1_Drop_AAAACCGATGAT</td><td>CD14+ monocyte  </td><td>0.1916631</td><td>0.2471714</td><td>0.2314221</td><td>0.2000123</td><td>0.2295370</td><td>0.2033677</td><td>0.1639126</td><td>0.2465254</td><td>0.1986467</td><td>CD14+ monocyte             </td><td>0.2006359</td><td>0.2002392</td><td>CD16+ monocyte             </td><td>CD16+ monocyte             </td><td>FALSE</td></tr>\n",
       "\t<tr><th scope=row>4</th><td>pbmc1_Drop_AAAAGATGTGGT</td><td>CD4+ T cell     </td><td>0.6040185</td><td>0.5495257</td><td>0.5594427</td><td>0.7823192</td><td>0.5052763</td><td>0.6382081</td><td>0.6862599</td><td>0.6375223</td><td>0.7514031</td><td>CD4+ T cell                </td><td>0.4437179</td><td>0.1054180</td><td>CD4+ T cell                </td><td>CD4+ T cell                </td><td> TRUE</td></tr>\n",
       "\t<tr><th scope=row>5</th><td>pbmc1_Drop_AAAAGGATTTCC</td><td>Cytotoxic T cell</td><td>0.5326199</td><td>0.5189248</td><td>0.5422052</td><td>0.6849021</td><td>0.4997567</td><td>0.6621688</td><td>0.6449290</td><td>0.5614334</td><td>0.7188406</td><td>Plasmacytoid dendritic cell</td><td>0.4244979</td><td>0.2051957</td><td>Plasmacytoid dendritic cell</td><td>Plasmacytoid dendritic cell</td><td>FALSE</td></tr>\n",
       "\t<tr><th scope=row>6</th><td>pbmc1_Drop_AAAAGTGTTTAA</td><td>Cytotoxic T cell</td><td>0.5044643</td><td>0.4802225</td><td>0.4963272</td><td>0.6772935</td><td>0.4434499</td><td>0.6356188</td><td>0.5708002</td><td>0.5176660</td><td>0.7154570</td><td>Plasmacytoid dendritic cell</td><td>0.3102544</td><td>0.0000000</td><td>Plasmacytoid dendritic cell</td><td>Plasmacytoid dendritic cell</td><td>FALSE</td></tr>\n",
       "</tbody>\n",
       "</table>\n"
      ],
      "text/latex": [
       "A data.frame: 6 × 17\n",
       "\\begin{tabular}{r|lllllllllllllllll}\n",
       "  & id & class\\_ & scores.B.cell & scores.CD14..monocyte & scores.CD16..monocyte & scores.CD4..T.cell & scores.Cytotoxic.T.cell & scores.Dendritic.cell & scores.Megakaryocyte & scores.Natural.killer.cell & scores.Plasmacytoid.dendritic.cell & first.labels & tuning.scores.first & tuning.scores.second & prediction & pruned.labels & prediction.match\\\\\n",
       "  & <chr> & <chr> & <dbl> & <dbl> & <dbl> & <dbl> & <dbl> & <dbl> & <dbl> & <dbl> & <dbl> & <chr> & <dbl> & <dbl> & <chr> & <chr> & <lgl>\\\\\n",
       "\\hline\n",
       "\t1 & pbmc1\\_Drop\\_AAAAACTGGGAT & Cytotoxic T cell & 0.5889751 & 0.5195890 & 0.5222644 & 0.7429412 & 0.4710132 & 0.6315312 & 0.6629978 & 0.6047314 & 0.7439090 & Plasmacytoid dendritic cell & 0.4013292 & 0.3815603 & Plasmacytoid dendritic cell & Plasmacytoid dendritic cell & FALSE\\\\\n",
       "\t2 & pbmc1\\_Drop\\_AAAACACATAAT & CD4+ T cell      & 0.6257914 & 0.5248090 & 0.5112893 & 0.8242623 & 0.4826509 & 0.5939835 & 0.7513957 & 0.6578693 & 0.7460584 & CD4+ T cell                 & 0.8242623 & 0.7513957 & CD4+ T cell                 & CD4+ T cell                 &  TRUE\\\\\n",
       "\t3 & pbmc1\\_Drop\\_AAAACCGATGAT & CD14+ monocyte   & 0.1916631 & 0.2471714 & 0.2314221 & 0.2000123 & 0.2295370 & 0.2033677 & 0.1639126 & 0.2465254 & 0.1986467 & CD14+ monocyte              & 0.2006359 & 0.2002392 & CD16+ monocyte              & CD16+ monocyte              & FALSE\\\\\n",
       "\t4 & pbmc1\\_Drop\\_AAAAGATGTGGT & CD4+ T cell      & 0.6040185 & 0.5495257 & 0.5594427 & 0.7823192 & 0.5052763 & 0.6382081 & 0.6862599 & 0.6375223 & 0.7514031 & CD4+ T cell                 & 0.4437179 & 0.1054180 & CD4+ T cell                 & CD4+ T cell                 &  TRUE\\\\\n",
       "\t5 & pbmc1\\_Drop\\_AAAAGGATTTCC & Cytotoxic T cell & 0.5326199 & 0.5189248 & 0.5422052 & 0.6849021 & 0.4997567 & 0.6621688 & 0.6449290 & 0.5614334 & 0.7188406 & Plasmacytoid dendritic cell & 0.4244979 & 0.2051957 & Plasmacytoid dendritic cell & Plasmacytoid dendritic cell & FALSE\\\\\n",
       "\t6 & pbmc1\\_Drop\\_AAAAGTGTTTAA & Cytotoxic T cell & 0.5044643 & 0.4802225 & 0.4963272 & 0.6772935 & 0.4434499 & 0.6356188 & 0.5708002 & 0.5176660 & 0.7154570 & Plasmacytoid dendritic cell & 0.3102544 & 0.0000000 & Plasmacytoid dendritic cell & Plasmacytoid dendritic cell & FALSE\\\\\n",
       "\\end{tabular}\n"
      ],
      "text/markdown": [
       "\n",
       "A data.frame: 6 × 17\n",
       "\n",
       "| <!--/--> | id &lt;chr&gt; | class_ &lt;chr&gt; | scores.B.cell &lt;dbl&gt; | scores.CD14..monocyte &lt;dbl&gt; | scores.CD16..monocyte &lt;dbl&gt; | scores.CD4..T.cell &lt;dbl&gt; | scores.Cytotoxic.T.cell &lt;dbl&gt; | scores.Dendritic.cell &lt;dbl&gt; | scores.Megakaryocyte &lt;dbl&gt; | scores.Natural.killer.cell &lt;dbl&gt; | scores.Plasmacytoid.dendritic.cell &lt;dbl&gt; | first.labels &lt;chr&gt; | tuning.scores.first &lt;dbl&gt; | tuning.scores.second &lt;dbl&gt; | prediction &lt;chr&gt; | pruned.labels &lt;chr&gt; | prediction.match &lt;lgl&gt; |\n",
       "|---|---|---|---|---|---|---|---|---|---|---|---|---|---|---|---|---|---|\n",
       "| 1 | pbmc1_Drop_AAAAACTGGGAT | Cytotoxic T cell | 0.5889751 | 0.5195890 | 0.5222644 | 0.7429412 | 0.4710132 | 0.6315312 | 0.6629978 | 0.6047314 | 0.7439090 | Plasmacytoid dendritic cell | 0.4013292 | 0.3815603 | Plasmacytoid dendritic cell | Plasmacytoid dendritic cell | FALSE |\n",
       "| 2 | pbmc1_Drop_AAAACACATAAT | CD4+ T cell      | 0.6257914 | 0.5248090 | 0.5112893 | 0.8242623 | 0.4826509 | 0.5939835 | 0.7513957 | 0.6578693 | 0.7460584 | CD4+ T cell                 | 0.8242623 | 0.7513957 | CD4+ T cell                 | CD4+ T cell                 |  TRUE |\n",
       "| 3 | pbmc1_Drop_AAAACCGATGAT | CD14+ monocyte   | 0.1916631 | 0.2471714 | 0.2314221 | 0.2000123 | 0.2295370 | 0.2033677 | 0.1639126 | 0.2465254 | 0.1986467 | CD14+ monocyte              | 0.2006359 | 0.2002392 | CD16+ monocyte              | CD16+ monocyte              | FALSE |\n",
       "| 4 | pbmc1_Drop_AAAAGATGTGGT | CD4+ T cell      | 0.6040185 | 0.5495257 | 0.5594427 | 0.7823192 | 0.5052763 | 0.6382081 | 0.6862599 | 0.6375223 | 0.7514031 | CD4+ T cell                 | 0.4437179 | 0.1054180 | CD4+ T cell                 | CD4+ T cell                 |  TRUE |\n",
       "| 5 | pbmc1_Drop_AAAAGGATTTCC | Cytotoxic T cell | 0.5326199 | 0.5189248 | 0.5422052 | 0.6849021 | 0.4997567 | 0.6621688 | 0.6449290 | 0.5614334 | 0.7188406 | Plasmacytoid dendritic cell | 0.4244979 | 0.2051957 | Plasmacytoid dendritic cell | Plasmacytoid dendritic cell | FALSE |\n",
       "| 6 | pbmc1_Drop_AAAAGTGTTTAA | Cytotoxic T cell | 0.5044643 | 0.4802225 | 0.4963272 | 0.6772935 | 0.4434499 | 0.6356188 | 0.5708002 | 0.5176660 | 0.7154570 | Plasmacytoid dendritic cell | 0.3102544 | 0.0000000 | Plasmacytoid dendritic cell | Plasmacytoid dendritic cell | FALSE |\n",
       "\n"
      ],
      "text/plain": [
       "  id                      class_           scores.B.cell scores.CD14..monocyte\n",
       "1 pbmc1_Drop_AAAAACTGGGAT Cytotoxic T cell 0.5889751     0.5195890            \n",
       "2 pbmc1_Drop_AAAACACATAAT CD4+ T cell      0.6257914     0.5248090            \n",
       "3 pbmc1_Drop_AAAACCGATGAT CD14+ monocyte   0.1916631     0.2471714            \n",
       "4 pbmc1_Drop_AAAAGATGTGGT CD4+ T cell      0.6040185     0.5495257            \n",
       "5 pbmc1_Drop_AAAAGGATTTCC Cytotoxic T cell 0.5326199     0.5189248            \n",
       "6 pbmc1_Drop_AAAAGTGTTTAA Cytotoxic T cell 0.5044643     0.4802225            \n",
       "  scores.CD16..monocyte scores.CD4..T.cell scores.Cytotoxic.T.cell\n",
       "1 0.5222644             0.7429412          0.4710132              \n",
       "2 0.5112893             0.8242623          0.4826509              \n",
       "3 0.2314221             0.2000123          0.2295370              \n",
       "4 0.5594427             0.7823192          0.5052763              \n",
       "5 0.5422052             0.6849021          0.4997567              \n",
       "6 0.4963272             0.6772935          0.4434499              \n",
       "  scores.Dendritic.cell scores.Megakaryocyte scores.Natural.killer.cell\n",
       "1 0.6315312             0.6629978            0.6047314                 \n",
       "2 0.5939835             0.7513957            0.6578693                 \n",
       "3 0.2033677             0.1639126            0.2465254                 \n",
       "4 0.6382081             0.6862599            0.6375223                 \n",
       "5 0.6621688             0.6449290            0.5614334                 \n",
       "6 0.6356188             0.5708002            0.5176660                 \n",
       "  scores.Plasmacytoid.dendritic.cell first.labels               \n",
       "1 0.7439090                          Plasmacytoid dendritic cell\n",
       "2 0.7460584                          CD4+ T cell                \n",
       "3 0.1986467                          CD14+ monocyte             \n",
       "4 0.7514031                          CD4+ T cell                \n",
       "5 0.7188406                          Plasmacytoid dendritic cell\n",
       "6 0.7154570                          Plasmacytoid dendritic cell\n",
       "  tuning.scores.first tuning.scores.second prediction                 \n",
       "1 0.4013292           0.3815603            Plasmacytoid dendritic cell\n",
       "2 0.8242623           0.7513957            CD4+ T cell                \n",
       "3 0.2006359           0.2002392            CD16+ monocyte             \n",
       "4 0.4437179           0.1054180            CD4+ T cell                \n",
       "5 0.4244979           0.2051957            Plasmacytoid dendritic cell\n",
       "6 0.3102544           0.0000000            Plasmacytoid dendritic cell\n",
       "  pruned.labels               prediction.match\n",
       "1 Plasmacytoid dendritic cell FALSE           \n",
       "2 CD4+ T cell                  TRUE           \n",
       "3 CD16+ monocyte              FALSE           \n",
       "4 CD4+ T cell                  TRUE           \n",
       "5 Plasmacytoid dendritic cell FALSE           \n",
       "6 Plasmacytoid dendritic cell FALSE           "
      ]
     },
     "metadata": {},
     "output_type": "display_data"
    }
   ],
   "source": [
    "head(results)"
   ]
  },
  {
   "cell_type": "code",
   "execution_count": 44,
   "id": "e7536c25",
   "metadata": {},
   "outputs": [
    {
     "data": {
      "text/html": [],
      "text/latex": [],
      "text/markdown": [],
      "text/plain": [
       "character(0)"
      ]
     },
     "metadata": {},
     "output_type": "display_data"
    }
   ],
   "source": [
    "colnames(results)[colnames(results)== \"label\"]"
   ]
  },
  {
   "cell_type": "code",
   "execution_count": 13,
   "id": "71333031",
   "metadata": {},
   "outputs": [
    {
     "name": "stdout",
     "output_type": "stream",
     "text": [
      "[1] \"6584 1139\"\n",
      "[1] \"6584 1139\"\n"
     ]
    },
    {
     "data": {
      "text/html": [
       "<table class=\"dataframe\">\n",
       "<caption>A data.frame: 5 × 5</caption>\n",
       "<thead>\n",
       "\t<tr><th></th><th scope=col>id</th><th scope=col>Mono_Seurat_1000_18</th><th scope=col>Mono_Seurat_100_19</th><th scope=col>Mono_Seurat_100_20</th><th scope=col>Mono_Seurat_100_2</th></tr>\n",
       "\t<tr><th></th><th scope=col>&lt;chr&gt;</th><th scope=col>&lt;lgl&gt;</th><th scope=col>&lt;lgl&gt;</th><th scope=col>&lt;lgl&gt;</th><th scope=col>&lt;lgl&gt;</th></tr>\n",
       "</thead>\n",
       "<tbody>\n",
       "\t<tr><th scope=row>1</th><td>pbmc1_Drop_AAAAACTGGGAT</td><td> TRUE</td><td>FALSE</td><td>FALSE</td><td>FALSE</td></tr>\n",
       "\t<tr><th scope=row>2</th><td>pbmc1_Drop_AAAACACATAAT</td><td> TRUE</td><td> TRUE</td><td> TRUE</td><td> TRUE</td></tr>\n",
       "\t<tr><th scope=row>3</th><td>pbmc1_Drop_AAAACCGATGAT</td><td>FALSE</td><td>FALSE</td><td>FALSE</td><td>FALSE</td></tr>\n",
       "\t<tr><th scope=row>4</th><td>pbmc1_Drop_AAAAGATGTGGT</td><td> TRUE</td><td> TRUE</td><td> TRUE</td><td>FALSE</td></tr>\n",
       "\t<tr><th scope=row>5</th><td>pbmc1_Drop_AAAAGGATTTCC</td><td> TRUE</td><td>FALSE</td><td>FALSE</td><td>FALSE</td></tr>\n",
       "</tbody>\n",
       "</table>\n"
      ],
      "text/latex": [
       "A data.frame: 5 × 5\n",
       "\\begin{tabular}{r|lllll}\n",
       "  & id & Mono\\_Seurat\\_1000\\_18 & Mono\\_Seurat\\_100\\_19 & Mono\\_Seurat\\_100\\_20 & Mono\\_Seurat\\_100\\_2\\\\\n",
       "  & <chr> & <lgl> & <lgl> & <lgl> & <lgl>\\\\\n",
       "\\hline\n",
       "\t1 & pbmc1\\_Drop\\_AAAAACTGGGAT &  TRUE & FALSE & FALSE & FALSE\\\\\n",
       "\t2 & pbmc1\\_Drop\\_AAAACACATAAT &  TRUE &  TRUE &  TRUE &  TRUE\\\\\n",
       "\t3 & pbmc1\\_Drop\\_AAAACCGATGAT & FALSE & FALSE & FALSE & FALSE\\\\\n",
       "\t4 & pbmc1\\_Drop\\_AAAAGATGTGGT &  TRUE &  TRUE &  TRUE & FALSE\\\\\n",
       "\t5 & pbmc1\\_Drop\\_AAAAGGATTTCC &  TRUE & FALSE & FALSE & FALSE\\\\\n",
       "\\end{tabular}\n"
      ],
      "text/markdown": [
       "\n",
       "A data.frame: 5 × 5\n",
       "\n",
       "| <!--/--> | id &lt;chr&gt; | Mono_Seurat_1000_18 &lt;lgl&gt; | Mono_Seurat_100_19 &lt;lgl&gt; | Mono_Seurat_100_20 &lt;lgl&gt; | Mono_Seurat_100_2 &lt;lgl&gt; |\n",
       "|---|---|---|---|---|---|\n",
       "| 1 | pbmc1_Drop_AAAAACTGGGAT |  TRUE | FALSE | FALSE | FALSE |\n",
       "| 2 | pbmc1_Drop_AAAACACATAAT |  TRUE |  TRUE |  TRUE |  TRUE |\n",
       "| 3 | pbmc1_Drop_AAAACCGATGAT | FALSE | FALSE | FALSE | FALSE |\n",
       "| 4 | pbmc1_Drop_AAAAGATGTGGT |  TRUE |  TRUE |  TRUE | FALSE |\n",
       "| 5 | pbmc1_Drop_AAAAGGATTTCC |  TRUE | FALSE | FALSE | FALSE |\n",
       "\n"
      ],
      "text/plain": [
       "  id                      Mono_Seurat_1000_18 Mono_Seurat_100_19\n",
       "1 pbmc1_Drop_AAAAACTGGGAT  TRUE               FALSE             \n",
       "2 pbmc1_Drop_AAAACACATAAT  TRUE                TRUE             \n",
       "3 pbmc1_Drop_AAAACCGATGAT FALSE               FALSE             \n",
       "4 pbmc1_Drop_AAAAGATGTGGT  TRUE                TRUE             \n",
       "5 pbmc1_Drop_AAAAGGATTTCC  TRUE               FALSE             \n",
       "  Mono_Seurat_100_20 Mono_Seurat_100_2\n",
       "1 FALSE              FALSE            \n",
       "2  TRUE               TRUE            \n",
       "3 FALSE              FALSE            \n",
       "4  TRUE              FALSE            \n",
       "5 FALSE              FALSE            "
      ]
     },
     "metadata": {},
     "output_type": "display_data"
    }
   ],
   "source": [
    "file <- c(\"../Results/umap_PBMC.csv\")\n",
    "umap <- read.csv(file)\n",
    "print(paste(nrow(umap), ncol(umap)))\n",
    "umap <- umap[, stringr::str_detect(colnames(umap), \"singleR\", negate = T)] \n",
    "print(paste(nrow(umap), ncol(umap)))\n",
    "umap$X <- NULL\n",
    "umap$`X.1` <- NULL\n",
    "umap[1:5,1:5]\n",
    "write.csv(umap, file, row.names=F)"
   ]
  },
  {
   "cell_type": "code",
   "execution_count": 14,
   "id": "51e169cf",
   "metadata": {},
   "outputs": [
    {
     "name": "stdout",
     "output_type": "stream",
     "text": [
      "[1] \"15693 601\"\n",
      "[1] \"15693 601\"\n"
     ]
    },
    {
     "data": {
      "text/html": [
       "<table class=\"dataframe\">\n",
       "<caption>A data.frame: 5 × 5</caption>\n",
       "<thead>\n",
       "\t<tr><th></th><th scope=col>id</th><th scope=col>CrossSpecies_Seurat_1000_10</th><th scope=col>CrossSpecies_Seurat_1000_11</th><th scope=col>CrossSpecies_Seurat_1000_12</th><th scope=col>CrossSpecies_Seurat_1000_13</th></tr>\n",
       "\t<tr><th></th><th scope=col>&lt;chr&gt;</th><th scope=col>&lt;lgl&gt;</th><th scope=col>&lt;lgl&gt;</th><th scope=col>&lt;lgl&gt;</th><th scope=col>&lt;lgl&gt;</th></tr>\n",
       "</thead>\n",
       "<tbody>\n",
       "\t<tr><th scope=row>1</th><td>AAACCTGAGAAGGTTT.1_H3_normal  </td><td>TRUE</td><td>TRUE</td><td> TRUE</td><td>TRUE</td></tr>\n",
       "\t<tr><th scope=row>2</th><td>AAACCTGAGCAGCGTA.1_H4_normal  </td><td>TRUE</td><td>TRUE</td><td> TRUE</td><td>TRUE</td></tr>\n",
       "\t<tr><th scope=row>3</th><td>AAACCTGAGCCACGCT.1_H4_normal  </td><td>TRUE</td><td>TRUE</td><td> TRUE</td><td>TRUE</td></tr>\n",
       "\t<tr><th scope=row>4</th><td>AAACCTGAGGCGCTCT.1_H15T_normal</td><td>TRUE</td><td>TRUE</td><td> TRUE</td><td>TRUE</td></tr>\n",
       "\t<tr><th scope=row>5</th><td>AAACCTGAGGTTCCTA.1_H15T_normal</td><td>TRUE</td><td>TRUE</td><td>FALSE</td><td>TRUE</td></tr>\n",
       "</tbody>\n",
       "</table>\n"
      ],
      "text/latex": [
       "A data.frame: 5 × 5\n",
       "\\begin{tabular}{r|lllll}\n",
       "  & id & CrossSpecies\\_Seurat\\_1000\\_10 & CrossSpecies\\_Seurat\\_1000\\_11 & CrossSpecies\\_Seurat\\_1000\\_12 & CrossSpecies\\_Seurat\\_1000\\_13\\\\\n",
       "  & <chr> & <lgl> & <lgl> & <lgl> & <lgl>\\\\\n",
       "\\hline\n",
       "\t1 & AAACCTGAGAAGGTTT.1\\_H3\\_normal   & TRUE & TRUE &  TRUE & TRUE\\\\\n",
       "\t2 & AAACCTGAGCAGCGTA.1\\_H4\\_normal   & TRUE & TRUE &  TRUE & TRUE\\\\\n",
       "\t3 & AAACCTGAGCCACGCT.1\\_H4\\_normal   & TRUE & TRUE &  TRUE & TRUE\\\\\n",
       "\t4 & AAACCTGAGGCGCTCT.1\\_H15T\\_normal & TRUE & TRUE &  TRUE & TRUE\\\\\n",
       "\t5 & AAACCTGAGGTTCCTA.1\\_H15T\\_normal & TRUE & TRUE & FALSE & TRUE\\\\\n",
       "\\end{tabular}\n"
      ],
      "text/markdown": [
       "\n",
       "A data.frame: 5 × 5\n",
       "\n",
       "| <!--/--> | id &lt;chr&gt; | CrossSpecies_Seurat_1000_10 &lt;lgl&gt; | CrossSpecies_Seurat_1000_11 &lt;lgl&gt; | CrossSpecies_Seurat_1000_12 &lt;lgl&gt; | CrossSpecies_Seurat_1000_13 &lt;lgl&gt; |\n",
       "|---|---|---|---|---|---|\n",
       "| 1 | AAACCTGAGAAGGTTT.1_H3_normal   | TRUE | TRUE |  TRUE | TRUE |\n",
       "| 2 | AAACCTGAGCAGCGTA.1_H4_normal   | TRUE | TRUE |  TRUE | TRUE |\n",
       "| 3 | AAACCTGAGCCACGCT.1_H4_normal   | TRUE | TRUE |  TRUE | TRUE |\n",
       "| 4 | AAACCTGAGGCGCTCT.1_H15T_normal | TRUE | TRUE |  TRUE | TRUE |\n",
       "| 5 | AAACCTGAGGTTCCTA.1_H15T_normal | TRUE | TRUE | FALSE | TRUE |\n",
       "\n"
      ],
      "text/plain": [
       "  id                             CrossSpecies_Seurat_1000_10\n",
       "1 AAACCTGAGAAGGTTT.1_H3_normal   TRUE                       \n",
       "2 AAACCTGAGCAGCGTA.1_H4_normal   TRUE                       \n",
       "3 AAACCTGAGCCACGCT.1_H4_normal   TRUE                       \n",
       "4 AAACCTGAGGCGCTCT.1_H15T_normal TRUE                       \n",
       "5 AAACCTGAGGTTCCTA.1_H15T_normal TRUE                       \n",
       "  CrossSpecies_Seurat_1000_11 CrossSpecies_Seurat_1000_12\n",
       "1 TRUE                         TRUE                      \n",
       "2 TRUE                         TRUE                      \n",
       "3 TRUE                         TRUE                      \n",
       "4 TRUE                         TRUE                      \n",
       "5 TRUE                        FALSE                      \n",
       "  CrossSpecies_Seurat_1000_13\n",
       "1 TRUE                       \n",
       "2 TRUE                       \n",
       "3 TRUE                       \n",
       "4 TRUE                       \n",
       "5 TRUE                       "
      ]
     },
     "metadata": {},
     "output_type": "display_data"
    }
   ],
   "source": [
    "file <- c(\"../Results/umap_CrossSpecies.csv\")\n",
    "umap <- read.csv(file)\n",
    "print(paste(nrow(umap), ncol(umap)))\n",
    "umap <- umap[, stringr::str_detect(colnames(umap), \"singleR\", negate = T)] \n",
    "print(paste(nrow(umap), ncol(umap)))\n",
    "umap$X <- NULL\n",
    "umap$`X.1` <- NULL\n",
    "umap[1:5,1:5]\n",
    "write.csv(umap, file,row.names=F)"
   ]
  },
  {
   "cell_type": "code",
   "execution_count": 15,
   "id": "0cd7f4ba",
   "metadata": {},
   "outputs": [
    {
     "data": {
      "text/html": [
       "<table class=\"dataframe\">\n",
       "<caption>A data.frame: 6 × 14</caption>\n",
       "<thead>\n",
       "\t<tr><th></th><th scope=col>V1</th><th scope=col>V2</th><th scope=col>V3</th><th scope=col>V4</th><th scope=col>V5</th><th scope=col>V6</th><th scope=col>V7</th><th scope=col>V8</th><th scope=col>V9</th><th scope=col>V10</th><th scope=col>V11</th><th scope=col>V12</th><th scope=col>V13</th><th scope=col>V14</th></tr>\n",
       "\t<tr><th></th><th scope=col>&lt;chr&gt;</th><th scope=col>&lt;chr&gt;</th><th scope=col>&lt;int&gt;</th><th scope=col>&lt;int&gt;</th><th scope=col>&lt;dbl&gt;</th><th scope=col>&lt;dbl&gt;</th><th scope=col>&lt;dbl&gt;</th><th scope=col>&lt;dbl&gt;</th><th scope=col>&lt;dbl&gt;</th><th scope=col>&lt;dbl&gt;</th><th scope=col>&lt;dbl&gt;</th><th scope=col>&lt;dbl&gt;</th><th scope=col>&lt;dbl&gt;</th><th scope=col>&lt;dbl&gt;</th></tr>\n",
       "</thead>\n",
       "<tbody>\n",
       "\t<tr><th scope=row>1</th><td>Seurat</td><td>Mono</td><td>1000</td><td>10</td><td>0.9807829</td><td>0.3725490</td><td>0.9141414</td><td>0.9078117</td><td>0.8518706</td><td>0.6521739</td><td>1</td><td>0.5392562</td><td>0.7500000</td><td>0.8485723</td></tr>\n",
       "\t<tr><th scope=row>2</th><td>Seurat</td><td>Mono</td><td>1000</td><td>11</td><td>0.9829181</td><td>0.3669468</td><td>0.8232323</td><td>0.9053857</td><td>0.8700708</td><td>0.6521739</td><td>1</td><td>0.5557851</td><td>0.7142857</td><td>0.8517618</td></tr>\n",
       "\t<tr><th scope=row>3</th><td>Seurat</td><td>Mono</td><td>1000</td><td>12</td><td>0.9857651</td><td>0.4005602</td><td>0.8636364</td><td>0.8859777</td><td>0.8675430</td><td>0.6086957</td><td>1</td><td>0.5185950</td><td>0.7500000</td><td>0.8456865</td></tr>\n",
       "\t<tr><th scope=row>4</th><td>Seurat</td><td>Mono</td><td>1000</td><td>13</td><td>0.9843416</td><td>0.3305322</td><td>0.8989899</td><td>0.9019893</td><td>0.8751264</td><td>0.6304348</td><td>1</td><td>0.5516529</td><td>0.7142857</td><td>0.8523694</td></tr>\n",
       "\t<tr><th scope=row>5</th><td>Seurat</td><td>Mono</td><td>1000</td><td>14</td><td>0.9850534</td><td>0.3333333</td><td>0.9040404</td><td>0.8947113</td><td>0.8725986</td><td>0.6739130</td><td>1</td><td>0.5495868</td><td>0.7142857</td><td>0.8499392</td></tr>\n",
       "\t<tr><th scope=row>6</th><td>Seurat</td><td>Mono</td><td>1000</td><td>15</td><td>0.9822064</td><td>0.3809524</td><td>0.8383838</td><td>0.9107230</td><td>0.8806876</td><td>0.5652174</td><td>1</td><td>0.5847107</td><td>0.7857143</td><td>0.8595079</td></tr>\n",
       "</tbody>\n",
       "</table>\n"
      ],
      "text/latex": [
       "A data.frame: 6 × 14\n",
       "\\begin{tabular}{r|llllllllllllll}\n",
       "  & V1 & V2 & V3 & V4 & V5 & V6 & V7 & V8 & V9 & V10 & V11 & V12 & V13 & V14\\\\\n",
       "  & <chr> & <chr> & <int> & <int> & <dbl> & <dbl> & <dbl> & <dbl> & <dbl> & <dbl> & <dbl> & <dbl> & <dbl> & <dbl>\\\\\n",
       "\\hline\n",
       "\t1 & Seurat & Mono & 1000 & 10 & 0.9807829 & 0.3725490 & 0.9141414 & 0.9078117 & 0.8518706 & 0.6521739 & 1 & 0.5392562 & 0.7500000 & 0.8485723\\\\\n",
       "\t2 & Seurat & Mono & 1000 & 11 & 0.9829181 & 0.3669468 & 0.8232323 & 0.9053857 & 0.8700708 & 0.6521739 & 1 & 0.5557851 & 0.7142857 & 0.8517618\\\\\n",
       "\t3 & Seurat & Mono & 1000 & 12 & 0.9857651 & 0.4005602 & 0.8636364 & 0.8859777 & 0.8675430 & 0.6086957 & 1 & 0.5185950 & 0.7500000 & 0.8456865\\\\\n",
       "\t4 & Seurat & Mono & 1000 & 13 & 0.9843416 & 0.3305322 & 0.8989899 & 0.9019893 & 0.8751264 & 0.6304348 & 1 & 0.5516529 & 0.7142857 & 0.8523694\\\\\n",
       "\t5 & Seurat & Mono & 1000 & 14 & 0.9850534 & 0.3333333 & 0.9040404 & 0.8947113 & 0.8725986 & 0.6739130 & 1 & 0.5495868 & 0.7142857 & 0.8499392\\\\\n",
       "\t6 & Seurat & Mono & 1000 & 15 & 0.9822064 & 0.3809524 & 0.8383838 & 0.9107230 & 0.8806876 & 0.5652174 & 1 & 0.5847107 & 0.7857143 & 0.8595079\\\\\n",
       "\\end{tabular}\n"
      ],
      "text/markdown": [
       "\n",
       "A data.frame: 6 × 14\n",
       "\n",
       "| <!--/--> | V1 &lt;chr&gt; | V2 &lt;chr&gt; | V3 &lt;int&gt; | V4 &lt;int&gt; | V5 &lt;dbl&gt; | V6 &lt;dbl&gt; | V7 &lt;dbl&gt; | V8 &lt;dbl&gt; | V9 &lt;dbl&gt; | V10 &lt;dbl&gt; | V11 &lt;dbl&gt; | V12 &lt;dbl&gt; | V13 &lt;dbl&gt; | V14 &lt;dbl&gt; |\n",
       "|---|---|---|---|---|---|---|---|---|---|---|---|---|---|---|\n",
       "| 1 | Seurat | Mono | 1000 | 10 | 0.9807829 | 0.3725490 | 0.9141414 | 0.9078117 | 0.8518706 | 0.6521739 | 1 | 0.5392562 | 0.7500000 | 0.8485723 |\n",
       "| 2 | Seurat | Mono | 1000 | 11 | 0.9829181 | 0.3669468 | 0.8232323 | 0.9053857 | 0.8700708 | 0.6521739 | 1 | 0.5557851 | 0.7142857 | 0.8517618 |\n",
       "| 3 | Seurat | Mono | 1000 | 12 | 0.9857651 | 0.4005602 | 0.8636364 | 0.8859777 | 0.8675430 | 0.6086957 | 1 | 0.5185950 | 0.7500000 | 0.8456865 |\n",
       "| 4 | Seurat | Mono | 1000 | 13 | 0.9843416 | 0.3305322 | 0.8989899 | 0.9019893 | 0.8751264 | 0.6304348 | 1 | 0.5516529 | 0.7142857 | 0.8523694 |\n",
       "| 5 | Seurat | Mono | 1000 | 14 | 0.9850534 | 0.3333333 | 0.9040404 | 0.8947113 | 0.8725986 | 0.6739130 | 1 | 0.5495868 | 0.7142857 | 0.8499392 |\n",
       "| 6 | Seurat | Mono | 1000 | 15 | 0.9822064 | 0.3809524 | 0.8383838 | 0.9107230 | 0.8806876 | 0.5652174 | 1 | 0.5847107 | 0.7857143 | 0.8595079 |\n",
       "\n"
      ],
      "text/plain": [
       "  V1     V2   V3   V4 V5        V6        V7        V8        V9       \n",
       "1 Seurat Mono 1000 10 0.9807829 0.3725490 0.9141414 0.9078117 0.8518706\n",
       "2 Seurat Mono 1000 11 0.9829181 0.3669468 0.8232323 0.9053857 0.8700708\n",
       "3 Seurat Mono 1000 12 0.9857651 0.4005602 0.8636364 0.8859777 0.8675430\n",
       "4 Seurat Mono 1000 13 0.9843416 0.3305322 0.8989899 0.9019893 0.8751264\n",
       "5 Seurat Mono 1000 14 0.9850534 0.3333333 0.9040404 0.8947113 0.8725986\n",
       "6 Seurat Mono 1000 15 0.9822064 0.3809524 0.8383838 0.9107230 0.8806876\n",
       "  V10       V11 V12       V13       V14      \n",
       "1 0.6521739 1   0.5392562 0.7500000 0.8485723\n",
       "2 0.6521739 1   0.5557851 0.7142857 0.8517618\n",
       "3 0.6086957 1   0.5185950 0.7500000 0.8456865\n",
       "4 0.6304348 1   0.5516529 0.7142857 0.8523694\n",
       "5 0.6739130 1   0.5495868 0.7142857 0.8499392\n",
       "6 0.5652174 1   0.5847107 0.7857143 0.8595079"
      ]
     },
     "metadata": {},
     "output_type": "display_data"
    }
   ],
   "source": [
    "file <- \"../Results/celltypeAccuracies_PBMC.csv\"\n",
    "data <- read.csv(file, header=F)\n",
    "data <- data[data$V1 != \"singleR\",]\n",
    "head(data)\n",
    "write.table(data, file,row.names=F, quote=F, col.names=F, sep=\",\")"
   ]
  },
  {
   "cell_type": "code",
   "execution_count": 16,
   "id": "e9649635",
   "metadata": {},
   "outputs": [
    {
     "data": {
      "text/html": [
       "<table class=\"dataframe\">\n",
       "<caption>A data.frame: 6 × 14</caption>\n",
       "<thead>\n",
       "\t<tr><th></th><th scope=col>V1</th><th scope=col>V2</th><th scope=col>V3</th><th scope=col>V4</th><th scope=col>V5</th><th scope=col>V6</th><th scope=col>V7</th><th scope=col>V8</th><th scope=col>V9</th><th scope=col>V10</th><th scope=col>V11</th><th scope=col>V12</th><th scope=col>V13</th><th scope=col>V14</th></tr>\n",
       "\t<tr><th></th><th scope=col>&lt;chr&gt;</th><th scope=col>&lt;chr&gt;</th><th scope=col>&lt;int&gt;</th><th scope=col>&lt;int&gt;</th><th scope=col>&lt;dbl&gt;</th><th scope=col>&lt;dbl&gt;</th><th scope=col>&lt;dbl&gt;</th><th scope=col>&lt;dbl&gt;</th><th scope=col>&lt;dbl&gt;</th><th scope=col>&lt;dbl&gt;</th><th scope=col>&lt;dbl&gt;</th><th scope=col>&lt;dbl&gt;</th><th scope=col>&lt;dbl&gt;</th><th scope=col>&lt;dbl&gt;</th></tr>\n",
       "</thead>\n",
       "<tbody>\n",
       "\t<tr><th scope=row>1</th><td>Seurat</td><td>CrossSpecies</td><td>1000</td><td>10</td><td>0.8967136</td><td>0.9707016</td><td>0.5770235</td><td>0.9814916</td><td>0.4283122</td><td>0.9136287</td><td>0.8356643</td><td>0.9361299</td><td>0.7850055</td><td>0.8766966</td></tr>\n",
       "\t<tr><th scope=row>2</th><td>Seurat</td><td>CrossSpecies</td><td>1000</td><td>11</td><td>0.8873239</td><td>0.9622205</td><td>0.6344648</td><td>0.9804028</td><td>0.4773140</td><td>0.9141896</td><td>0.8531469</td><td>0.9023004</td><td>0.8088938</td><td>0.8767603</td></tr>\n",
       "\t<tr><th scope=row>3</th><td>Seurat</td><td>CrossSpecies</td><td>1000</td><td>12</td><td>0.9061033</td><td>0.9683886</td><td>0.5770235</td><td>0.9809472</td><td>0.4718693</td><td>0.8925967</td><td>0.8678322</td><td>0.9263870</td><td>0.7952958</td><td>0.8757408</td></tr>\n",
       "\t<tr><th scope=row>4</th><td>Seurat</td><td>CrossSpecies</td><td>1000</td><td>13</td><td>0.8967136</td><td>0.9699306</td><td>0.6214099</td><td>0.9809472</td><td>0.4246824</td><td>0.9242849</td><td>0.8594406</td><td>0.9334235</td><td>0.8195516</td><td>0.8874657</td></tr>\n",
       "\t<tr><th scope=row>5</th><td>Seurat</td><td>CrossSpecies</td><td>1000</td><td>14</td><td>0.8967136</td><td>0.9614495</td><td>0.6005222</td><td>0.9798585</td><td>0.4555354</td><td>0.9223219</td><td>0.8615385</td><td>0.9361299</td><td>0.7666299</td><td>0.8784171</td></tr>\n",
       "\t<tr><th scope=row>6</th><td>Seurat</td><td>CrossSpecies</td><td>1000</td><td>15</td><td>0.8638498</td><td>0.9714726</td><td>0.6266319</td><td>0.9809472</td><td>0.4410163</td><td>0.9054964</td><td>0.7993007</td><td>0.9328823</td><td>0.8636531</td><td>0.8856178</td></tr>\n",
       "</tbody>\n",
       "</table>\n"
      ],
      "text/latex": [
       "A data.frame: 6 × 14\n",
       "\\begin{tabular}{r|llllllllllllll}\n",
       "  & V1 & V2 & V3 & V4 & V5 & V6 & V7 & V8 & V9 & V10 & V11 & V12 & V13 & V14\\\\\n",
       "  & <chr> & <chr> & <int> & <int> & <dbl> & <dbl> & <dbl> & <dbl> & <dbl> & <dbl> & <dbl> & <dbl> & <dbl> & <dbl>\\\\\n",
       "\\hline\n",
       "\t1 & Seurat & CrossSpecies & 1000 & 10 & 0.8967136 & 0.9707016 & 0.5770235 & 0.9814916 & 0.4283122 & 0.9136287 & 0.8356643 & 0.9361299 & 0.7850055 & 0.8766966\\\\\n",
       "\t2 & Seurat & CrossSpecies & 1000 & 11 & 0.8873239 & 0.9622205 & 0.6344648 & 0.9804028 & 0.4773140 & 0.9141896 & 0.8531469 & 0.9023004 & 0.8088938 & 0.8767603\\\\\n",
       "\t3 & Seurat & CrossSpecies & 1000 & 12 & 0.9061033 & 0.9683886 & 0.5770235 & 0.9809472 & 0.4718693 & 0.8925967 & 0.8678322 & 0.9263870 & 0.7952958 & 0.8757408\\\\\n",
       "\t4 & Seurat & CrossSpecies & 1000 & 13 & 0.8967136 & 0.9699306 & 0.6214099 & 0.9809472 & 0.4246824 & 0.9242849 & 0.8594406 & 0.9334235 & 0.8195516 & 0.8874657\\\\\n",
       "\t5 & Seurat & CrossSpecies & 1000 & 14 & 0.8967136 & 0.9614495 & 0.6005222 & 0.9798585 & 0.4555354 & 0.9223219 & 0.8615385 & 0.9361299 & 0.7666299 & 0.8784171\\\\\n",
       "\t6 & Seurat & CrossSpecies & 1000 & 15 & 0.8638498 & 0.9714726 & 0.6266319 & 0.9809472 & 0.4410163 & 0.9054964 & 0.7993007 & 0.9328823 & 0.8636531 & 0.8856178\\\\\n",
       "\\end{tabular}\n"
      ],
      "text/markdown": [
       "\n",
       "A data.frame: 6 × 14\n",
       "\n",
       "| <!--/--> | V1 &lt;chr&gt; | V2 &lt;chr&gt; | V3 &lt;int&gt; | V4 &lt;int&gt; | V5 &lt;dbl&gt; | V6 &lt;dbl&gt; | V7 &lt;dbl&gt; | V8 &lt;dbl&gt; | V9 &lt;dbl&gt; | V10 &lt;dbl&gt; | V11 &lt;dbl&gt; | V12 &lt;dbl&gt; | V13 &lt;dbl&gt; | V14 &lt;dbl&gt; |\n",
       "|---|---|---|---|---|---|---|---|---|---|---|---|---|---|---|\n",
       "| 1 | Seurat | CrossSpecies | 1000 | 10 | 0.8967136 | 0.9707016 | 0.5770235 | 0.9814916 | 0.4283122 | 0.9136287 | 0.8356643 | 0.9361299 | 0.7850055 | 0.8766966 |\n",
       "| 2 | Seurat | CrossSpecies | 1000 | 11 | 0.8873239 | 0.9622205 | 0.6344648 | 0.9804028 | 0.4773140 | 0.9141896 | 0.8531469 | 0.9023004 | 0.8088938 | 0.8767603 |\n",
       "| 3 | Seurat | CrossSpecies | 1000 | 12 | 0.9061033 | 0.9683886 | 0.5770235 | 0.9809472 | 0.4718693 | 0.8925967 | 0.8678322 | 0.9263870 | 0.7952958 | 0.8757408 |\n",
       "| 4 | Seurat | CrossSpecies | 1000 | 13 | 0.8967136 | 0.9699306 | 0.6214099 | 0.9809472 | 0.4246824 | 0.9242849 | 0.8594406 | 0.9334235 | 0.8195516 | 0.8874657 |\n",
       "| 5 | Seurat | CrossSpecies | 1000 | 14 | 0.8967136 | 0.9614495 | 0.6005222 | 0.9798585 | 0.4555354 | 0.9223219 | 0.8615385 | 0.9361299 | 0.7666299 | 0.8784171 |\n",
       "| 6 | Seurat | CrossSpecies | 1000 | 15 | 0.8638498 | 0.9714726 | 0.6266319 | 0.9809472 | 0.4410163 | 0.9054964 | 0.7993007 | 0.9328823 | 0.8636531 | 0.8856178 |\n",
       "\n"
      ],
      "text/plain": [
       "  V1     V2           V3   V4 V5        V6        V7        V8        V9       \n",
       "1 Seurat CrossSpecies 1000 10 0.8967136 0.9707016 0.5770235 0.9814916 0.4283122\n",
       "2 Seurat CrossSpecies 1000 11 0.8873239 0.9622205 0.6344648 0.9804028 0.4773140\n",
       "3 Seurat CrossSpecies 1000 12 0.9061033 0.9683886 0.5770235 0.9809472 0.4718693\n",
       "4 Seurat CrossSpecies 1000 13 0.8967136 0.9699306 0.6214099 0.9809472 0.4246824\n",
       "5 Seurat CrossSpecies 1000 14 0.8967136 0.9614495 0.6005222 0.9798585 0.4555354\n",
       "6 Seurat CrossSpecies 1000 15 0.8638498 0.9714726 0.6266319 0.9809472 0.4410163\n",
       "  V10       V11       V12       V13       V14      \n",
       "1 0.9136287 0.8356643 0.9361299 0.7850055 0.8766966\n",
       "2 0.9141896 0.8531469 0.9023004 0.8088938 0.8767603\n",
       "3 0.8925967 0.8678322 0.9263870 0.7952958 0.8757408\n",
       "4 0.9242849 0.8594406 0.9334235 0.8195516 0.8874657\n",
       "5 0.9223219 0.8615385 0.9361299 0.7666299 0.8784171\n",
       "6 0.9054964 0.7993007 0.9328823 0.8636531 0.8856178"
      ]
     },
     "metadata": {},
     "output_type": "display_data"
    }
   ],
   "source": [
    "file <- \"../Results/celltypeAccuracies_CrossSpecies.csv\"\n",
    "data <- read.csv(file, header=F)\n",
    "data <- data[data$V1 != \"singleR\",]\n",
    "head(data)\n",
    "write.table(data, file,row.names=F, quote=F, col.names=F, sep=\",\")"
   ]
  },
  {
   "cell_type": "code",
   "execution_count": 18,
   "id": "27cfca38",
   "metadata": {},
   "outputs": [],
   "source": [
    "file <- \"../Results/runtime.txt\"\n",
    "runtime <- read.table(file)\n",
    "runtime <- runtime[runtime$V1 != \"MLP\",]\n",
    "write.table(runtime, file,row.names=F, quote=F, col.names=F, sep=\",\")"
   ]
  },
  {
   "cell_type": "code",
   "execution_count": null,
   "id": "690df762",
   "metadata": {},
   "outputs": [],
   "source": []
  }
 ],
 "metadata": {
  "kernelspec": {
   "display_name": "R",
   "language": "R",
   "name": "ir"
  },
  "language_info": {
   "codemirror_mode": "r",
   "file_extension": ".r",
   "mimetype": "text/x-r-source",
   "name": "R",
   "pygments_lexer": "r",
   "version": "4.1.1"
  }
 },
 "nbformat": 4,
 "nbformat_minor": 5
}
