{
 "cells": [
  {
   "cell_type": "code",
   "execution_count": 1,
   "id": "d66c6cbd",
   "metadata": {},
   "outputs": [],
   "source": [
    "predictions <- read.delim('../Results/azimuth_pred.tsv', row.names = 1)\n",
    "colnames(predictions) <- c(\"prediction\", \"score\", \"mapping_score\")\n",
    "\n",
    "predictions$prediction[stringr::str_detect(predictions$prediction, \"CD8\")] <- \"Cytotoxic T cell\"\n",
    "predictions$prediction[stringr::str_detect(predictions$prediction, \"CD4\")] <- \"CD4+ T cell\"\n",
    "predictions$prediction[stringr::str_detect(predictions$prediction, \"CD14 Mono\")] <- \"CD14+ monocyte\"\n",
    "predictions$prediction[stringr::str_detect(predictions$prediction, \"CD16 Mono\")] <- \"CD16+ monocyte\"\n",
    "predictions$prediction[stringr::str_detect(predictions$prediction, \"NK\")] <- \"Natural killer cell\"\n",
    "predictions$prediction[stringr::str_detect(predictions$prediction, \"cDC\")] <- \"Dendritic cell\"\n",
    "predictions$prediction[stringr::str_detect(predictions$prediction, \"pDC\")] <- \"Plasmacytoid dendritic cell\"\n",
    "predictions$prediction[stringr::str_detect(predictions$prediction, \"B \")] <- \"B cell\"\n",
    "\n",
    "meta <- read.csv(\"../Data/processed/PBMC_mono/meta_test.txt\")\n",
    "rownames(meta) <- meta$id\n",
    "\n",
    "data <- cbind(meta, predictions)\n",
    "data$prediction[!data$prediction %in% data$class_] <- paste0(\"x \", data$prediction[!data$prediction %in% data$class_] )\n",
    "\n",
    "data <- data[with(data, order(class_, prediction)),]\n",
    "write.table(data, \"../Results/azimuth_pred.txt\", sep=\",\", col.names=T, row.names=F, quote=F)"
   ]
  },
  {
   "cell_type": "code",
   "execution_count": 2,
   "id": "270b3f3b",
   "metadata": {},
   "outputs": [
    {
     "data": {
      "text/html": [
       "<table class=\"dataframe\">\n",
       "<caption>A data.frame: 6 × 5</caption>\n",
       "<thead>\n",
       "\t<tr><th></th><th scope=col>id</th><th scope=col>class_</th><th scope=col>prediction</th><th scope=col>score</th><th scope=col>mapping_score</th></tr>\n",
       "\t<tr><th></th><th scope=col>&lt;chr&gt;</th><th scope=col>&lt;chr&gt;</th><th scope=col>&lt;chr&gt;</th><th scope=col>&lt;dbl&gt;</th><th scope=col>&lt;dbl&gt;</th></tr>\n",
       "</thead>\n",
       "<tbody>\n",
       "\t<tr><th scope=row>pbmc1_Drop_AAAATGAAGCCT</th><td>pbmc1_Drop_AAAATGAAGCCT</td><td>B cell</td><td>B cell</td><td>0.4042612</td><td>0.6975520</td></tr>\n",
       "\t<tr><th scope=row>pbmc1_Drop_AAACTCCCAGAT</th><td>pbmc1_Drop_AAACTCCCAGAT</td><td>B cell</td><td>B cell</td><td>0.5000526</td><td>0.7889502</td></tr>\n",
       "\t<tr><th scope=row>pbmc1_Drop_AAAGACATAAGT</th><td>pbmc1_Drop_AAAGACATAAGT</td><td>B cell</td><td>B cell</td><td>0.4863124</td><td>0.8131162</td></tr>\n",
       "\t<tr><th scope=row>pbmc1_Drop_AAATCCGAGCGA</th><td>pbmc1_Drop_AAATCCGAGCGA</td><td>B cell</td><td>B cell</td><td>0.4394500</td><td>0.8096615</td></tr>\n",
       "\t<tr><th scope=row>pbmc1_Drop_AAATCGACGTTC</th><td>pbmc1_Drop_AAATCGACGTTC</td><td>B cell</td><td>B cell</td><td>0.5839915</td><td>0.6402235</td></tr>\n",
       "\t<tr><th scope=row>pbmc1_Drop_AAATGTAATTTG</th><td>pbmc1_Drop_AAATGTAATTTG</td><td>B cell</td><td>B cell</td><td>0.8340687</td><td>0.7957939</td></tr>\n",
       "</tbody>\n",
       "</table>\n"
      ],
      "text/latex": [
       "A data.frame: 6 × 5\n",
       "\\begin{tabular}{r|lllll}\n",
       "  & id & class\\_ & prediction & score & mapping\\_score\\\\\n",
       "  & <chr> & <chr> & <chr> & <dbl> & <dbl>\\\\\n",
       "\\hline\n",
       "\tpbmc1\\_Drop\\_AAAATGAAGCCT & pbmc1\\_Drop\\_AAAATGAAGCCT & B cell & B cell & 0.4042612 & 0.6975520\\\\\n",
       "\tpbmc1\\_Drop\\_AAACTCCCAGAT & pbmc1\\_Drop\\_AAACTCCCAGAT & B cell & B cell & 0.5000526 & 0.7889502\\\\\n",
       "\tpbmc1\\_Drop\\_AAAGACATAAGT & pbmc1\\_Drop\\_AAAGACATAAGT & B cell & B cell & 0.4863124 & 0.8131162\\\\\n",
       "\tpbmc1\\_Drop\\_AAATCCGAGCGA & pbmc1\\_Drop\\_AAATCCGAGCGA & B cell & B cell & 0.4394500 & 0.8096615\\\\\n",
       "\tpbmc1\\_Drop\\_AAATCGACGTTC & pbmc1\\_Drop\\_AAATCGACGTTC & B cell & B cell & 0.5839915 & 0.6402235\\\\\n",
       "\tpbmc1\\_Drop\\_AAATGTAATTTG & pbmc1\\_Drop\\_AAATGTAATTTG & B cell & B cell & 0.8340687 & 0.7957939\\\\\n",
       "\\end{tabular}\n"
      ],
      "text/markdown": [
       "\n",
       "A data.frame: 6 × 5\n",
       "\n",
       "| <!--/--> | id &lt;chr&gt; | class_ &lt;chr&gt; | prediction &lt;chr&gt; | score &lt;dbl&gt; | mapping_score &lt;dbl&gt; |\n",
       "|---|---|---|---|---|---|\n",
       "| pbmc1_Drop_AAAATGAAGCCT | pbmc1_Drop_AAAATGAAGCCT | B cell | B cell | 0.4042612 | 0.6975520 |\n",
       "| pbmc1_Drop_AAACTCCCAGAT | pbmc1_Drop_AAACTCCCAGAT | B cell | B cell | 0.5000526 | 0.7889502 |\n",
       "| pbmc1_Drop_AAAGACATAAGT | pbmc1_Drop_AAAGACATAAGT | B cell | B cell | 0.4863124 | 0.8131162 |\n",
       "| pbmc1_Drop_AAATCCGAGCGA | pbmc1_Drop_AAATCCGAGCGA | B cell | B cell | 0.4394500 | 0.8096615 |\n",
       "| pbmc1_Drop_AAATCGACGTTC | pbmc1_Drop_AAATCGACGTTC | B cell | B cell | 0.5839915 | 0.6402235 |\n",
       "| pbmc1_Drop_AAATGTAATTTG | pbmc1_Drop_AAATGTAATTTG | B cell | B cell | 0.8340687 | 0.7957939 |\n",
       "\n"
      ],
      "text/plain": [
       "                        id                      class_ prediction score    \n",
       "pbmc1_Drop_AAAATGAAGCCT pbmc1_Drop_AAAATGAAGCCT B cell B cell     0.4042612\n",
       "pbmc1_Drop_AAACTCCCAGAT pbmc1_Drop_AAACTCCCAGAT B cell B cell     0.5000526\n",
       "pbmc1_Drop_AAAGACATAAGT pbmc1_Drop_AAAGACATAAGT B cell B cell     0.4863124\n",
       "pbmc1_Drop_AAATCCGAGCGA pbmc1_Drop_AAATCCGAGCGA B cell B cell     0.4394500\n",
       "pbmc1_Drop_AAATCGACGTTC pbmc1_Drop_AAATCGACGTTC B cell B cell     0.5839915\n",
       "pbmc1_Drop_AAATGTAATTTG pbmc1_Drop_AAATGTAATTTG B cell B cell     0.8340687\n",
       "                        mapping_score\n",
       "pbmc1_Drop_AAAATGAAGCCT 0.6975520    \n",
       "pbmc1_Drop_AAACTCCCAGAT 0.7889502    \n",
       "pbmc1_Drop_AAAGACATAAGT 0.8131162    \n",
       "pbmc1_Drop_AAATCCGAGCGA 0.8096615    \n",
       "pbmc1_Drop_AAATCGACGTTC 0.6402235    \n",
       "pbmc1_Drop_AAATGTAATTTG 0.7957939    "
      ]
     },
     "metadata": {},
     "output_type": "display_data"
    },
    {
     "data": {
      "text/html": [
       "<style>\n",
       ".list-inline {list-style: none; margin:0; padding: 0}\n",
       ".list-inline>li {display: inline-block}\n",
       ".list-inline>li:not(:last-child)::after {content: \"\\00b7\"; padding: 0 .5ex}\n",
       "</style>\n",
       "<ol class=list-inline><li>'B cell'</li><li>'CD14+ monocyte'</li><li>'CD16+ monocyte'</li><li>'CD4+ T cell'</li><li>'Cytotoxic T cell'</li><li>'Dendritic cell'</li><li>'Megakaryocyte'</li><li>'Natural killer cell'</li><li>'Plasmacytoid dendritic cell'</li></ol>\n"
      ],
      "text/latex": [
       "\\begin{enumerate*}\n",
       "\\item 'B cell'\n",
       "\\item 'CD14+ monocyte'\n",
       "\\item 'CD16+ monocyte'\n",
       "\\item 'CD4+ T cell'\n",
       "\\item 'Cytotoxic T cell'\n",
       "\\item 'Dendritic cell'\n",
       "\\item 'Megakaryocyte'\n",
       "\\item 'Natural killer cell'\n",
       "\\item 'Plasmacytoid dendritic cell'\n",
       "\\end{enumerate*}\n"
      ],
      "text/markdown": [
       "1. 'B cell'\n",
       "2. 'CD14+ monocyte'\n",
       "3. 'CD16+ monocyte'\n",
       "4. 'CD4+ T cell'\n",
       "5. 'Cytotoxic T cell'\n",
       "6. 'Dendritic cell'\n",
       "7. 'Megakaryocyte'\n",
       "8. 'Natural killer cell'\n",
       "9. 'Plasmacytoid dendritic cell'\n",
       "\n",
       "\n"
      ],
      "text/plain": [
       "[1] \"B cell\"                      \"CD14+ monocyte\"             \n",
       "[3] \"CD16+ monocyte\"              \"CD4+ T cell\"                \n",
       "[5] \"Cytotoxic T cell\"            \"Dendritic cell\"             \n",
       "[7] \"Megakaryocyte\"               \"Natural killer cell\"        \n",
       "[9] \"Plasmacytoid dendritic cell\""
      ]
     },
     "metadata": {},
     "output_type": "display_data"
    },
    {
     "data": {
      "text/html": [
       "<style>\n",
       ".list-inline {list-style: none; margin:0; padding: 0}\n",
       ".list-inline>li {display: inline-block}\n",
       ".list-inline>li:not(:last-child)::after {content: \"\\00b7\"; padding: 0 .5ex}\n",
       "</style>\n",
       "<ol class=list-inline><li>'B cell'</li><li>'CD14+ monocyte'</li><li>'CD16+ monocyte'</li><li>'CD4+ T cell'</li><li>'Cytotoxic T cell'</li><li>'Dendritic cell'</li><li>'Natural killer cell'</li><li>'Plasmacytoid dendritic cell'</li><li>'x dnT'</li><li>'x Eryth'</li><li>'x gdT'</li><li>'x HSPC'</li><li>'x ILC'</li><li>'x MAIT'</li><li>'x Plasmablast'</li><li>'x Platelet'</li><li>'x Treg'</li></ol>\n"
      ],
      "text/latex": [
       "\\begin{enumerate*}\n",
       "\\item 'B cell'\n",
       "\\item 'CD14+ monocyte'\n",
       "\\item 'CD16+ monocyte'\n",
       "\\item 'CD4+ T cell'\n",
       "\\item 'Cytotoxic T cell'\n",
       "\\item 'Dendritic cell'\n",
       "\\item 'Natural killer cell'\n",
       "\\item 'Plasmacytoid dendritic cell'\n",
       "\\item 'x dnT'\n",
       "\\item 'x Eryth'\n",
       "\\item 'x gdT'\n",
       "\\item 'x HSPC'\n",
       "\\item 'x ILC'\n",
       "\\item 'x MAIT'\n",
       "\\item 'x Plasmablast'\n",
       "\\item 'x Platelet'\n",
       "\\item 'x Treg'\n",
       "\\end{enumerate*}\n"
      ],
      "text/markdown": [
       "1. 'B cell'\n",
       "2. 'CD14+ monocyte'\n",
       "3. 'CD16+ monocyte'\n",
       "4. 'CD4+ T cell'\n",
       "5. 'Cytotoxic T cell'\n",
       "6. 'Dendritic cell'\n",
       "7. 'Natural killer cell'\n",
       "8. 'Plasmacytoid dendritic cell'\n",
       "9. 'x dnT'\n",
       "10. 'x Eryth'\n",
       "11. 'x gdT'\n",
       "12. 'x HSPC'\n",
       "13. 'x ILC'\n",
       "14. 'x MAIT'\n",
       "15. 'x Plasmablast'\n",
       "16. 'x Platelet'\n",
       "17. 'x Treg'\n",
       "\n",
       "\n"
      ],
      "text/plain": [
       " [1] \"B cell\"                      \"CD14+ monocyte\"             \n",
       " [3] \"CD16+ monocyte\"              \"CD4+ T cell\"                \n",
       " [5] \"Cytotoxic T cell\"            \"Dendritic cell\"             \n",
       " [7] \"Natural killer cell\"         \"Plasmacytoid dendritic cell\"\n",
       " [9] \"x dnT\"                       \"x Eryth\"                    \n",
       "[11] \"x gdT\"                       \"x HSPC\"                     \n",
       "[13] \"x ILC\"                       \"x MAIT\"                     \n",
       "[15] \"x Plasmablast\"               \"x Platelet\"                 \n",
       "[17] \"x Treg\"                     "
      ]
     },
     "metadata": {},
     "output_type": "display_data"
    }
   ],
   "source": [
    "head(data)\n",
    "sort(unique(data$class_))\n",
    "sort(unique(data$prediction))"
   ]
  },
  {
   "cell_type": "code",
   "execution_count": 3,
   "id": "6f54ccb5",
   "metadata": {},
   "outputs": [
    {
     "data": {
      "text/html": [
       "0.758657351154314"
      ],
      "text/latex": [
       "0.758657351154314"
      ],
      "text/markdown": [
       "0.758657351154314"
      ],
      "text/plain": [
       "[1] 0.7586574"
      ]
     },
     "metadata": {},
     "output_type": "display_data"
    }
   ],
   "source": [
    "sum(data$prediction == data$class_, na.rm = T) / nrow(data)\n"
   ]
  },
  {
   "cell_type": "code",
   "execution_count": 4,
   "id": "1780d038",
   "metadata": {},
   "outputs": [
    {
     "data": {
      "text/html": [
       "<style>\n",
       ".list-inline {list-style: none; margin:0; padding: 0}\n",
       ".list-inline>li {display: inline-block}\n",
       ".list-inline>li:not(:last-child)::after {content: \"\\00b7\"; padding: 0 .5ex}\n",
       "</style>\n",
       "<ol class=list-inline><li>'B cell'</li><li>'CD14+ monocyte'</li><li>'CD16+ monocyte'</li><li>'CD4+ T cell'</li><li>'Cytotoxic T cell'</li><li>'Dendritic cell'</li><li>'Megakaryocyte'</li><li>'Natural killer cell'</li><li>'Plasmacytoid dendritic cell'</li></ol>\n"
      ],
      "text/latex": [
       "\\begin{enumerate*}\n",
       "\\item 'B cell'\n",
       "\\item 'CD14+ monocyte'\n",
       "\\item 'CD16+ monocyte'\n",
       "\\item 'CD4+ T cell'\n",
       "\\item 'Cytotoxic T cell'\n",
       "\\item 'Dendritic cell'\n",
       "\\item 'Megakaryocyte'\n",
       "\\item 'Natural killer cell'\n",
       "\\item 'Plasmacytoid dendritic cell'\n",
       "\\end{enumerate*}\n"
      ],
      "text/markdown": [
       "1. 'B cell'\n",
       "2. 'CD14+ monocyte'\n",
       "3. 'CD16+ monocyte'\n",
       "4. 'CD4+ T cell'\n",
       "5. 'Cytotoxic T cell'\n",
       "6. 'Dendritic cell'\n",
       "7. 'Megakaryocyte'\n",
       "8. 'Natural killer cell'\n",
       "9. 'Plasmacytoid dendritic cell'\n",
       "\n",
       "\n"
      ],
      "text/plain": [
       "[1] \"B cell\"                      \"CD14+ monocyte\"             \n",
       "[3] \"CD16+ monocyte\"              \"CD4+ T cell\"                \n",
       "[5] \"Cytotoxic T cell\"            \"Dendritic cell\"             \n",
       "[7] \"Megakaryocyte\"               \"Natural killer cell\"        \n",
       "[9] \"Plasmacytoid dendritic cell\""
      ]
     },
     "metadata": {},
     "output_type": "display_data"
    },
    {
     "data": {
      "text/html": [
       "<style>\n",
       ".dl-inline {width: auto; margin:0; padding: 0}\n",
       ".dl-inline>dt, .dl-inline>dd {float: none; width: auto; display: inline-block}\n",
       ".dl-inline>dt::after {content: \":\\0020\"; padding-right: .5ex}\n",
       ".dl-inline>dt:not(:first-of-type) {padding-left: .5ex}\n",
       "</style><dl class=dl-inline><dt>B cell</dt><dd>0.921708185053381</dd><dt>CD14+ monocyte</dt><dd>0.131652661064426</dd><dt>CD16+ monocyte</dt><dd>0.570707070707071</dd><dt>CD4+ T cell</dt><dd>0.770499757399321</dd><dt>Cytotoxic T cell</dt><dd>0.738624873609707</dd><dt>Dendritic cell</dt><dd>0.717391304347826</dd><dt>Megakaryocyte</dt><dd>0</dd><dt>Natural killer cell</dt><dd>0.892561983471074</dd><dt>Plasmacytoid dendritic cell</dt><dd>0.928571428571429</dd></dl>\n"
      ],
      "text/latex": [
       "\\begin{description*}\n",
       "\\item[B cell] 0.921708185053381\n",
       "\\item[CD14+ monocyte] 0.131652661064426\n",
       "\\item[CD16+ monocyte] 0.570707070707071\n",
       "\\item[CD4+ T cell] 0.770499757399321\n",
       "\\item[Cytotoxic T cell] 0.738624873609707\n",
       "\\item[Dendritic cell] 0.717391304347826\n",
       "\\item[Megakaryocyte] 0\n",
       "\\item[Natural killer cell] 0.892561983471074\n",
       "\\item[Plasmacytoid dendritic cell] 0.928571428571429\n",
       "\\end{description*}\n"
      ],
      "text/markdown": [
       "B cell\n",
       ":   0.921708185053381CD14+ monocyte\n",
       ":   0.131652661064426CD16+ monocyte\n",
       ":   0.570707070707071CD4+ T cell\n",
       ":   0.770499757399321Cytotoxic T cell\n",
       ":   0.738624873609707Dendritic cell\n",
       ":   0.717391304347826Megakaryocyte\n",
       ":   0Natural killer cell\n",
       ":   0.892561983471074Plasmacytoid dendritic cell\n",
       ":   0.928571428571429\n",
       "\n"
      ],
      "text/plain": [
       "                     B cell              CD14+ monocyte \n",
       "                  0.9217082                   0.1316527 \n",
       "             CD16+ monocyte                 CD4+ T cell \n",
       "                  0.5707071                   0.7704998 \n",
       "           Cytotoxic T cell              Dendritic cell \n",
       "                  0.7386249                   0.7173913 \n",
       "              Megakaryocyte         Natural killer cell \n",
       "                  0.0000000                   0.8925620 \n",
       "Plasmacytoid dendritic cell \n",
       "                  0.9285714 "
      ]
     },
     "metadata": {},
     "output_type": "display_data"
    }
   ],
   "source": [
    "classes <- unique(data$class_)\n",
    "classes\n",
    "\n",
    "accuracies <- unlist(lapply(classes, function(class) sum(data$prediction[data$class_ == class] == class, na.rm = T) / nrow(data[data$class_ == class,])))\n",
    "names(accuracies) <- classes\n",
    "accuracies "
   ]
  },
  {
   "cell_type": "code",
   "execution_count": 5,
   "id": "6a10b7e0",
   "metadata": {},
   "outputs": [
    {
     "name": "stderr",
     "output_type": "stream",
     "text": [
      "Attaching SeuratObject\n",
      "\n",
      "Warning message:\n",
      "“package ‘dplyr’ was built under R version 4.1.2”\n",
      "\n",
      "Attaching package: ‘dplyr’\n",
      "\n",
      "\n",
      "The following objects are masked from ‘package:stats’:\n",
      "\n",
      "    filter, lag\n",
      "\n",
      "\n",
      "The following objects are masked from ‘package:base’:\n",
      "\n",
      "    intersect, setdiff, setequal, union\n",
      "\n",
      "\n",
      "Loading required package: viridisLite\n",
      "\n",
      "\n",
      "Attaching package: ‘docstring’\n",
      "\n",
      "\n",
      "The following object is masked from ‘package:utils’:\n",
      "\n",
      "    ?\n",
      "\n",
      "\n"
     ]
    }
   ],
   "source": [
    "library(Seurat)\n",
    "library(dplyr)\n",
    "library(ggplot2)\n",
    "library(viridis)\n",
    "source(\"../Scripts/functions.R\")\n",
    "source(\"../Scripts/plots.r\")\n",
    "options(repr.plot.width=10, repr.plot.height=5)\n",
    "\n",
    "output <- \"../Results/\"\n",
    "test   <- read.csv(\"../Results/celltypeAccuracies_PBMC.csv\", header = F)\n",
    "\n",
    "celltypes <- c('B cell','CD14+ monocyte','CD16+ monocyte','CD4+ T cell','Cytotoxic T cell','Dendritic cell',\n",
    "               'Megakaryocyte', 'Natural killer cell','Plasmacytoid dendritic cell')\n",
    "steps <-  c(42)\n",
    "colnames(test) <- c(\"Method\", \"Version\", \"CellsPerCelltype\", \"SetNr\", celltypes)\n",
    "test <- test[!(duplicated(test)),]"
   ]
  },
  {
   "cell_type": "code",
   "execution_count": 6,
   "id": "d5076354",
   "metadata": {},
   "outputs": [
    {
     "name": "stderr",
     "output_type": "stream",
     "text": [
      "No id variables; using all as measure variables\n",
      "\n"
     ]
    },
    {
     "data": {
      "text/html": [
       "<table class=\"dataframe\">\n",
       "<caption>A data.frame: 6 × 2</caption>\n",
       "<thead>\n",
       "\t<tr><th></th><th scope=col>variable</th><th scope=col>value</th></tr>\n",
       "\t<tr><th></th><th scope=col>&lt;fct&gt;</th><th scope=col>&lt;dbl&gt;</th></tr>\n",
       "</thead>\n",
       "<tbody>\n",
       "\t<tr><th scope=row>1</th><td>B cell</td><td>0.9672598</td></tr>\n",
       "\t<tr><th scope=row>2</th><td>B cell</td><td>0.9829181</td></tr>\n",
       "\t<tr><th scope=row>3</th><td>B cell</td><td>0.9665480</td></tr>\n",
       "\t<tr><th scope=row>4</th><td>B cell</td><td>0.9772242</td></tr>\n",
       "\t<tr><th scope=row>5</th><td>B cell</td><td>0.9736655</td></tr>\n",
       "\t<tr><th scope=row>6</th><td>B cell</td><td>0.9729537</td></tr>\n",
       "</tbody>\n",
       "</table>\n"
      ],
      "text/latex": [
       "A data.frame: 6 × 2\n",
       "\\begin{tabular}{r|ll}\n",
       "  & variable & value\\\\\n",
       "  & <fct> & <dbl>\\\\\n",
       "\\hline\n",
       "\t1 & B cell & 0.9672598\\\\\n",
       "\t2 & B cell & 0.9829181\\\\\n",
       "\t3 & B cell & 0.9665480\\\\\n",
       "\t4 & B cell & 0.9772242\\\\\n",
       "\t5 & B cell & 0.9736655\\\\\n",
       "\t6 & B cell & 0.9729537\\\\\n",
       "\\end{tabular}\n"
      ],
      "text/markdown": [
       "\n",
       "A data.frame: 6 × 2\n",
       "\n",
       "| <!--/--> | variable &lt;fct&gt; | value &lt;dbl&gt; |\n",
       "|---|---|---|\n",
       "| 1 | B cell | 0.9672598 |\n",
       "| 2 | B cell | 0.9829181 |\n",
       "| 3 | B cell | 0.9665480 |\n",
       "| 4 | B cell | 0.9772242 |\n",
       "| 5 | B cell | 0.9736655 |\n",
       "| 6 | B cell | 0.9729537 |\n",
       "\n"
      ],
      "text/plain": [
       "  variable value    \n",
       "1 B cell   0.9672598\n",
       "2 B cell   0.9829181\n",
       "3 B cell   0.9665480\n",
       "4 B cell   0.9772242\n",
       "5 B cell   0.9736655\n",
       "6 B cell   0.9729537"
      ]
     },
     "metadata": {},
     "output_type": "display_data"
    }
   ],
   "source": [
    "seurat <- reshape2::melt(test[test$Method ==\"Seurat\" & test$CellsPerCelltype == 42,celltypes])\n",
    "head(seurat)"
   ]
  },
  {
   "cell_type": "code",
   "execution_count": 7,
   "id": "02651504",
   "metadata": {},
   "outputs": [
    {
     "data": {
      "text/html": [
       "<table class=\"dataframe\">\n",
       "<caption>A data.frame: 9 × 2</caption>\n",
       "<thead>\n",
       "\t<tr><th></th><th scope=col>accuracies</th><th scope=col>variable</th></tr>\n",
       "\t<tr><th></th><th scope=col>&lt;dbl&gt;</th><th scope=col>&lt;chr&gt;</th></tr>\n",
       "</thead>\n",
       "<tbody>\n",
       "\t<tr><th scope=row>B cell</th><td>0.9217082</td><td>B cell                     </td></tr>\n",
       "\t<tr><th scope=row>CD14+ monocyte</th><td>0.1316527</td><td>CD14+ monocyte             </td></tr>\n",
       "\t<tr><th scope=row>CD16+ monocyte</th><td>0.5707071</td><td>CD16+ monocyte             </td></tr>\n",
       "\t<tr><th scope=row>CD4+ T cell</th><td>0.7704998</td><td>CD4+ T cell                </td></tr>\n",
       "\t<tr><th scope=row>Cytotoxic T cell</th><td>0.7386249</td><td>Cytotoxic T cell           </td></tr>\n",
       "\t<tr><th scope=row>Dendritic cell</th><td>0.7173913</td><td>Dendritic cell             </td></tr>\n",
       "\t<tr><th scope=row>Megakaryocyte</th><td>0.0000000</td><td>Megakaryocyte              </td></tr>\n",
       "\t<tr><th scope=row>Natural killer cell</th><td>0.8925620</td><td>Natural killer cell        </td></tr>\n",
       "\t<tr><th scope=row>Plasmacytoid dendritic cell</th><td>0.9285714</td><td>Plasmacytoid dendritic cell</td></tr>\n",
       "</tbody>\n",
       "</table>\n"
      ],
      "text/latex": [
       "A data.frame: 9 × 2\n",
       "\\begin{tabular}{r|ll}\n",
       "  & accuracies & variable\\\\\n",
       "  & <dbl> & <chr>\\\\\n",
       "\\hline\n",
       "\tB cell & 0.9217082 & B cell                     \\\\\n",
       "\tCD14+ monocyte & 0.1316527 & CD14+ monocyte             \\\\\n",
       "\tCD16+ monocyte & 0.5707071 & CD16+ monocyte             \\\\\n",
       "\tCD4+ T cell & 0.7704998 & CD4+ T cell                \\\\\n",
       "\tCytotoxic T cell & 0.7386249 & Cytotoxic T cell           \\\\\n",
       "\tDendritic cell & 0.7173913 & Dendritic cell             \\\\\n",
       "\tMegakaryocyte & 0.0000000 & Megakaryocyte              \\\\\n",
       "\tNatural killer cell & 0.8925620 & Natural killer cell        \\\\\n",
       "\tPlasmacytoid dendritic cell & 0.9285714 & Plasmacytoid dendritic cell\\\\\n",
       "\\end{tabular}\n"
      ],
      "text/markdown": [
       "\n",
       "A data.frame: 9 × 2\n",
       "\n",
       "| <!--/--> | accuracies &lt;dbl&gt; | variable &lt;chr&gt; |\n",
       "|---|---|---|\n",
       "| B cell | 0.9217082 | B cell                      |\n",
       "| CD14+ monocyte | 0.1316527 | CD14+ monocyte              |\n",
       "| CD16+ monocyte | 0.5707071 | CD16+ monocyte              |\n",
       "| CD4+ T cell | 0.7704998 | CD4+ T cell                 |\n",
       "| Cytotoxic T cell | 0.7386249 | Cytotoxic T cell            |\n",
       "| Dendritic cell | 0.7173913 | Dendritic cell              |\n",
       "| Megakaryocyte | 0.0000000 | Megakaryocyte               |\n",
       "| Natural killer cell | 0.8925620 | Natural killer cell         |\n",
       "| Plasmacytoid dendritic cell | 0.9285714 | Plasmacytoid dendritic cell |\n",
       "\n"
      ],
      "text/plain": [
       "                            accuracies variable                   \n",
       "B cell                      0.9217082  B cell                     \n",
       "CD14+ monocyte              0.1316527  CD14+ monocyte             \n",
       "CD16+ monocyte              0.5707071  CD16+ monocyte             \n",
       "CD4+ T cell                 0.7704998  CD4+ T cell                \n",
       "Cytotoxic T cell            0.7386249  Cytotoxic T cell           \n",
       "Dendritic cell              0.7173913  Dendritic cell             \n",
       "Megakaryocyte               0.0000000  Megakaryocyte              \n",
       "Natural killer cell         0.8925620  Natural killer cell        \n",
       "Plasmacytoid dendritic cell 0.9285714  Plasmacytoid dendritic cell"
      ]
     },
     "metadata": {},
     "output_type": "display_data"
    }
   ],
   "source": [
    "azimuth <- data.frame(accuracies)\n",
    "azimuth$variable <- rownames(azimuth)\n",
    "azimuth"
   ]
  },
  {
   "cell_type": "code",
   "execution_count": 19,
   "id": "31fa5077",
   "metadata": {},
   "outputs": [
    {
     "name": "stderr",
     "output_type": "stream",
     "text": [
      "Warning message:\n",
      "“position_dodge requires non-overlapping x intervals”\n"
     ]
    },
    {
     "data": {
      "image/png": "[encoded data removed]",
      "text/plain": [
       "plot without title"
      ]
     },
     "metadata": {
      "image/png": {
       "height": 300,
       "width": 600
      }
     },
     "output_type": "display_data"
    }
   ],
   "source": [
    "ggplot(seurat, aes(variable, value))+geom_violin(width=1.5)+theme_minimal() + geom_boxplot(width=0.2, alpha=0.5)+\n",
    "geom_point(data = azimuth, aes(variable, accuracies), color=\"blue\", size=3)+\n",
    "        xlab(NULL) + ylab(\"Accuracy\") + ylim(0,1) + \n",
    "        theme( axis.text.y=element_text(size=6), axis.title=element_text(size=8),\n",
    "              axis.text.x=element_text(size=6, angle=20),\n",
    "              legend.position = \"bottom\", legend.key.size = unit(0.5,\"line\")) "
   ]
  },
  {
   "cell_type": "code",
   "execution_count": null,
   "id": "741733c1",
   "metadata": {},
   "outputs": [],
   "source": []
  }
 ],
 "metadata": {
  "kernelspec": {
   "display_name": "R",
   "language": "R",
   "name": "ir"
  },
  "language_info": {
   "codemirror_mode": "r",
   "file_extension": ".r",
   "mimetype": "text/x-r-source",
   "name": "R",
   "pygments_lexer": "r",
   "version": "4.1.1"
  }
 },
 "nbformat": 4,
 "nbformat_minor": 5
}
