{
 "cells": [
  {
   "cell_type": "code",
   "execution_count": null,
   "id": "eaabff56",
   "metadata": {},
   "outputs": [],
   "source": [
    "library(Seurat)\n",
    "library(dplyr)\n",
    "library(ggplot2)\n",
    "library(viridis)\n",
    "source(\"../Scripts/functions.R\")\n",
    "source(\"../Scripts/plots.r\")\n",
    "options(repr.plot.width=10, repr.plot.height=10)"
   ]
  },
  {
   "cell_type": "markdown",
   "id": "1720a1d0",
   "metadata": {},
   "source": [
    "# Get Figure 2 an"
   ]
  },
  {
   "cell_type": "code",
   "execution_count": null,
   "id": "ad546169",
   "metadata": {},
   "outputs": [],
   "source": [
    "umap <- as.data.frame(data.table::fread(\"../Results/umap_PBMC.csv\",sep = \",\", verbose = F))\n",
    "tech_full <- read.csv(\"../Data/raw/PBMC/meta.txt\", sep=\"\\t\")\n",
    "file_train <- \"../Data/processed/PBMC_Mosaic/data_train.txt\"\n",
    "file_test <-  \"../Data/processed/PBMC_mono/data_test.txt\"\n",
    "data_train <- readData(file_train)\n",
    "data_test  <- readData(file_test)\n",
    "output <- \"../Results/\""
   ]
  },
  {
   "cell_type": "code",
   "execution_count": null,
   "id": "44cc0918",
   "metadata": {},
   "outputs": [],
   "source": [
    "tech <- tech_full[,c(\"NAME\", \"Method\",\"CellType\", \"Experiment\")]\n",
    "tech = tech[-1,]\n",
    "colnames(tech) <- c(\"id\", \"tech\", \"class\", \"experiment\")\n",
    "rownames(tech) <- tech$id\n",
    "tech$set <- interaction(tech$experiment, tech$tech)\n",
    "\n",
    "tech$type[tech$id %in% colnames(data_train)] <- \"train\"\n",
    "tech$type[tech$id %in% colnames(data_test)] <- \"test\"\n",
    "tech <- tech[!(is.na(tech$type)),]\n",
    "\n",
    "umap[umap==TRUE]<-1\n",
    "umap[is.na(umap)]<- 0"
   ]
  },
  {
   "cell_type": "code",
   "execution_count": null,
   "id": "30dbbdd3",
   "metadata": {},
   "outputs": [],
   "source": [
    "predictions <- merge(umap, tech, by=\"id\", all.y = T)\n",
    "rownames(predictions) <- predictions$id\n",
    "methods <- c(\"Seurat\", \"SCN\", \"CellID\", \"ItClust\", \"MLP\", \"SingleR\")\n",
    "versions <- c(\"Mosaic\", \"Mono\")\n",
    "\n",
    "for(method in methods){\n",
    "    for(version in versions){\n",
    "        if(version==\"Mono\") size = 100\n",
    "        if(version==\"Mosaic\") size =136\n",
    "        predictions <- get_percentage_predictions(predictions,version, method, size)\n",
    "    }\n",
    "}"
   ]
  },
  {
   "cell_type": "code",
   "execution_count": null,
   "id": "7cb47b69",
   "metadata": {},
   "outputs": [],
   "source": [
    "pbmc.integrated <- prepare_umap(file_train = file_train,file_test = file_test, meta_data = predictions, split = \"set\")"
   ]
  },
  {
   "cell_type": "code",
   "execution_count": null,
   "id": "55137883",
   "metadata": {},
   "outputs": [],
   "source": [
    "cells <- predictions$id[predictions$type==\"test\"]\n",
    "f2A <- plot_umap(pbmc.integrated, c(\"class\"), NULL, \"Spectral\",1,1, cells )\n",
    "f2A"
   ]
  },
  {
   "cell_type": "code",
   "execution_count": null,
   "id": "74d41d0e",
   "metadata": {},
   "outputs": [],
   "source": [
    "cells_train <- predictions$id[predictions$type==\"train\"]\n",
    "f2B <- plot_umap(pbmc.integrated, c(\"class\"), NULL, \"Spectral\",1,1, cells_train )\n",
    "f2B"
   ]
  },
  {
   "cell_type": "code",
   "execution_count": null,
   "id": "00c9dd8f",
   "metadata": {},
   "outputs": [],
   "source": [
    "f2AB <- ggpubr::ggarrange(f2A,f2B, common.legend = T, nrow=1, labels=c(\"A\", \"B\"),font.label = list(size = 8))\n",
    "f2AB"
   ]
  },
  {
   "cell_type": "code",
   "execution_count": null,
   "id": "f5d03188",
   "metadata": {},
   "outputs": [],
   "source": [
    "leg <- ggpubr::get_legend(FeaturePlot(pbmc.integrated, reduction=\"umap\", features=paste0(\"Mono_Seurat\"),\n",
    "                                      cols=viridis(101), cells = cells) + \n",
    "                        theme(legend.text=element_text(size=4), legend.position=\"bottom\", legend.title=element_text(size=6),\n",
    "                              rect = element_rect(fill = \"white\")) +\n",
    "                          labs(color=\"Percentage of correct predictions\"))\n",
    "\n",
    "\n",
    "\n",
    "predictionUMAPs <-lapply(methods, function(method)plot_features(pbmc.integrated, method,cells, c(\"Mono_\", \"Mosaic_\"), c(\"Mono\", \"Mosaic\")))\n",
    "names(predictionUMAPs) <- methods                      \n",
    "                  \n",
    "f2CG <- ggpubr::ggarrange(ggpubr::ggarrange(plotlist=c(predictionUMAPs, leg), ncol=2,nrow=3,\n",
    "                                                           labels=c(\"C) Seurat\", \"D) SCN\", \"E) CellID\", \"F) ItClust\", \"G) MLP \"),\n",
    "                                                           font.label = list(size = 8)))     \n",
    "#ggplot2::ggsave(paste0(output, \"f3_mosaic.png\"), plot=predictionUMAPsPlot, device = \"png\",\n",
    "#                dpi=350, width=178, height = 160,units = \"mm\",bg = \"white\")\n",
    "f2CG"
   ]
  },
  {
   "cell_type": "code",
   "execution_count": null,
   "id": "b1f56de2",
   "metadata": {},
   "outputs": [],
   "source": [
    "f2 <- ggpubr::ggarrange(f2AB,f2CG, common.legend = F, nrow=2, height=c(1,3),font.label = list(size = 8))\n",
    "ggplot2::ggsave(paste0(output, \"f2_mosaic.png\"), plot=f2, device = \"png\", dpi=350, width=178, height = 160,units = \"mm\",bg = \"white\")\n",
    "f2"
   ]
  },
  {
   "cell_type": "code",
   "execution_count": null,
   "id": "bb8befd1",
   "metadata": {},
   "outputs": [],
   "source": []
  }
 ],
 "metadata": {
  "kernelspec": {
   "display_name": "R",
   "language": "R",
   "name": "ir"
  },
  "language_info": {
   "codemirror_mode": "r",
   "file_extension": ".r",
   "mimetype": "text/x-r-source",
   "name": "R",
   "pygments_lexer": "r",
   "version": "4.1.1"
  }
 },
 "nbformat": 4,
 "nbformat_minor": 5
}
