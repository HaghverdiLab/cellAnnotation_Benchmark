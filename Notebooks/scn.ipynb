{
 "cells": [
  {
   "cell_type": "code",
   "execution_count": 1,
   "id": "8490cf89",
   "metadata": {},
   "outputs": [
    {
     "name": "stderr",
     "output_type": "stream",
     "text": [
      "Loading required package: ggplot2\n",
      "\n",
      "Loading required package: dplyr\n",
      "\n",
      "Warning message:\n",
      "“package ‘dplyr’ was built under R version 4.1.2”\n",
      "\n",
      "Attaching package: ‘dplyr’\n",
      "\n",
      "\n",
      "The following objects are masked from ‘package:stats’:\n",
      "\n",
      "    filter, lag\n",
      "\n",
      "\n",
      "The following objects are masked from ‘package:base’:\n",
      "\n",
      "    intersect, setdiff, setequal, union\n",
      "\n",
      "\n",
      "Loading required package: pheatmap\n",
      "\n",
      "Loading required package: reshape2\n",
      "\n",
      "Loading required package: cowplot\n",
      "\n",
      "\n",
      "Attaching package: ‘docstring’\n",
      "\n",
      "\n",
      "The following object is masked from ‘package:utils’:\n",
      "\n",
      "    ?\n",
      "\n",
      "\n",
      "Warning message in data.table::fread(data, sep = \",\", verbose = F):\n",
      "“Detected 842 column names but the data has 843 columns (i.e. invalid file). Added 1 extra default column name for the first column which is guessed to be row names or an index. Use setnames() afterwards if this guess is not correct, or fix the file write command that created the file to create a valid file.”\n",
      "Warning message in data.table::fread(data, sep = \",\", verbose = F):\n",
      "“Detected 6584 column names but the data has 6585 columns (i.e. invalid file). Added 1 extra default column name for the first column which is guessed to be row names or an index. Use setnames() afterwards if this guess is not correct, or fix the file write command that created the file to create a valid file.”\n"
     ]
    }
   ],
   "source": [
    "library(singleCellNet)\n",
    "source(\"/fast/AG_Haghverdi/Carla_Moelbert/Benchmarking_TrainingDataSelection/Scripts/functions.R\")\n",
    "folder <- \"../Data/subsets/Mono_100_1/\"\n",
    "\n",
    "data <- readData(paste(sep=\"/\", folder, \"data_train.txt\"))\n",
    "data <- data[rowSums(data)>=5,]\n",
    "meta <- read.csv(paste(sep=\"/\",folder, \"meta_train.txt\"))\n",
    "\n",
    "test <- readData(paste(sep=\"/\", \"../Data/processed/PBMC_mono/\", \"data_test.txt\"))\n",
    "meta_test <- read.csv(paste(sep=\"/\", \"../Data/processed/PBMC_mono/\", \"meta_test.txt\")) \n"
   ]
  },
  {
   "cell_type": "code",
   "execution_count": 10,
   "id": "3ddb4372",
   "metadata": {},
   "outputs": [
    {
     "data": {
      "text/html": [
       "100"
      ],
      "text/latex": [
       "100"
      ],
      "text/markdown": [
       "100"
      ],
      "text/plain": [
       "[1] 100"
      ]
     },
     "metadata": {},
     "output_type": "display_data"
    }
   ],
   "source": [
    "ncells <- as.numeric(stringr::str_split(\"Mono_100_1\",pattern=\"_\", simplify = T)[2])\n",
    "ncells"
   ]
  },
  {
   "cell_type": "code",
   "execution_count": 16,
   "id": "f85eb3aa",
   "metadata": {},
   "outputs": [],
   "source": [
    "commonGenes = intersect(rownames(data), rownames(test))\n",
    "\n",
    "dataSub = data[commonGenes,]"
   ]
  },
  {
   "cell_type": "code",
   "execution_count": 12,
   "id": "adda9dd1",
   "metadata": {},
   "outputs": [
    {
     "name": "stdout",
     "output_type": "stream",
     "text": [
      "Cytotoxic T cell : 100 \n",
      "CD14+ monocyte : 100 \n",
      "CD16+ monocyte : 100 \n",
      "B cell : 100 \n",
      "CD4+ T cell : 100 \n",
      "Megakaryocyte : 100 \n",
      "Plasmacytoid dendritic cell : Category Plasmacytoid dendritic cell has 42 samples. Note this category has a samller number than ncells. 42 \n",
      "Dendritic cell : 100 \n",
      "Natural killer cell : 100 \n"
     ]
    }
   ],
   "source": [
    "set.seed(100) #can be any random seed number\n",
    "stList = splitCommon(sampTab=meta, ncells=ncells, dLevel=\"class_\")\n",
    "stTrain = stList[[1]]\n",
    "\n",
    "dataSub = data[,stTrain$id]"
   ]
  },
  {
   "cell_type": "code",
   "execution_count": 23,
   "id": "9242d86e",
   "metadata": {},
   "outputs": [
    {
     "data": {
      "text/plain": [
       "\n",
       "                     B cell              CD14+ monocyte \n",
       "                        100                         100 \n",
       "             CD16+ monocyte                 CD4+ T cell \n",
       "                        100                         100 \n",
       "           Cytotoxic T cell              Dendritic cell \n",
       "                        100                         100 \n",
       "              Megakaryocyte         Natural killer cell \n",
       "                        100                         100 \n",
       "Plasmacytoid dendritic cell \n",
       "                         42 "
      ]
     },
     "metadata": {},
     "output_type": "display_data"
    },
    {
     "data": {
      "text/plain": [
       "\n",
       "                     B cell              CD14+ monocyte \n",
       "                         97                          97 \n",
       "             CD16+ monocyte                 CD4+ T cell \n",
       "                         97                          97 \n",
       "           Cytotoxic T cell              Dendritic cell \n",
       "                         97                          97 \n",
       "              Megakaryocyte         Natural killer cell \n",
       "                         97                          97 \n",
       "Plasmacytoid dendritic cell \n",
       "                         39 "
      ]
     },
     "metadata": {},
     "output_type": "display_data"
    }
   ],
   "source": [
    "table(meta$class_)\n",
    "table(stTrain$class_)"
   ]
  },
  {
   "cell_type": "code",
   "execution_count": 18,
   "id": "367dbcf6",
   "metadata": {},
   "outputs": [
    {
     "name": "stdout",
     "output_type": "stream",
     "text": [
      "Sample table has been prepared\n",
      "Expression data has been normalized\n",
      "Finding classification genes\n",
      "Done testing\n",
      "There are  118  classification genes\n",
      "Finding top pairs\n",
      "nPairs =  190  for  Cytotoxic T cell \n",
      "nPairs =  190  for  CD14+ monocyte \n",
      "nPairs =  190  for  CD16+ monocyte \n",
      "nPairs =  190  for  B cell \n",
      "nPairs =  190  for  CD4+ T cell \n",
      "nPairs =  190  for  Megakaryocyte \n",
      "nPairs =  190  for  Plasmacytoid dendritic cell \n",
      "nPairs =  190  for  Dendritic cell \n",
      "nPairs =  190  for  Natural killer cell \n",
      "There are 223 top gene pairs\n",
      "Finished pair transforming the data\n",
      "Number of missing genes  0 \n",
      "All Done\n"
     ]
    }
   ],
   "source": [
    "class_info<-scn_train(stTrain =meta, expTrain = as.matrix(dataSub), nTopGenes = 10, nRand = 100, nTrees = 1000, \n",
    "                      nTopGenePairs = 25, dLevel = \"class_\", colName_samp = \"id\")\n",
    "\n"
   ]
  },
  {
   "cell_type": "code",
   "execution_count": 19,
   "id": "0d0c65f5",
   "metadata": {},
   "outputs": [
    {
     "name": "stdout",
     "output_type": "stream",
     "text": [
      "Loaded in the cnProc\n",
      "All Done\n"
     ]
    }
   ],
   "source": [
    "#validate data\n",
    "#stTestList = splitCommon(sampTab=test, ncells=100, dLevel=\"class_\") #normalize validation data so that the assessment is as fair as possible\n",
    "#stTest = stTestList[[1]]\n",
    "#expTest = data[commonGenes,stTest$id]\n",
    "\n",
    "#predict\n",
    "classRes_val_all = scn_predict(cnProc=class_info[['cnProc']], expDat=test, nrand = 50)"
   ]
  },
  {
   "cell_type": "code",
   "execution_count": 20,
   "id": "57c2cfb0",
   "metadata": {},
   "outputs": [
    {
     "name": "stderr",
     "output_type": "stream",
     "text": [
      "Warning message in regularize.values(x, y, ties, missing(ties), na.rm = na.rm):\n",
      "“collapsing to unique 'x' values”\n",
      "Warning message in regularize.values(x, y, ties, missing(ties), na.rm = na.rm):\n",
      "“collapsing to unique 'x' values”\n",
      "Warning message in regularize.values(x, y, ties, missing(ties), na.rm = na.rm):\n",
      "“collapsing to unique 'x' values”\n",
      "Warning message in regularize.values(x, y, ties, missing(ties), na.rm = na.rm):\n",
      "“collapsing to unique 'x' values”\n",
      "Warning message in regularize.values(x, y, ties, missing(ties), na.rm = na.rm):\n",
      "“collapsing to unique 'x' values”\n",
      "Warning message in regularize.values(x, y, ties, missing(ties), na.rm = na.rm):\n",
      "“collapsing to unique 'x' values”\n",
      "Warning message in regularize.values(x, y, ties, missing(ties), na.rm = na.rm):\n",
      "“collapsing to unique 'x' values”\n",
      "Warning message in regularize.values(x, y, ties, missing(ties), na.rm = na.rm):\n",
      "“collapsing to unique 'x' values”\n",
      "Warning message in regularize.values(x, y, ties, missing(ties), na.rm = na.rm):\n",
      "“collapsing to unique 'x' values”\n"
     ]
    },
    {
     "data": {
      "text/html": [
       "0.302230931564667"
      ],
      "text/latex": [
       "0.302230931564667"
      ],
      "text/markdown": [
       "0.302230931564667"
      ],
      "text/plain": [
       "[1] 0.3022309"
      ]
     },
     "metadata": {},
     "output_type": "display_data"
    },
    {
     "data": {
      "image/png": "[encoded data removed]",
      "text/plain": [
       "plot without title"
      ]
     },
     "metadata": {
      "image/png": {
       "height": 420,
       "width": 420
      }
     },
     "output_type": "display_data"
    }
   ],
   "source": [
    "tm_heldoutassessment = assess_comm(ct_scores = classRes_val_all, stTrain = meta, stQuery = meta_test,\n",
    "                                   dLevelSID = \"id\", classTrain = \"class_\", classQuery = \"class_\", nRand = 50)\n",
    "tm_heldoutassessment$accuracy\n",
    "plot_PRs(tm_heldoutassessment)"
   ]
  },
  {
   "cell_type": "code",
   "execution_count": 13,
   "id": "9ad2be2b",
   "metadata": {},
   "outputs": [
    {
     "ename": "ERROR",
     "evalue": "Error in p1 | p4: operations are possible only for numeric, logical or complex types\n",
     "output_type": "error",
     "traceback": [
      "Error in p1 | p4: operations are possible only for numeric, logical or complex types\nTraceback:\n",
      "1. plot_metrics(tm_heldoutassessment)"
     ]
    }
   ],
   "source": [
    "plot_metrics(tm_heldoutassessment)"
   ]
  },
  {
   "cell_type": "code",
   "execution_count": null,
   "id": "e6212b65",
   "metadata": {},
   "outputs": [],
   "source": [
    "print(\"-------------------\")\n",
    "nqRand = 50\n",
    "predictions <-t(scn_predict(class_info[['cnProc']], test, nrand=nqRand))\n",
    "\n",
    "predicted <- colnames(predictions)[apply(predictions,1,which.max)]\n",
    "names(predicted)<- rownames(predictions)\n",
    "\n",
    "\n",
    "x <- as.data.frame(predicted)\n",
    "\n",
    "x$id <- rownames(x)\n",
    "\n",
    "results <- merge(x, meta_test, by=\"id\", all = T)\n",
    "\n",
    "results$prediction.match <- results$predicted == results$class_\n",
    "head(results)\n",
    "\n",
    "write.table(results[,c(\"id\",\"class_\", \"predicted\", \"prediction.match\")], paste0(output,\".txt\") ,sep=\"\\t\", quote=F)"
   ]
  },
  {
   "cell_type": "code",
   "execution_count": null,
   "id": "706f9372",
   "metadata": {},
   "outputs": [],
   "source": []
  }
 ],
 "metadata": {
  "kernelspec": {
   "display_name": "R",
   "language": "R",
   "name": "ir"
  },
  "language_info": {
   "codemirror_mode": "r",
   "file_extension": ".r",
   "mimetype": "text/x-r-source",
   "name": "R",
   "pygments_lexer": "r",
   "version": "4.1.1"
  }
 },
 "nbformat": 4,
 "nbformat_minor": 5
}
